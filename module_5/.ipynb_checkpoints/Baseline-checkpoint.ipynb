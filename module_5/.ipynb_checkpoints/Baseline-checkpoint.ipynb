{
 "cells": [
  {
   "cell_type": "code",
   "execution_count": 330,
   "metadata": {},
   "outputs": [],
   "source": [
    "import pandas as pd\n",
    "import numpy as np\n",
    "\n",
    "\n",
    "import matplotlib.pyplot as plt\n",
    "import seaborn as sns\n",
    "\n",
    "from sklearn.feature_selection import f_classif, mutual_info_classif\n",
    "from sklearn.preprocessing import LabelEncoder, OneHotEncoder, StandardScaler\n",
    "\n",
    "from sklearn.model_selection import train_test_split\n",
    "from sklearn.linear_model import LogisticRegression\n",
    "from sklearn.linear_model import LinearRegression\n",
    "from sklearn.neighbors import KNeighborsClassifier\n",
    "from sklearn.tree import DecisionTreeClassifier\n",
    "\n",
    "\n",
    "from sklearn.metrics import confusion_matrix\n",
    "from sklearn.metrics import auc, roc_auc_score, roc_curve, f1_score"
   ]
  },
  {
   "cell_type": "code",
   "execution_count": 316,
   "metadata": {},
   "outputs": [],
   "source": [
    "data = pd.read_csv('train.csv')"
   ]
  },
  {
   "cell_type": "code",
   "execution_count": 317,
   "metadata": {},
   "outputs": [
    {
     "data": {
      "text/html": [
       "<div>\n",
       "<style scoped>\n",
       "    .dataframe tbody tr th:only-of-type {\n",
       "        vertical-align: middle;\n",
       "    }\n",
       "\n",
       "    .dataframe tbody tr th {\n",
       "        vertical-align: top;\n",
       "    }\n",
       "\n",
       "    .dataframe thead th {\n",
       "        text-align: right;\n",
       "    }\n",
       "</style>\n",
       "<table border=\"1\" class=\"dataframe\">\n",
       "  <thead>\n",
       "    <tr style=\"text-align: right;\">\n",
       "      <th></th>\n",
       "      <th>client_id</th>\n",
       "      <th>education</th>\n",
       "      <th>sex</th>\n",
       "      <th>age</th>\n",
       "      <th>car</th>\n",
       "      <th>car_type</th>\n",
       "      <th>decline_app_cnt</th>\n",
       "      <th>good_work</th>\n",
       "      <th>bki_request_cnt</th>\n",
       "      <th>home_address</th>\n",
       "      <th>work_address</th>\n",
       "      <th>income</th>\n",
       "      <th>foreign_passport</th>\n",
       "      <th>default</th>\n",
       "    </tr>\n",
       "  </thead>\n",
       "  <tbody>\n",
       "    <tr>\n",
       "      <th>26898</th>\n",
       "      <td>97294</td>\n",
       "      <td>SCH</td>\n",
       "      <td>M</td>\n",
       "      <td>54</td>\n",
       "      <td>Y</td>\n",
       "      <td>N</td>\n",
       "      <td>0</td>\n",
       "      <td>0</td>\n",
       "      <td>0</td>\n",
       "      <td>2</td>\n",
       "      <td>3</td>\n",
       "      <td>25000</td>\n",
       "      <td>N</td>\n",
       "      <td>0</td>\n",
       "    </tr>\n",
       "    <tr>\n",
       "      <th>47265</th>\n",
       "      <td>106815</td>\n",
       "      <td>SCH</td>\n",
       "      <td>F</td>\n",
       "      <td>38</td>\n",
       "      <td>N</td>\n",
       "      <td>N</td>\n",
       "      <td>0</td>\n",
       "      <td>0</td>\n",
       "      <td>0</td>\n",
       "      <td>2</td>\n",
       "      <td>3</td>\n",
       "      <td>30000</td>\n",
       "      <td>Y</td>\n",
       "      <td>0</td>\n",
       "    </tr>\n",
       "    <tr>\n",
       "      <th>11402</th>\n",
       "      <td>29386</td>\n",
       "      <td>SCH</td>\n",
       "      <td>M</td>\n",
       "      <td>26</td>\n",
       "      <td>N</td>\n",
       "      <td>N</td>\n",
       "      <td>0</td>\n",
       "      <td>0</td>\n",
       "      <td>1</td>\n",
       "      <td>1</td>\n",
       "      <td>1</td>\n",
       "      <td>45000</td>\n",
       "      <td>N</td>\n",
       "      <td>1</td>\n",
       "    </tr>\n",
       "    <tr>\n",
       "      <th>11379</th>\n",
       "      <td>14085</td>\n",
       "      <td>SCH</td>\n",
       "      <td>M</td>\n",
       "      <td>44</td>\n",
       "      <td>Y</td>\n",
       "      <td>Y</td>\n",
       "      <td>0</td>\n",
       "      <td>0</td>\n",
       "      <td>2</td>\n",
       "      <td>2</td>\n",
       "      <td>3</td>\n",
       "      <td>90000</td>\n",
       "      <td>N</td>\n",
       "      <td>0</td>\n",
       "    </tr>\n",
       "    <tr>\n",
       "      <th>63767</th>\n",
       "      <td>21578</td>\n",
       "      <td>SCH</td>\n",
       "      <td>F</td>\n",
       "      <td>45</td>\n",
       "      <td>N</td>\n",
       "      <td>N</td>\n",
       "      <td>0</td>\n",
       "      <td>0</td>\n",
       "      <td>0</td>\n",
       "      <td>1</td>\n",
       "      <td>2</td>\n",
       "      <td>26500</td>\n",
       "      <td>N</td>\n",
       "      <td>0</td>\n",
       "    </tr>\n",
       "  </tbody>\n",
       "</table>\n",
       "</div>"
      ],
      "text/plain": [
       "       client_id education sex  age car car_type  decline_app_cnt  good_work  \\\n",
       "26898      97294       SCH   M   54   Y        N                0          0   \n",
       "47265     106815       SCH   F   38   N        N                0          0   \n",
       "11402      29386       SCH   M   26   N        N                0          0   \n",
       "11379      14085       SCH   M   44   Y        Y                0          0   \n",
       "63767      21578       SCH   F   45   N        N                0          0   \n",
       "\n",
       "       bki_request_cnt  home_address  work_address  income foreign_passport  \\\n",
       "26898                0             2             3   25000                N   \n",
       "47265                0             2             3   30000                Y   \n",
       "11402                1             1             1   45000                N   \n",
       "11379                2             2             3   90000                N   \n",
       "63767                0             1             2   26500                N   \n",
       "\n",
       "       default  \n",
       "26898        0  \n",
       "47265        0  \n",
       "11402        1  \n",
       "11379        0  \n",
       "63767        0  "
      ]
     },
     "execution_count": 317,
     "metadata": {},
     "output_type": "execute_result"
    }
   ],
   "source": [
    "data.sample(5)"
   ]
  },
  {
   "cell_type": "code",
   "execution_count": 318,
   "metadata": {},
   "outputs": [
    {
     "name": "stdout",
     "output_type": "stream",
     "text": [
      "<class 'pandas.core.frame.DataFrame'>\n",
      "RangeIndex: 73799 entries, 0 to 73798\n",
      "Data columns (total 14 columns):\n",
      " #   Column            Non-Null Count  Dtype \n",
      "---  ------            --------------  ----- \n",
      " 0   client_id         73799 non-null  int64 \n",
      " 1   education         73492 non-null  object\n",
      " 2   sex               73799 non-null  object\n",
      " 3   age               73799 non-null  int64 \n",
      " 4   car               73799 non-null  object\n",
      " 5   car_type          73799 non-null  object\n",
      " 6   decline_app_cnt   73799 non-null  int64 \n",
      " 7   good_work         73799 non-null  int64 \n",
      " 8   bki_request_cnt   73799 non-null  int64 \n",
      " 9   home_address      73799 non-null  int64 \n",
      " 10  work_address      73799 non-null  int64 \n",
      " 11  income            73799 non-null  int64 \n",
      " 12  foreign_passport  73799 non-null  object\n",
      " 13  default           73799 non-null  int64 \n",
      "dtypes: int64(9), object(5)\n",
      "memory usage: 7.9+ MB\n"
     ]
    }
   ],
   "source": [
    "#1\n",
    "data.info()"
   ]
  },
  {
   "cell_type": "code",
   "execution_count": 319,
   "metadata": {
    "scrolled": true
   },
   "outputs": [
    {
     "data": {
      "text/plain": [
       "<seaborn.axisgrid.FacetGrid at 0x7f9a6ce93880>"
      ]
     },
     "execution_count": 319,
     "metadata": {},
     "output_type": "execute_result"
    },
    {
     "data": {
      "image/png": "[encoded data removed]",
      "text/plain": [
       "<Figure size 360x360 with 1 Axes>"
      ]
     },
     "metadata": {
      "needs_background": "light"
     },
     "output_type": "display_data"
    }
   ],
   "source": [
    "#2\n",
    "sns.catplot(data = data,  x = 'default', kind = 'count')"
   ]
  },
  {
   "cell_type": "markdown",
   "metadata": {},
   "source": [
    "## Education - filling NaN - values"
   ]
  },
  {
   "cell_type": "code",
   "execution_count": 320,
   "metadata": {},
   "outputs": [
    {
     "data": {
      "text/plain": [
       "<seaborn.axisgrid.FacetGrid at 0x7f9a5a43a340>"
      ]
     },
     "execution_count": 320,
     "metadata": {},
     "output_type": "execute_result"
    },
    {
     "data": {
      "image/png": "[encoded data removed]",
      "text/plain": [
       "<Figure size 360x360 with 1 Axes>"
      ]
     },
     "metadata": {
      "needs_background": "light"
     },
     "output_type": "display_data"
    }
   ],
   "source": [
    "sns.catplot(data = data,  x = 'education', kind = 'count')"
   ]
  },
  {
   "cell_type": "code",
   "execution_count": 321,
   "metadata": {},
   "outputs": [
    {
     "data": {
      "text/plain": [
       "<seaborn.axisgrid.FacetGrid at 0x7f9a6cbac850>"
      ]
     },
     "execution_count": 321,
     "metadata": {},
     "output_type": "execute_result"
    },
    {
     "data": {
      "image/png": "[encoded data removed]",
      "text/plain": [
       "<Figure size 360x360 with 1 Axes>"
      ]
     },
     "metadata": {
      "needs_background": "light"
     },
     "output_type": "display_data"
    }
   ],
   "source": [
    "sns.catplot(data = data,  x = 'education', y = 'income', kind = 'bar')"
   ]
  },
  {
   "cell_type": "code",
   "execution_count": 322,
   "metadata": {},
   "outputs": [
    {
     "data": {
      "text/plain": [
       "<matplotlib.axes._subplots.AxesSubplot at 0x7f9a5deae310>"
      ]
     },
     "execution_count": 322,
     "metadata": {},
     "output_type": "execute_result"
    },
    {
     "data": {
      "image/png": "[encoded data removed]",
      "text/plain": [
       "<Figure size 432x288 with 1 Axes>"
      ]
     },
     "metadata": {
      "needs_background": "light"
     },
     "output_type": "display_data"
    }
   ],
   "source": [
    "sns.boxplot(data = data,  x = 'education', y = 'income')"
   ]
  },
  {
   "cell_type": "markdown",
   "metadata": {},
   "source": [
    "SCH = school /\n",
    "UGR = undergraduate /\n",
    "GRD = graduate /\n",
    "PGR = postgraduate /\n",
    "ACD = advanced college degree"
   ]
  },
  {
   "cell_type": "code",
   "execution_count": 323,
   "metadata": {},
   "outputs": [
    {
     "data": {
      "text/plain": [
       "count        307.000000\n",
       "mean       44558.231270\n",
       "std        68497.981737\n",
       "min         5000.000000\n",
       "25%        20000.000000\n",
       "50%        30000.000000\n",
       "75%        48500.000000\n",
       "max      1000000.000000\n",
       "Name: income, dtype: float64"
      ]
     },
     "execution_count": 323,
     "metadata": {},
     "output_type": "execute_result"
    }
   ],
   "source": [
    "data[data.education.isna()].income.describe()"
   ]
  },
  {
   "cell_type": "code",
   "execution_count": 324,
   "metadata": {},
   "outputs": [
    {
     "data": {
      "text/plain": [
       "<matplotlib.axes._subplots.AxesSubplot at 0x7f9a5cbfb940>"
      ]
     },
     "execution_count": 324,
     "metadata": {},
     "output_type": "execute_result"
    },
    {
     "data": {
      "image/png": "[encoded data removed]",
      "text/plain": [
       "<Figure size 432x288 with 1 Axes>"
      ]
     },
     "metadata": {
      "needs_background": "light"
     },
     "output_type": "display_data"
    }
   ],
   "source": [
    "data_help2 = data.copy()\n",
    "data_help2.education.fillna('X', inplace=True)\n",
    "sns.boxplot(data = data_help2,  x = 'education', y = 'income')"
   ]
  },
  {
   "cell_type": "code",
   "execution_count": 325,
   "metadata": {
    "scrolled": true
   },
   "outputs": [
    {
     "data": {
      "text/html": [
       "<div>\n",
       "<style scoped>\n",
       "    .dataframe tbody tr th:only-of-type {\n",
       "        vertical-align: middle;\n",
       "    }\n",
       "\n",
       "    .dataframe tbody tr th {\n",
       "        vertical-align: top;\n",
       "    }\n",
       "\n",
       "    .dataframe thead th {\n",
       "        text-align: right;\n",
       "    }\n",
       "</style>\n",
       "<table border=\"1\" class=\"dataframe\">\n",
       "  <thead>\n",
       "    <tr style=\"text-align: right;\">\n",
       "      <th></th>\n",
       "      <th>client_id</th>\n",
       "      <th>education</th>\n",
       "      <th>age</th>\n",
       "      <th>decline_app_cnt</th>\n",
       "      <th>good_work</th>\n",
       "      <th>bki_request_cnt</th>\n",
       "      <th>home_address</th>\n",
       "      <th>work_address</th>\n",
       "      <th>income</th>\n",
       "      <th>default</th>\n",
       "    </tr>\n",
       "  </thead>\n",
       "  <tbody>\n",
       "    <tr>\n",
       "      <th>client_id</th>\n",
       "      <td>1.000000</td>\n",
       "      <td>0.040353</td>\n",
       "      <td>0.015435</td>\n",
       "      <td>-0.021417</td>\n",
       "      <td>0.004749</td>\n",
       "      <td>-0.029028</td>\n",
       "      <td>0.165555</td>\n",
       "      <td>0.165777</td>\n",
       "      <td>-0.000099</td>\n",
       "      <td>-0.039242</td>\n",
       "    </tr>\n",
       "    <tr>\n",
       "      <th>education</th>\n",
       "      <td>0.040353</td>\n",
       "      <td>1.000000</td>\n",
       "      <td>-0.127841</td>\n",
       "      <td>-0.030331</td>\n",
       "      <td>0.179605</td>\n",
       "      <td>0.034959</td>\n",
       "      <td>0.001018</td>\n",
       "      <td>-0.000281</td>\n",
       "      <td>0.243999</td>\n",
       "      <td>-0.085033</td>\n",
       "    </tr>\n",
       "    <tr>\n",
       "      <th>age</th>\n",
       "      <td>0.015435</td>\n",
       "      <td>-0.127841</td>\n",
       "      <td>1.000000</td>\n",
       "      <td>-0.111175</td>\n",
       "      <td>-0.076158</td>\n",
       "      <td>0.046265</td>\n",
       "      <td>0.010392</td>\n",
       "      <td>-0.006299</td>\n",
       "      <td>-0.018900</td>\n",
       "      <td>-0.025004</td>\n",
       "    </tr>\n",
       "    <tr>\n",
       "      <th>decline_app_cnt</th>\n",
       "      <td>-0.021417</td>\n",
       "      <td>-0.030331</td>\n",
       "      <td>-0.111175</td>\n",
       "      <td>1.000000</td>\n",
       "      <td>-0.027359</td>\n",
       "      <td>0.155894</td>\n",
       "      <td>0.012530</td>\n",
       "      <td>0.016234</td>\n",
       "      <td>-0.021687</td>\n",
       "      <td>0.113682</td>\n",
       "    </tr>\n",
       "    <tr>\n",
       "      <th>good_work</th>\n",
       "      <td>0.004749</td>\n",
       "      <td>0.179605</td>\n",
       "      <td>-0.076158</td>\n",
       "      <td>-0.027359</td>\n",
       "      <td>1.000000</td>\n",
       "      <td>0.005738</td>\n",
       "      <td>-0.003624</td>\n",
       "      <td>-0.008535</td>\n",
       "      <td>0.022705</td>\n",
       "      <td>-0.043361</td>\n",
       "    </tr>\n",
       "    <tr>\n",
       "      <th>bki_request_cnt</th>\n",
       "      <td>-0.029028</td>\n",
       "      <td>0.034959</td>\n",
       "      <td>0.046265</td>\n",
       "      <td>0.155894</td>\n",
       "      <td>0.005738</td>\n",
       "      <td>1.000000</td>\n",
       "      <td>0.008183</td>\n",
       "      <td>0.005553</td>\n",
       "      <td>0.082983</td>\n",
       "      <td>0.078242</td>\n",
       "    </tr>\n",
       "    <tr>\n",
       "      <th>home_address</th>\n",
       "      <td>0.165555</td>\n",
       "      <td>0.001018</td>\n",
       "      <td>0.010392</td>\n",
       "      <td>0.012530</td>\n",
       "      <td>-0.003624</td>\n",
       "      <td>0.008183</td>\n",
       "      <td>1.000000</td>\n",
       "      <td>0.728139</td>\n",
       "      <td>0.038343</td>\n",
       "      <td>0.084637</td>\n",
       "    </tr>\n",
       "    <tr>\n",
       "      <th>work_address</th>\n",
       "      <td>0.165777</td>\n",
       "      <td>-0.000281</td>\n",
       "      <td>-0.006299</td>\n",
       "      <td>0.016234</td>\n",
       "      <td>-0.008535</td>\n",
       "      <td>0.005553</td>\n",
       "      <td>0.728139</td>\n",
       "      <td>1.000000</td>\n",
       "      <td>0.049721</td>\n",
       "      <td>0.081582</td>\n",
       "    </tr>\n",
       "    <tr>\n",
       "      <th>income</th>\n",
       "      <td>-0.000099</td>\n",
       "      <td>0.243999</td>\n",
       "      <td>-0.018900</td>\n",
       "      <td>-0.021687</td>\n",
       "      <td>0.022705</td>\n",
       "      <td>0.082983</td>\n",
       "      <td>0.038343</td>\n",
       "      <td>0.049721</td>\n",
       "      <td>1.000000</td>\n",
       "      <td>-0.039752</td>\n",
       "    </tr>\n",
       "    <tr>\n",
       "      <th>default</th>\n",
       "      <td>-0.039242</td>\n",
       "      <td>-0.085033</td>\n",
       "      <td>-0.025004</td>\n",
       "      <td>0.113682</td>\n",
       "      <td>-0.043361</td>\n",
       "      <td>0.078242</td>\n",
       "      <td>0.084637</td>\n",
       "      <td>0.081582</td>\n",
       "      <td>-0.039752</td>\n",
       "      <td>1.000000</td>\n",
       "    </tr>\n",
       "  </tbody>\n",
       "</table>\n",
       "</div>"
      ],
      "text/plain": [
       "                 client_id  education       age  decline_app_cnt  good_work  \\\n",
       "client_id         1.000000   0.040353  0.015435        -0.021417   0.004749   \n",
       "education         0.040353   1.000000 -0.127841        -0.030331   0.179605   \n",
       "age               0.015435  -0.127841  1.000000        -0.111175  -0.076158   \n",
       "decline_app_cnt  -0.021417  -0.030331 -0.111175         1.000000  -0.027359   \n",
       "good_work         0.004749   0.179605 -0.076158        -0.027359   1.000000   \n",
       "bki_request_cnt  -0.029028   0.034959  0.046265         0.155894   0.005738   \n",
       "home_address      0.165555   0.001018  0.010392         0.012530  -0.003624   \n",
       "work_address      0.165777  -0.000281 -0.006299         0.016234  -0.008535   \n",
       "income           -0.000099   0.243999 -0.018900        -0.021687   0.022705   \n",
       "default          -0.039242  -0.085033 -0.025004         0.113682  -0.043361   \n",
       "\n",
       "                 bki_request_cnt  home_address  work_address    income  \\\n",
       "client_id              -0.029028      0.165555      0.165777 -0.000099   \n",
       "education               0.034959      0.001018     -0.000281  0.243999   \n",
       "age                     0.046265      0.010392     -0.006299 -0.018900   \n",
       "decline_app_cnt         0.155894      0.012530      0.016234 -0.021687   \n",
       "good_work               0.005738     -0.003624     -0.008535  0.022705   \n",
       "bki_request_cnt         1.000000      0.008183      0.005553  0.082983   \n",
       "home_address            0.008183      1.000000      0.728139  0.038343   \n",
       "work_address            0.005553      0.728139      1.000000  0.049721   \n",
       "income                  0.082983      0.038343      0.049721  1.000000   \n",
       "default                 0.078242      0.084637      0.081582 -0.039752   \n",
       "\n",
       "                  default  \n",
       "client_id       -0.039242  \n",
       "education       -0.085033  \n",
       "age             -0.025004  \n",
       "decline_app_cnt  0.113682  \n",
       "good_work       -0.043361  \n",
       "bki_request_cnt  0.078242  \n",
       "home_address     0.084637  \n",
       "work_address     0.081582  \n",
       "income          -0.039752  \n",
       "default          1.000000  "
      ]
     },
     "execution_count": 325,
     "metadata": {},
     "output_type": "execute_result"
    }
   ],
   "source": [
    "data_help1 = data.copy()\n",
    "mapping_dict = {'SCH': 1, 'UGR': 2, 'GRD':3, 'PGR':4, 'ACD':5}\n",
    "data_help1['education'] = data_help1.education.map(mapping_dict)\n",
    "data_help1.corr()"
   ]
  },
  {
   "cell_type": "code",
   "execution_count": 326,
   "metadata": {},
   "outputs": [
    {
     "data": {
      "text/html": [
       "<div>\n",
       "<style scoped>\n",
       "    .dataframe tbody tr th:only-of-type {\n",
       "        vertical-align: middle;\n",
       "    }\n",
       "\n",
       "    .dataframe tbody tr th {\n",
       "        vertical-align: top;\n",
       "    }\n",
       "\n",
       "    .dataframe thead th {\n",
       "        text-align: right;\n",
       "    }\n",
       "</style>\n",
       "<table border=\"1\" class=\"dataframe\">\n",
       "  <thead>\n",
       "    <tr style=\"text-align: right;\">\n",
       "      <th></th>\n",
       "      <th>client_id</th>\n",
       "      <th>education</th>\n",
       "      <th>sex</th>\n",
       "      <th>age</th>\n",
       "      <th>car</th>\n",
       "      <th>car_type</th>\n",
       "      <th>decline_app_cnt</th>\n",
       "      <th>good_work</th>\n",
       "      <th>bki_request_cnt</th>\n",
       "      <th>home_address</th>\n",
       "      <th>work_address</th>\n",
       "      <th>income</th>\n",
       "      <th>foreign_passport</th>\n",
       "      <th>default</th>\n",
       "    </tr>\n",
       "  </thead>\n",
       "  <tbody>\n",
       "    <tr>\n",
       "      <th>client_id</th>\n",
       "      <td>1.000000</td>\n",
       "      <td>0.040353</td>\n",
       "      <td>-0.032146</td>\n",
       "      <td>0.015435</td>\n",
       "      <td>-0.022068</td>\n",
       "      <td>-0.027254</td>\n",
       "      <td>-0.021417</td>\n",
       "      <td>0.004749</td>\n",
       "      <td>-0.029028</td>\n",
       "      <td>0.165555</td>\n",
       "      <td>0.165777</td>\n",
       "      <td>-0.000099</td>\n",
       "      <td>-0.014598</td>\n",
       "      <td>-0.039242</td>\n",
       "    </tr>\n",
       "    <tr>\n",
       "      <th>education</th>\n",
       "      <td>0.040353</td>\n",
       "      <td>1.000000</td>\n",
       "      <td>0.041101</td>\n",
       "      <td>-0.127841</td>\n",
       "      <td>0.139488</td>\n",
       "      <td>0.186332</td>\n",
       "      <td>-0.030331</td>\n",
       "      <td>0.179605</td>\n",
       "      <td>0.034959</td>\n",
       "      <td>0.001018</td>\n",
       "      <td>-0.000281</td>\n",
       "      <td>0.243999</td>\n",
       "      <td>0.182153</td>\n",
       "      <td>-0.085033</td>\n",
       "    </tr>\n",
       "    <tr>\n",
       "      <th>sex</th>\n",
       "      <td>-0.032146</td>\n",
       "      <td>0.041101</td>\n",
       "      <td>1.000000</td>\n",
       "      <td>-0.136296</td>\n",
       "      <td>0.279488</td>\n",
       "      <td>0.225578</td>\n",
       "      <td>0.020880</td>\n",
       "      <td>-0.040247</td>\n",
       "      <td>-0.044374</td>\n",
       "      <td>0.037607</td>\n",
       "      <td>0.068967</td>\n",
       "      <td>0.192098</td>\n",
       "      <td>0.086326</td>\n",
       "      <td>0.019619</td>\n",
       "    </tr>\n",
       "    <tr>\n",
       "      <th>age</th>\n",
       "      <td>0.015435</td>\n",
       "      <td>-0.127841</td>\n",
       "      <td>-0.136296</td>\n",
       "      <td>1.000000</td>\n",
       "      <td>-0.053257</td>\n",
       "      <td>-0.048755</td>\n",
       "      <td>-0.111175</td>\n",
       "      <td>-0.076158</td>\n",
       "      <td>0.046265</td>\n",
       "      <td>0.010392</td>\n",
       "      <td>-0.006299</td>\n",
       "      <td>-0.018900</td>\n",
       "      <td>-0.042663</td>\n",
       "      <td>-0.025004</td>\n",
       "    </tr>\n",
       "    <tr>\n",
       "      <th>car</th>\n",
       "      <td>-0.022068</td>\n",
       "      <td>0.139488</td>\n",
       "      <td>0.279488</td>\n",
       "      <td>-0.053257</td>\n",
       "      <td>1.000000</td>\n",
       "      <td>0.697939</td>\n",
       "      <td>-0.033059</td>\n",
       "      <td>0.002027</td>\n",
       "      <td>-0.028256</td>\n",
       "      <td>-0.025240</td>\n",
       "      <td>-0.007523</td>\n",
       "      <td>0.248316</td>\n",
       "      <td>0.107568</td>\n",
       "      <td>-0.043161</td>\n",
       "    </tr>\n",
       "    <tr>\n",
       "      <th>car_type</th>\n",
       "      <td>-0.027254</td>\n",
       "      <td>0.186332</td>\n",
       "      <td>0.225578</td>\n",
       "      <td>-0.048755</td>\n",
       "      <td>0.697939</td>\n",
       "      <td>1.000000</td>\n",
       "      <td>-0.042907</td>\n",
       "      <td>0.017521</td>\n",
       "      <td>0.004147</td>\n",
       "      <td>-0.012032</td>\n",
       "      <td>0.000506</td>\n",
       "      <td>0.302612</td>\n",
       "      <td>0.145807</td>\n",
       "      <td>-0.057484</td>\n",
       "    </tr>\n",
       "    <tr>\n",
       "      <th>decline_app_cnt</th>\n",
       "      <td>-0.021417</td>\n",
       "      <td>-0.030331</td>\n",
       "      <td>0.020880</td>\n",
       "      <td>-0.111175</td>\n",
       "      <td>-0.033059</td>\n",
       "      <td>-0.042907</td>\n",
       "      <td>1.000000</td>\n",
       "      <td>-0.027359</td>\n",
       "      <td>0.155894</td>\n",
       "      <td>0.012530</td>\n",
       "      <td>0.016234</td>\n",
       "      <td>-0.021687</td>\n",
       "      <td>-0.026306</td>\n",
       "      <td>0.113682</td>\n",
       "    </tr>\n",
       "    <tr>\n",
       "      <th>good_work</th>\n",
       "      <td>0.004749</td>\n",
       "      <td>0.179605</td>\n",
       "      <td>-0.040247</td>\n",
       "      <td>-0.076158</td>\n",
       "      <td>0.002027</td>\n",
       "      <td>0.017521</td>\n",
       "      <td>-0.027359</td>\n",
       "      <td>1.000000</td>\n",
       "      <td>0.005738</td>\n",
       "      <td>-0.003624</td>\n",
       "      <td>-0.008535</td>\n",
       "      <td>0.022705</td>\n",
       "      <td>0.046361</td>\n",
       "      <td>-0.043361</td>\n",
       "    </tr>\n",
       "    <tr>\n",
       "      <th>bki_request_cnt</th>\n",
       "      <td>-0.029028</td>\n",
       "      <td>0.034959</td>\n",
       "      <td>-0.044374</td>\n",
       "      <td>0.046265</td>\n",
       "      <td>-0.028256</td>\n",
       "      <td>0.004147</td>\n",
       "      <td>0.155894</td>\n",
       "      <td>0.005738</td>\n",
       "      <td>1.000000</td>\n",
       "      <td>0.008183</td>\n",
       "      <td>0.005553</td>\n",
       "      <td>0.082983</td>\n",
       "      <td>0.007824</td>\n",
       "      <td>0.078242</td>\n",
       "    </tr>\n",
       "    <tr>\n",
       "      <th>home_address</th>\n",
       "      <td>0.165555</td>\n",
       "      <td>0.001018</td>\n",
       "      <td>0.037607</td>\n",
       "      <td>0.010392</td>\n",
       "      <td>-0.025240</td>\n",
       "      <td>-0.012032</td>\n",
       "      <td>0.012530</td>\n",
       "      <td>-0.003624</td>\n",
       "      <td>0.008183</td>\n",
       "      <td>1.000000</td>\n",
       "      <td>0.728139</td>\n",
       "      <td>0.038343</td>\n",
       "      <td>0.038658</td>\n",
       "      <td>0.084637</td>\n",
       "    </tr>\n",
       "    <tr>\n",
       "      <th>work_address</th>\n",
       "      <td>0.165777</td>\n",
       "      <td>-0.000281</td>\n",
       "      <td>0.068967</td>\n",
       "      <td>-0.006299</td>\n",
       "      <td>-0.007523</td>\n",
       "      <td>0.000506</td>\n",
       "      <td>0.016234</td>\n",
       "      <td>-0.008535</td>\n",
       "      <td>0.005553</td>\n",
       "      <td>0.728139</td>\n",
       "      <td>1.000000</td>\n",
       "      <td>0.049721</td>\n",
       "      <td>0.041769</td>\n",
       "      <td>0.081582</td>\n",
       "    </tr>\n",
       "    <tr>\n",
       "      <th>income</th>\n",
       "      <td>-0.000099</td>\n",
       "      <td>0.243999</td>\n",
       "      <td>0.192098</td>\n",
       "      <td>-0.018900</td>\n",
       "      <td>0.248316</td>\n",
       "      <td>0.302612</td>\n",
       "      <td>-0.021687</td>\n",
       "      <td>0.022705</td>\n",
       "      <td>0.082983</td>\n",
       "      <td>0.038343</td>\n",
       "      <td>0.049721</td>\n",
       "      <td>1.000000</td>\n",
       "      <td>0.229686</td>\n",
       "      <td>-0.039752</td>\n",
       "    </tr>\n",
       "    <tr>\n",
       "      <th>foreign_passport</th>\n",
       "      <td>-0.014598</td>\n",
       "      <td>0.182153</td>\n",
       "      <td>0.086326</td>\n",
       "      <td>-0.042663</td>\n",
       "      <td>0.107568</td>\n",
       "      <td>0.145807</td>\n",
       "      <td>-0.026306</td>\n",
       "      <td>0.046361</td>\n",
       "      <td>0.007824</td>\n",
       "      <td>0.038658</td>\n",
       "      <td>0.041769</td>\n",
       "      <td>0.229686</td>\n",
       "      <td>1.000000</td>\n",
       "      <td>-0.066718</td>\n",
       "    </tr>\n",
       "    <tr>\n",
       "      <th>default</th>\n",
       "      <td>-0.039242</td>\n",
       "      <td>-0.085033</td>\n",
       "      <td>0.019619</td>\n",
       "      <td>-0.025004</td>\n",
       "      <td>-0.043161</td>\n",
       "      <td>-0.057484</td>\n",
       "      <td>0.113682</td>\n",
       "      <td>-0.043361</td>\n",
       "      <td>0.078242</td>\n",
       "      <td>0.084637</td>\n",
       "      <td>0.081582</td>\n",
       "      <td>-0.039752</td>\n",
       "      <td>-0.066718</td>\n",
       "      <td>1.000000</td>\n",
       "    </tr>\n",
       "  </tbody>\n",
       "</table>\n",
       "</div>"
      ],
      "text/plain": [
       "                  client_id  education       sex       age       car  \\\n",
       "client_id          1.000000   0.040353 -0.032146  0.015435 -0.022068   \n",
       "education          0.040353   1.000000  0.041101 -0.127841  0.139488   \n",
       "sex               -0.032146   0.041101  1.000000 -0.136296  0.279488   \n",
       "age                0.015435  -0.127841 -0.136296  1.000000 -0.053257   \n",
       "car               -0.022068   0.139488  0.279488 -0.053257  1.000000   \n",
       "car_type          -0.027254   0.186332  0.225578 -0.048755  0.697939   \n",
       "decline_app_cnt   -0.021417  -0.030331  0.020880 -0.111175 -0.033059   \n",
       "good_work          0.004749   0.179605 -0.040247 -0.076158  0.002027   \n",
       "bki_request_cnt   -0.029028   0.034959 -0.044374  0.046265 -0.028256   \n",
       "home_address       0.165555   0.001018  0.037607  0.010392 -0.025240   \n",
       "work_address       0.165777  -0.000281  0.068967 -0.006299 -0.007523   \n",
       "income            -0.000099   0.243999  0.192098 -0.018900  0.248316   \n",
       "foreign_passport  -0.014598   0.182153  0.086326 -0.042663  0.107568   \n",
       "default           -0.039242  -0.085033  0.019619 -0.025004 -0.043161   \n",
       "\n",
       "                  car_type  decline_app_cnt  good_work  bki_request_cnt  \\\n",
       "client_id        -0.027254        -0.021417   0.004749        -0.029028   \n",
       "education         0.186332        -0.030331   0.179605         0.034959   \n",
       "sex               0.225578         0.020880  -0.040247        -0.044374   \n",
       "age              -0.048755        -0.111175  -0.076158         0.046265   \n",
       "car               0.697939        -0.033059   0.002027        -0.028256   \n",
       "car_type          1.000000        -0.042907   0.017521         0.004147   \n",
       "decline_app_cnt  -0.042907         1.000000  -0.027359         0.155894   \n",
       "good_work         0.017521        -0.027359   1.000000         0.005738   \n",
       "bki_request_cnt   0.004147         0.155894   0.005738         1.000000   \n",
       "home_address     -0.012032         0.012530  -0.003624         0.008183   \n",
       "work_address      0.000506         0.016234  -0.008535         0.005553   \n",
       "income            0.302612        -0.021687   0.022705         0.082983   \n",
       "foreign_passport  0.145807        -0.026306   0.046361         0.007824   \n",
       "default          -0.057484         0.113682  -0.043361         0.078242   \n",
       "\n",
       "                  home_address  work_address    income  foreign_passport  \\\n",
       "client_id             0.165555      0.165777 -0.000099         -0.014598   \n",
       "education             0.001018     -0.000281  0.243999          0.182153   \n",
       "sex                   0.037607      0.068967  0.192098          0.086326   \n",
       "age                   0.010392     -0.006299 -0.018900         -0.042663   \n",
       "car                  -0.025240     -0.007523  0.248316          0.107568   \n",
       "car_type             -0.012032      0.000506  0.302612          0.145807   \n",
       "decline_app_cnt       0.012530      0.016234 -0.021687         -0.026306   \n",
       "good_work            -0.003624     -0.008535  0.022705          0.046361   \n",
       "bki_request_cnt       0.008183      0.005553  0.082983          0.007824   \n",
       "home_address          1.000000      0.728139  0.038343          0.038658   \n",
       "work_address          0.728139      1.000000  0.049721          0.041769   \n",
       "income                0.038343      0.049721  1.000000          0.229686   \n",
       "foreign_passport      0.038658      0.041769  0.229686          1.000000   \n",
       "default               0.084637      0.081582 -0.039752         -0.066718   \n",
       "\n",
       "                   default  \n",
       "client_id        -0.039242  \n",
       "education        -0.085033  \n",
       "sex               0.019619  \n",
       "age              -0.025004  \n",
       "car              -0.043161  \n",
       "car_type         -0.057484  \n",
       "decline_app_cnt   0.113682  \n",
       "good_work        -0.043361  \n",
       "bki_request_cnt   0.078242  \n",
       "home_address      0.084637  \n",
       "work_address      0.081582  \n",
       "income           -0.039752  \n",
       "foreign_passport -0.066718  \n",
       "default           1.000000  "
      ]
     },
     "execution_count": 326,
     "metadata": {},
     "output_type": "execute_result"
    }
   ],
   "source": [
    "mapping_dict2 = {'Y':1,'N':0}\n",
    "data_help1['car'] = data_help1.car.map(mapping_dict2)\n",
    "data_help1['car_type'] = data_help1.car_type.map(mapping_dict2)\n",
    "data_help1['foreign_passport'] = data_help1.foreign_passport.map(mapping_dict2)\n",
    "mapping_dict3 = {'M':1,'F':0}\n",
    "data_help1['sex'] = data_help1.sex.map(mapping_dict3)\n",
    "data_help1.corr()"
   ]
  },
  {
   "cell_type": "code",
   "execution_count": 327,
   "metadata": {},
   "outputs": [
    {
     "data": {
      "text/plain": [
       "<matplotlib.axes._subplots.AxesSubplot at 0x7f9a5e3a36d0>"
      ]
     },
     "execution_count": 327,
     "metadata": {},
     "output_type": "execute_result"
    },
    {
     "data": {
      "image/png": "[encoded data removed]",
      "text/plain": [
       "<Figure size 720x576 with 2 Axes>"
      ]
     },
     "metadata": {
      "needs_background": "light"
     },
     "output_type": "display_data"
    }
   ],
   "source": [
    "f, ax = plt.subplots(figsize=(10, 8))\n",
    "sns.heatmap(data_help1.corr())"
   ]
  },
  {
   "cell_type": "code",
   "execution_count": 328,
   "metadata": {},
   "outputs": [],
   "source": [
    "data_help1.drop('client_id', axis = 1, inplace = True)\n",
    "data_help1.dropna(inplace = True)"
   ]
  },
  {
   "cell_type": "code",
   "execution_count": 335,
   "metadata": {},
   "outputs": [
    {
     "name": "stdout",
     "output_type": "stream",
     "text": [
      "LogisticRegression: \t\t 0.49120021740460934\n",
      "KNeighborsClassifier: \t\t 0.5298949897666733\n",
      "DecisionTreeClassifier: \t 0.47826245877439366\n",
      "LinearRegression: \t\t 0.2368538901999423\n"
     ]
    }
   ],
   "source": [
    "X = data_help1.drop('education', axis = 1)\n",
    "y = data_help1.education\n",
    "X_train, X_test, y_train, y_test = train_test_split(X, y, test_size=0.15, random_state=5)\n",
    "\n",
    "m1 = LogisticRegression(max_iter=1500)\n",
    "m1.fit(X_train, y_train)\n",
    "p1 = m1.predict(X_test)\n",
    "\n",
    "m2 = KNeighborsClassifier(n_neighbors=50)\n",
    "m2.fit(X_train, y_train)\n",
    "p2 = m2.predict(X_test)\n",
    "\n",
    "m3 = DecisionTreeClassifier(random_state=50)\n",
    "m3.fit(X_train, y_train)\n",
    "p3 = m3.predict(X_test)\n",
    "\n",
    "m4 = LinearRegression()\n",
    "m4.fit(X_train, y_train)\n",
    "p4_float = m4.predict(X_test)\n",
    "p4 = []\n",
    "for i in p4_float:\n",
    "    j = np.round(i, 0)\n",
    "    p4.append(j)\n",
    "p4=np.array(p4)\n",
    "\n",
    "print('LogisticRegression: \\t\\t {}'.format(f1_score(y_test, p1, average ='weighted')))\n",
    "print('KNeighborsClassifier: \\t\\t {}'.format(f1_score(y_test, p2, average ='weighted')))\n",
    "print('DecisionTreeClassifier: \\t {}'.format(f1_score(y_test, p3, average ='weighted')))\n",
    "print('LinearRegression: \\t\\t {}'.format(f1_score(y_test, p4, average ='weighted')))\n"
   ]
  },
  {
   "cell_type": "code",
   "execution_count": 179,
   "metadata": {},
   "outputs": [],
   "source": [
    "a = [x for x in range(1,100)]\n",
    "b = []\n",
    "for i in a:\n",
    "    m = KNeighborsClassifier(n_neighbors=i)\n",
    "    m.fit(X_train, y_train)\n",
    "    p = m.predict(X_test)\n",
    "    f1 = f1_score(y_test, p, average ='weighted')\n",
    "    b.append(f1)"
   ]
  },
  {
   "cell_type": "code",
   "execution_count": 180,
   "metadata": {},
   "outputs": [
    {
     "data": {
      "text/plain": [
       "<matplotlib.axes._subplots.AxesSubplot at 0x7f9a6ac39d30>"
      ]
     },
     "execution_count": 180,
     "metadata": {},
     "output_type": "execute_result"
    },
    {
     "data": {
      "image/png": "[encoded data removed]",
      "text/plain": [
       "<Figure size 432x288 with 1 Axes>"
      ]
     },
     "metadata": {
      "needs_background": "light"
     },
     "output_type": "display_data"
    }
   ],
   "source": [
    "sns.lineplot(x=a, y=b)"
   ]
  },
  {
   "cell_type": "code",
   "execution_count": 181,
   "metadata": {},
   "outputs": [
    {
     "data": {
      "text/plain": [
       "79"
      ]
     },
     "execution_count": 181,
     "metadata": {},
     "output_type": "execute_result"
    }
   ],
   "source": [
    "count = 0\n",
    "for i in b:\n",
    "    if i == max(b):\n",
    "        break\n",
    "    else:\n",
    "        count += 1\n",
    "count"
   ]
  },
  {
   "cell_type": "code",
   "execution_count": 342,
   "metadata": {},
   "outputs": [
    {
     "data": {
      "text/plain": [
       "KNeighborsClassifier(n_neighbors=79)"
      ]
     },
     "execution_count": 342,
     "metadata": {},
     "output_type": "execute_result"
    }
   ],
   "source": [
    "model_4_edu = KNeighborsClassifier(n_neighbors=count)\n",
    "model_4_edu.fit(X, y)"
   ]
  },
  {
   "cell_type": "code",
   "execution_count": 343,
   "metadata": {},
   "outputs": [],
   "source": [
    "data['education'] = data.education.map(mapping_dict)\n",
    "data['car'] = data.car.map(mapping_dict2)\n",
    "data['car_type'] = data.car_type.map(mapping_dict2)\n",
    "data['foreign_passport'] = data.foreign_passport.map(mapping_dict2)\n",
    "data['sex'] = data.sex.map(mapping_dict3)"
   ]
  },
  {
   "cell_type": "code",
   "execution_count": 344,
   "metadata": {},
   "outputs": [],
   "source": [
    "def isna(cell):\n",
    "    if cell%1 != 0:\n",
    "        return 1\n",
    "    else:\n",
    "        return 0 "
   ]
  },
  {
   "cell_type": "code",
   "execution_count": 345,
   "metadata": {},
   "outputs": [],
   "source": [
    "data['edu_isna'] = data.education.apply(isna)"
   ]
  },
  {
   "cell_type": "code",
   "execution_count": 346,
   "metadata": {},
   "outputs": [],
   "source": [
    "result = model_4_edu.predict(data.drop(['client_id','education','edu_isna'], axis = 1))"
   ]
  },
  {
   "cell_type": "code",
   "execution_count": 347,
   "metadata": {},
   "outputs": [],
   "source": [
    "data['predictions'] = result"
   ]
  },
  {
   "cell_type": "code",
   "execution_count": 348,
   "metadata": {},
   "outputs": [
    {
     "data": {
      "text/plain": [
       "<matplotlib.axes._subplots.AxesSubplot at 0x7f9a5a3ee160>"
      ]
     },
     "execution_count": 348,
     "metadata": {},
     "output_type": "execute_result"
    },
    {
     "data": {
      "image/png": "[encoded data removed]",
      "text/plain": [
       "<Figure size 432x288 with 1 Axes>"
      ]
     },
     "metadata": {
      "needs_background": "light"
     },
     "output_type": "display_data"
    }
   ],
   "source": [
    "outcome = data[data.edu_isna == 1]\n",
    "sns.boxplot(data = outcome,  x = 'predictions', y = 'income')"
   ]
  },
  {
   "cell_type": "code",
   "execution_count": 349,
   "metadata": {},
   "outputs": [
    {
     "data": {
      "text/plain": [
       "<seaborn.axisgrid.FacetGrid at 0x7f9a5acb6c10>"
      ]
     },
     "execution_count": 349,
     "metadata": {},
     "output_type": "execute_result"
    },
    {
     "data": {
      "image/png": "[encoded data removed]",
      "text/plain": [
       "<Figure size 360x360 with 1 Axes>"
      ]
     },
     "metadata": {
      "needs_background": "light"
     },
     "output_type": "display_data"
    }
   ],
   "source": [
    "sns.catplot(data = outcome,  x = 'predictions', y = 'income', kind = 'bar')"
   ]
  },
  {
   "cell_type": "code",
   "execution_count": 350,
   "metadata": {
    "scrolled": true
   },
   "outputs": [
    {
     "data": {
      "text/plain": [
       "<seaborn.axisgrid.FacetGrid at 0x7f9a5acb6cd0>"
      ]
     },
     "execution_count": 350,
     "metadata": {},
     "output_type": "execute_result"
    },
    {
     "data": {
      "image/png": "[encoded data removed]",
      "text/plain": [
       "<Figure size 360x360 with 1 Axes>"
      ]
     },
     "metadata": {
      "needs_background": "light"
     },
     "output_type": "display_data"
    }
   ],
   "source": [
    "sns.catplot(data = outcome,  x = 'predictions', kind = 'count')"
   ]
  },
  {
   "cell_type": "code",
   "execution_count": 357,
   "metadata": {},
   "outputs": [],
   "source": [
    "data.education.fillna(data.predictions, inplace = True)"
   ]
  },
  {
   "cell_type": "code",
   "execution_count": 361,
   "metadata": {},
   "outputs": [],
   "source": [
    "data.drop('predictions', axis = 1, inplace = True)"
   ]
  },
  {
   "cell_type": "code",
   "execution_count": 362,
   "metadata": {},
   "outputs": [
    {
     "name": "stdout",
     "output_type": "stream",
     "text": [
      "<class 'pandas.core.frame.DataFrame'>\n",
      "RangeIndex: 73799 entries, 0 to 73798\n",
      "Data columns (total 15 columns):\n",
      " #   Column            Non-Null Count  Dtype  \n",
      "---  ------            --------------  -----  \n",
      " 0   client_id         73799 non-null  int64  \n",
      " 1   education         73799 non-null  float64\n",
      " 2   sex               73799 non-null  int64  \n",
      " 3   age               73799 non-null  int64  \n",
      " 4   car               73799 non-null  int64  \n",
      " 5   car_type          73799 non-null  int64  \n",
      " 6   decline_app_cnt   73799 non-null  int64  \n",
      " 7   good_work         73799 non-null  int64  \n",
      " 8   bki_request_cnt   73799 non-null  int64  \n",
      " 9   home_address      73799 non-null  int64  \n",
      " 10  work_address      73799 non-null  int64  \n",
      " 11  income            73799 non-null  int64  \n",
      " 12  foreign_passport  73799 non-null  int64  \n",
      " 13  default           73799 non-null  int64  \n",
      " 14  edu_isna          73799 non-null  int64  \n",
      "dtypes: float64(1), int64(14)\n",
      "memory usage: 8.4 MB\n"
     ]
    }
   ],
   "source": [
    "data.info()"
   ]
  },
  {
   "cell_type": "code",
   "execution_count": 368,
   "metadata": {},
   "outputs": [
    {
     "name": "stdout",
     "output_type": "stream",
     "text": [
      "['sex', 'car', 'car_type', 'good_work', 'foreign_passport']\n",
      "['education', 'home_address', 'work_address']\n",
      "['age', 'decline_app_cnt', 'bki_request_cnt', 'income']\n"
     ]
    }
   ],
   "source": [
    "#3\n",
    "cols = data.columns\n",
    "bin_cols = [cols[2],cols[4],cols[5],cols[7],cols[12]]\n",
    "cat_cols = [cols[1],cols[9],cols[10]]\n",
    "num_cols = [cols[3],cols[6],cols[8],cols[11]]\n",
    "print(bin_cols)\n",
    "print(cat_cols)\n",
    "print(num_cols)"
   ]
  },
  {
   "cell_type": "code",
   "execution_count": 379,
   "metadata": {},
   "outputs": [
    {
     "data": {
      "image/png": "[encoded data removed]",
      "text/plain": [
       "<Figure size 360x360 with 1 Axes>"
      ]
     },
     "metadata": {
      "needs_background": "light"
     },
     "output_type": "display_data"
    },
    {
     "data": {
      "image/png": "[encoded data removed]",
      "text/plain": [
       "<Figure size 360x360 with 1 Axes>"
      ]
     },
     "metadata": {
      "needs_background": "light"
     },
     "output_type": "display_data"
    },
    {
     "data": {
      "image/png": "[encoded data removed]",
      "text/plain": [
       "<Figure size 360x360 with 1 Axes>"
      ]
     },
     "metadata": {
      "needs_background": "light"
     },
     "output_type": "display_data"
    },
    {
     "data": {
      "image/png": "[encoded data removed]",
      "text/plain": [
       "<Figure size 360x360 with 1 Axes>"
      ]
     },
     "metadata": {
      "needs_background": "light"
     },
     "output_type": "display_data"
    }
   ],
   "source": [
    "for i in num_cols:\n",
    "    sns.catplot(data = data,  x = i, kind = 'count')"
   ]
  },
  {
   "cell_type": "code",
   "execution_count": 380,
   "metadata": {},
   "outputs": [
    {
     "data": {
      "text/plain": [
       "(array([2.1491e+04, 3.0376e+04, 1.2078e+04, 4.3180e+03, 2.4000e+03,\n",
       "        7.7800e+02, 2.9400e+02, 8.0300e+02, 1.7500e+02, 3.7300e+02,\n",
       "        4.4000e+01, 4.0000e+01, 1.6000e+02, 2.8000e+01, 1.7300e+02,\n",
       "        5.0000e+00, 5.0000e+00, 3.7000e+01, 1.3000e+01, 4.6000e+01,\n",
       "        2.0000e+00, 4.0000e+00, 1.1000e+01, 3.0000e+00, 5.4000e+01,\n",
       "        3.0000e+00, 2.0000e+00, 6.0000e+00, 1.0000e+00, 2.0000e+01,\n",
       "        0.0000e+00, 1.0000e+00, 2.0000e+00, 1.0000e+00, 1.3000e+01,\n",
       "        0.0000e+00, 0.0000e+00, 1.0000e+00, 1.0000e+00, 8.0000e+00,\n",
       "        0.0000e+00, 1.0000e+00, 1.0000e+00, 0.0000e+00, 6.0000e+00,\n",
       "        0.0000e+00, 0.0000e+00, 5.0000e+00, 0.0000e+00, 1.6000e+01]),\n",
       " array([   1000.,   20980.,   40960.,   60940.,   80920.,  100900.,\n",
       "         120880.,  140860.,  160840.,  180820.,  200800.,  220780.,\n",
       "         240760.,  260740.,  280720.,  300700.,  320680.,  340660.,\n",
       "         360640.,  380620.,  400600.,  420580.,  440560.,  460540.,\n",
       "         480520.,  500500.,  520480.,  540460.,  560440.,  580420.,\n",
       "         600400.,  620380.,  640360.,  660340.,  680320.,  700300.,\n",
       "         720280.,  740260.,  760240.,  780220.,  800200.,  820180.,\n",
       "         840160.,  860140.,  880120.,  900100.,  920080.,  940060.,\n",
       "         960040.,  980020., 1000000.]),\n",
       " <a list of 50 Patch objects>)"
      ]
     },
     "execution_count": 380,
     "metadata": {},
     "output_type": "execute_result"
    },
    {
     "data": {
      "image/png": "[encoded data removed]",
      "text/plain": [
       "<Figure size 432x288 with 1 Axes>"
      ]
     },
     "metadata": {
      "needs_background": "light"
     },
     "output_type": "display_data"
    }
   ],
   "source": [
    "plt.hist(data = data, x = 'income', bins = 50)"
   ]
  },
  {
   "cell_type": "code",
   "execution_count": 407,
   "metadata": {},
   "outputs": [
    {
     "data": {
      "image/png": "[encoded data removed]",
      "text/plain": [
       "<Figure size 432x288 with 1 Axes>"
      ]
     },
     "metadata": {
      "needs_background": "light"
     },
     "output_type": "display_data"
    }
   ],
   "source": [
    "for j in num_cols:\n",
    "    sns.boxplot(data = data,  y = j, x = 'default')"
   ]
  }
 ],
 "metadata": {
  "kernelspec": {
   "display_name": "Python 3",
   "language": "python",
   "name": "python3"
  },
  "language_info": {
   "codemirror_mode": {
    "name": "ipython",
    "version": 3
   },
   "file_extension": ".py",
   "mimetype": "text/x-python",
   "name": "python",
   "nbconvert_exporter": "python",
   "pygments_lexer": "ipython3",
   "version": "3.8.3"
  }
 },
 "nbformat": 4,
 "nbformat_minor": 4
}
