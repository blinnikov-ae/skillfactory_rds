{
 "cells": [
  {
   "cell_type": "code",
   "execution_count": 1,
   "metadata": {
    "scrolled": true
   },
   "outputs": [
    {
     "name": "stderr",
     "output_type": "stream",
     "text": [
      "C:\\Users\\79262\\anaconda3\\lib\\site-packages\\tqdm\\std.py:702: FutureWarning: The Panel class is removed from pandas. Accessing it from the top-level namespace will also be removed in the next version\n",
      "  from pandas import Panel\n"
     ]
    }
   ],
   "source": [
    "# Загрузка библиотек\n",
    "\n",
    "from IPython.display import display\n",
    "from ipywidgets import IntProgress\n",
    "from catboost import CatBoostRegressor\n",
    "import numpy as np\n",
    "import pandas as pd\n",
    "import json\n",
    "import ast\n",
    "import re\n",
    "from itertools import combinations\n",
    "from statsmodels.stats import weightstats\n",
    "from scipy import stats\n",
    "from gensim.models import Word2Vec\n",
    "from sklearn.manifold import TSNE\n",
    "\n",
    "import matplotlib.pyplot as plt\n",
    "import seaborn as sns\n",
    "import pandas_profiling\n",
    "import warnings\n",
    "\n",
    "import sys\n",
    "from sklearn.preprocessing import LabelEncoder, MinMaxScaler, StandardScaler, RobustScaler\n",
    "from sklearn.model_selection import train_test_split, StratifiedKFold, KFold\n",
    "from sklearn.model_selection import RandomizedSearchCV, GridSearchCV\n",
    "from sklearn.cluster import KMeans\n",
    "from sklearn.decomposition import PCA\n",
    "from sklearn.linear_model import LinearRegression\n",
    "from sklearn.feature_extraction.text import CountVectorizer\n",
    "from sklearn.tree import DecisionTreeRegressor\n",
    "from sklearn.ensemble import RandomForestRegressor, GradientBoostingRegressor\n",
    "from nltk.corpus import stopwords\n",
    "from sklearn.metrics import mean_absolute_error, mean_squared_error, silhouette_score\n",
    "from tqdm.notebook import tqdm\n",
    "tqdm.pandas()\n",
    "\n",
    "warnings.filterwarnings(\"ignore\")\n",
    "\n",
    "import lazypredict\n",
    "from lazypredict.Supervised import LazyRegressor\n",
    "from sklearn.utils import shuffle"
   ]
  },
  {
   "cell_type": "code",
   "execution_count": 2,
   "metadata": {},
   "outputs": [
    {
     "name": "stderr",
     "output_type": "stream",
     "text": [
      "WARNING: Could not generate requirement for distribution -umpy 1.18.5 (c:\\users\\79262\\anaconda3\\lib\\site-packages): Parse error at \"'-umpy==1'\": Expected W:(abcd...)\n"
     ]
    }
   ],
   "source": [
    "# Фиксация версий пакетов для воспроизводимости экспериментов\n",
    "!pip freeze > requirements.txt"
   ]
  },
  {
   "cell_type": "code",
   "execution_count": 3,
   "metadata": {},
   "outputs": [],
   "source": [
    "# Фиксация random seed для воспроизводимости экспериментов\n",
    "RS = 42"
   ]
  },
  {
   "cell_type": "code",
   "execution_count": 4,
   "metadata": {},
   "outputs": [],
   "source": [
    "# Функция возвращает целевую метрику\n",
    "def MAPE(y_true, y_pred):\n",
    "    return np.mean(np.abs((y_pred-y_true)/y_true))"
   ]
  },
  {
   "cell_type": "code",
   "execution_count": 5,
   "metadata": {},
   "outputs": [],
   "source": [
    "data = pd.read_csv('alt_data.csv')"
   ]
  },
  {
   "cell_type": "code",
   "execution_count": 6,
   "metadata": {
    "scrolled": true
   },
   "outputs": [
    {
     "data": {
      "text/html": [
       "<div>\n",
       "<style scoped>\n",
       "    .dataframe tbody tr th:only-of-type {\n",
       "        vertical-align: middle;\n",
       "    }\n",
       "\n",
       "    .dataframe tbody tr th {\n",
       "        vertical-align: top;\n",
       "    }\n",
       "\n",
       "    .dataframe thead th {\n",
       "        text-align: right;\n",
       "    }\n",
       "</style>\n",
       "<table border=\"1\" class=\"dataframe\">\n",
       "  <thead>\n",
       "    <tr style=\"text-align: right;\">\n",
       "      <th></th>\n",
       "      <th>vendor</th>\n",
       "      <th>Руль</th>\n",
       "      <th>eqp_amount</th>\n",
       "      <th>eur_price</th>\n",
       "      <th>mileage</th>\n",
       "      <th>modelDate</th>\n",
       "      <th>numberOfDoors</th>\n",
       "      <th>parsing_unixtime</th>\n",
       "      <th>productionDate</th>\n",
       "      <th>eng_volume</th>\n",
       "      <th>...</th>\n",
       "      <th>ПТС_Оригинал</th>\n",
       "      <th>ПТС_nan</th>\n",
       "      <th>Привод_задний</th>\n",
       "      <th>Привод_передний</th>\n",
       "      <th>Привод_полный</th>\n",
       "      <th>gen_id_stat</th>\n",
       "      <th>own_time_stat</th>\n",
       "      <th>body_stat</th>\n",
       "      <th>bodyType_stat</th>\n",
       "      <th>color_stat</th>\n",
       "    </tr>\n",
       "  </thead>\n",
       "  <tbody>\n",
       "    <tr>\n",
       "      <th>135825</th>\n",
       "      <td>0</td>\n",
       "      <td>0</td>\n",
       "      <td>0</td>\n",
       "      <td>35468.00</td>\n",
       "      <td>0.00</td>\n",
       "      <td>2018.00</td>\n",
       "      <td>4.00</td>\n",
       "      <td>1599647912.00</td>\n",
       "      <td>2020.00</td>\n",
       "      <td>1.60</td>\n",
       "      <td>...</td>\n",
       "      <td>1</td>\n",
       "      <td>0</td>\n",
       "      <td>1</td>\n",
       "      <td>0</td>\n",
       "      <td>0</td>\n",
       "      <td>1.00</td>\n",
       "      <td>0.85</td>\n",
       "      <td>0.60</td>\n",
       "      <td>0.55</td>\n",
       "      <td>0.74</td>\n",
       "    </tr>\n",
       "    <tr>\n",
       "      <th>93167</th>\n",
       "      <td>0</td>\n",
       "      <td>0</td>\n",
       "      <td>65</td>\n",
       "      <td>0.00</td>\n",
       "      <td>69000.00</td>\n",
       "      <td>2015.00</td>\n",
       "      <td>5.00</td>\n",
       "      <td>1603243546.00</td>\n",
       "      <td>2016.00</td>\n",
       "      <td>3.00</td>\n",
       "      <td>...</td>\n",
       "      <td>1</td>\n",
       "      <td>0</td>\n",
       "      <td>0</td>\n",
       "      <td>0</td>\n",
       "      <td>1</td>\n",
       "      <td>1.00</td>\n",
       "      <td>0.66</td>\n",
       "      <td>1.20</td>\n",
       "      <td>1.21</td>\n",
       "      <td>1.10</td>\n",
       "    </tr>\n",
       "    <tr>\n",
       "      <th>90086</th>\n",
       "      <td>1</td>\n",
       "      <td>0</td>\n",
       "      <td>31</td>\n",
       "      <td>0.00</td>\n",
       "      <td>154000.00</td>\n",
       "      <td>2007.00</td>\n",
       "      <td>5.00</td>\n",
       "      <td>1603277767.00</td>\n",
       "      <td>2010.00</td>\n",
       "      <td>2.50</td>\n",
       "      <td>...</td>\n",
       "      <td>1</td>\n",
       "      <td>0</td>\n",
       "      <td>0</td>\n",
       "      <td>0</td>\n",
       "      <td>1</td>\n",
       "      <td>1.00</td>\n",
       "      <td>0.85</td>\n",
       "      <td>1.20</td>\n",
       "      <td>1.21</td>\n",
       "      <td>0.45</td>\n",
       "    </tr>\n",
       "    <tr>\n",
       "      <th>114626</th>\n",
       "      <td>0</td>\n",
       "      <td>0</td>\n",
       "      <td>0</td>\n",
       "      <td>18944.00</td>\n",
       "      <td>25000.00</td>\n",
       "      <td>2012.00</td>\n",
       "      <td>4.00</td>\n",
       "      <td>1599647912.00</td>\n",
       "      <td>2016.00</td>\n",
       "      <td>1.40</td>\n",
       "      <td>...</td>\n",
       "      <td>1</td>\n",
       "      <td>0</td>\n",
       "      <td>0</td>\n",
       "      <td>1</td>\n",
       "      <td>0</td>\n",
       "      <td>1.00</td>\n",
       "      <td>0.81</td>\n",
       "      <td>0.60</td>\n",
       "      <td>0.55</td>\n",
       "      <td>0.83</td>\n",
       "    </tr>\n",
       "    <tr>\n",
       "      <th>89615</th>\n",
       "      <td>1</td>\n",
       "      <td>0</td>\n",
       "      <td>0</td>\n",
       "      <td>0.00</td>\n",
       "      <td>230000.00</td>\n",
       "      <td>2006.00</td>\n",
       "      <td>4.00</td>\n",
       "      <td>1603276009.00</td>\n",
       "      <td>2007.00</td>\n",
       "      <td>1.60</td>\n",
       "      <td>...</td>\n",
       "      <td>1</td>\n",
       "      <td>0</td>\n",
       "      <td>0</td>\n",
       "      <td>1</td>\n",
       "      <td>0</td>\n",
       "      <td>1.00</td>\n",
       "      <td>0.85</td>\n",
       "      <td>0.60</td>\n",
       "      <td>0.55</td>\n",
       "      <td>0.74</td>\n",
       "    </tr>\n",
       "  </tbody>\n",
       "</table>\n",
       "<p>5 rows × 59 columns</p>\n",
       "</div>"
      ],
      "text/plain": [
       "        vendor  Руль  eqp_amount  eur_price   mileage  modelDate  \\\n",
       "135825       0     0           0   35468.00      0.00    2018.00   \n",
       "93167        0     0          65       0.00  69000.00    2015.00   \n",
       "90086        1     0          31       0.00 154000.00    2007.00   \n",
       "114626       0     0           0   18944.00  25000.00    2012.00   \n",
       "89615        1     0           0       0.00 230000.00    2006.00   \n",
       "\n",
       "        numberOfDoors  parsing_unixtime  productionDate  eng_volume  ...  \\\n",
       "135825           4.00     1599647912.00         2020.00        1.60  ...   \n",
       "93167            5.00     1603243546.00         2016.00        3.00  ...   \n",
       "90086            5.00     1603277767.00         2010.00        2.50  ...   \n",
       "114626           4.00     1599647912.00         2016.00        1.40  ...   \n",
       "89615            4.00     1603276009.00         2007.00        1.60  ...   \n",
       "\n",
       "        ПТС_Оригинал  ПТС_nan  Привод_задний  Привод_передний  Привод_полный  \\\n",
       "135825             1        0              1                0              0   \n",
       "93167              1        0              0                0              1   \n",
       "90086              1        0              0                0              1   \n",
       "114626             1        0              0                1              0   \n",
       "89615              1        0              0                1              0   \n",
       "\n",
       "        gen_id_stat  own_time_stat  body_stat  bodyType_stat  color_stat  \n",
       "135825         1.00           0.85       0.60           0.55        0.74  \n",
       "93167          1.00           0.66       1.20           1.21        1.10  \n",
       "90086          1.00           0.85       1.20           1.21        0.45  \n",
       "114626         1.00           0.81       0.60           0.55        0.83  \n",
       "89615          1.00           0.85       0.60           0.55        0.74  \n",
       "\n",
       "[5 rows x 59 columns]"
      ]
     },
     "execution_count": 6,
     "metadata": {},
     "output_type": "execute_result"
    }
   ],
   "source": [
    "data.sample(5)"
   ]
  },
  {
   "cell_type": "code",
   "execution_count": 7,
   "metadata": {},
   "outputs": [],
   "source": [
    "# data.isna().sum()"
   ]
  },
  {
   "cell_type": "code",
   "execution_count": 8,
   "metadata": {
    "scrolled": true
   },
   "outputs": [],
   "source": [
    "# data.info()"
   ]
  },
  {
   "cell_type": "markdown",
   "metadata": {},
   "source": [
    "Пропусков в данных нет. Тип всех данных: int или float"
   ]
  },
  {
   "cell_type": "markdown",
   "metadata": {},
   "source": [
    "В качестве базовой модели мы использовали CatBoost и получили MAPE = 0.13379"
   ]
  },
  {
   "cell_type": "markdown",
   "metadata": {},
   "source": [
    "## Дополнительные модели\n",
    "\n",
    "Для улучшения результата, блэндинга и стэкинга будут использованы следующие модели:\n",
    "- Две базовые модели для противоположных эстремальных подходов:\n",
    "> - Глубокое дерево для максимального заучивания данных\n",
    "> - Линейная регрессия для отображения общего тренда\n",
    "\n",
    "- Альтернативные ансамбли:\n",
    "> - Стандартный бэггинг RandomForest\n",
    "> - Базовый градиентный бустинг от sklearn"
   ]
  },
  {
   "cell_type": "code",
   "execution_count": 20,
   "metadata": {},
   "outputs": [],
   "source": [
    "# Функция возвращает метрики для данных и модели (MAPE с кросс-валидацией и без нее)\n",
    "def alt_metics(data, target, model=CatBoostRegressor(random_seed=RS, silent=True)):\n",
    "    df = data[data.train == 1].drop(['train', 'sell_id'], axis=1).copy()\n",
    "\n",
    "    # Разделение переменных\n",
    "    X = df.drop(target, axis=1).values\n",
    "    y = df[target].values\n",
    "\n",
    "    # Создание списков для записи локальных результатов\n",
    "    local_mape = []\n",
    "\n",
    "    # Моделирование с 3-ой кросс-валидацией\n",
    "    SKF = StratifiedKFold(n_splits=3, shuffle=True, random_state=RS)\n",
    "    for train_index, test_index in SKF.split(X, y):\n",
    "        X_train, X_test = X[train_index], X[test_index]\n",
    "        y_train, y_test = y[train_index], y[test_index]\n",
    "\n",
    "        model.fit(X_train, np.log(y_train))\n",
    "        preds = np.exp(model.predict(X_test))\n",
    "        local_mape.append(MAPE(y_test, preds))\n",
    "\n",
    "    # Усреднение метрики\n",
    "    result = []\n",
    "    result.append(np.mean(local_mape))\n",
    "\n",
    "    # Добавление мерики без кросс-валидации\n",
    "    X_train, X_test, y_train, y_test = train_test_split(\n",
    "        X, y, test_size=0.3, shuffle=True, random_state=RS)\n",
    "    model.fit(X_train, np.log(y_train))\n",
    "    preds = np.exp(model.predict(X_test))\n",
    "    result.append(MAPE(y_test, preds))\n",
    "\n",
    "    return result"
   ]
  },
  {
   "cell_type": "markdown",
   "metadata": {},
   "source": [
    "### Lazy Predict"
   ]
  },
  {
   "cell_type": "code",
   "execution_count": null,
   "metadata": {},
   "outputs": [],
   "source": [
    "# Посмотрим, какие еще модели могут представлять интерес\n",
    "# Обучим LazyRegressor на небольших выборках из датасета\n",
    "\n",
    "'''scaler = StandardScaler()\n",
    "\n",
    "small_data = data[data.train==1].sample(20000).drop(['train','sell_id'], axis=1).copy()\n",
    "\n",
    "X = small_data.drop('eur_price', axis=1).values\n",
    "X = scaler.fit_transform(X) \n",
    "y = small_data['eur_price'].values\n",
    "X_train, X_test, y_train, y_test = train_test_split(X, y, test_size=0.2, shuffle=True, random_state=RS)\n",
    "\n",
    "regr=LazyRegressor(verbose=0,predictions=True)\n",
    "\n",
    "models_r,predictions_r=regr.fit(X_train, X_test, np.log(y_train), np.log(y_test))\n",
    "\n",
    "models_r'''"
   ]
  },
  {
   "cell_type": "code",
   "execution_count": null,
   "metadata": {},
   "outputs": [],
   "source": []
  },
  {
   "cell_type": "code",
   "execution_count": null,
   "metadata": {},
   "outputs": [],
   "source": [
    "'''small_data = data[data.train==1].sample(20000).drop(['train','sell_id'], axis=1).copy()\n",
    "\n",
    "X = small_data.drop('eur_price', axis=1).values\n",
    "X = scaler.fit_transform(X) \n",
    "y = small_data['eur_price'].values\n",
    "X_train, X_test, y_train, y_test = train_test_split(X, y, test_size=0.2, shuffle=True, random_state=RS)\n",
    "\n",
    "regr=LazyRegressor(verbose=0,predictions=True)\n",
    "\n",
    "models_r,predictions_r=regr.fit(X_train, X_test, np.log(y_train), np.log(y_test))\n",
    "\n",
    "models_r'''"
   ]
  },
  {
   "cell_type": "markdown",
   "metadata": {},
   "source": [
    "Как видно, хорошо бы еще проверить XGBRegressor и ExtraTreesRegressor"
   ]
  },
  {
   "cell_type": "markdown",
   "metadata": {},
   "source": [
    "### DecisionTree"
   ]
  },
  {
   "cell_type": "code",
   "execution_count": 21,
   "metadata": {
    "scrolled": true
   },
   "outputs": [
    {
     "data": {
      "text/html": [
       "<div>\n",
       "<style scoped>\n",
       "    .dataframe tbody tr th:only-of-type {\n",
       "        vertical-align: middle;\n",
       "    }\n",
       "\n",
       "    .dataframe tbody tr th {\n",
       "        vertical-align: top;\n",
       "    }\n",
       "\n",
       "    .dataframe thead th {\n",
       "        text-align: right;\n",
       "    }\n",
       "</style>\n",
       "<table border=\"1\" class=\"dataframe\">\n",
       "  <thead>\n",
       "    <tr style=\"text-align: right;\">\n",
       "      <th></th>\n",
       "      <th>DT</th>\n",
       "    </tr>\n",
       "  </thead>\n",
       "  <tbody>\n",
       "    <tr>\n",
       "      <th>CV</th>\n",
       "      <td>0.20</td>\n",
       "    </tr>\n",
       "    <tr>\n",
       "      <th>TST0.3</th>\n",
       "      <td>0.20</td>\n",
       "    </tr>\n",
       "  </tbody>\n",
       "</table>\n",
       "</div>"
      ],
      "text/plain": [
       "         DT\n",
       "CV     0.20\n",
       "TST0.3 0.20"
      ]
     },
     "execution_count": 21,
     "metadata": {},
     "output_type": "execute_result"
    }
   ],
   "source": [
    "# Дефолтные параметры\n",
    "DT = DecisionTreeRegressor(random_state=RS)\n",
    "alt_results = pd.DataFrame({'DT': alt_metics(data, 'eur_price', model=DT)},\n",
    "                           index=['CV', 'TST0.3'])\n",
    "alt_results"
   ]
  },
  {
   "cell_type": "code",
   "execution_count": 11,
   "metadata": {},
   "outputs": [],
   "source": [
    "df = data[data.train == 1].drop(['train', 'sell_id'], axis=1).copy()\n",
    "\n",
    "X = df.drop('eur_price', axis=1).values\n",
    "y = df['eur_price'].values"
   ]
  },
  {
   "cell_type": "code",
   "execution_count": null,
   "metadata": {},
   "outputs": [],
   "source": [
    "# Подбор параметров\n",
    "\n",
    "X_train, X_test, y_train, y_test = train_test_split(X, y, test_size=0.3, shuffle=True, random_state=RS)\n",
    "\n",
    "DF = DecisionTreeRegressor(random_state=RS)\n",
    "\n",
    "splitter = ['best', 'random']\n",
    "max_features = ['auto', 'sqrt', 'log2', None]\n",
    "max_depth = [int(x) for x in np.linspace(10, 110, num = 11)]\n",
    "max_depth.append(None)\n",
    "min_samples_split = [2, 5, 10]\n",
    "min_samples_leaf = [1, 2, 4]\n",
    "\n",
    "random_grid = {'splitter': splitter,\n",
    "               'max_features': max_features,\n",
    "               'max_depth': max_depth,\n",
    "               'min_samples_split': min_samples_split,\n",
    "               'min_samples_leaf': min_samples_leaf,\n",
    "               }\n",
    "\n",
    "DF_random = RandomizedSearchCV(estimator = DF, param_distributions = random_grid, \n",
    "                               n_iter = 100, cv = 3, verbose=2, random_state=RS, n_jobs=-1)\n",
    "DF_random.fit(X_train, np.log(y_train))\n",
    "\n",
    "DF_random.best_params_"
   ]
  },
  {
   "cell_type": "code",
   "execution_count": 13,
   "metadata": {},
   "outputs": [
    {
     "data": {
      "text/html": [
       "<div>\n",
       "<style scoped>\n",
       "    .dataframe tbody tr th:only-of-type {\n",
       "        vertical-align: middle;\n",
       "    }\n",
       "\n",
       "    .dataframe tbody tr th {\n",
       "        vertical-align: top;\n",
       "    }\n",
       "\n",
       "    .dataframe thead th {\n",
       "        text-align: right;\n",
       "    }\n",
       "</style>\n",
       "<table border=\"1\" class=\"dataframe\">\n",
       "  <thead>\n",
       "    <tr style=\"text-align: right;\">\n",
       "      <th></th>\n",
       "      <th>DT</th>\n",
       "    </tr>\n",
       "  </thead>\n",
       "  <tbody>\n",
       "    <tr>\n",
       "      <th>CV</th>\n",
       "      <td>0.17</td>\n",
       "    </tr>\n",
       "    <tr>\n",
       "      <th>TST0.3</th>\n",
       "      <td>0.17</td>\n",
       "    </tr>\n",
       "  </tbody>\n",
       "</table>\n",
       "</div>"
      ],
      "text/plain": [
       "         DT\n",
       "CV     0.17\n",
       "TST0.3 0.17"
      ]
     },
     "execution_count": 13,
     "metadata": {},
     "output_type": "execute_result"
    }
   ],
   "source": [
    "# Обучим модель с подобранными параметрами\n",
    "DT = DecisionTreeRegressor(splitter='random', \n",
    "                           min_samples_split=10, \n",
    "                           min_samples_leaf=4, \n",
    "                           max_features='auto', \n",
    "                           max_depth=90, \n",
    "                           random_state=RS)\n",
    "alt_results = pd.DataFrame({'DT': alt_metics(data, 'eur_price', model=DT)},\n",
    "                           index=['CV', 'TST0.3'])\n",
    "alt_results"
   ]
  },
  {
   "cell_type": "markdown",
   "metadata": {},
   "source": [
    "Метрика улучшилась, но хуже базовой модели"
   ]
  },
  {
   "cell_type": "markdown",
   "metadata": {},
   "source": [
    "### Linear regression"
   ]
  },
  {
   "cell_type": "code",
   "execution_count": 14,
   "metadata": {},
   "outputs": [
    {
     "data": {
      "text/html": [
       "<div>\n",
       "<style scoped>\n",
       "    .dataframe tbody tr th:only-of-type {\n",
       "        vertical-align: middle;\n",
       "    }\n",
       "\n",
       "    .dataframe tbody tr th {\n",
       "        vertical-align: top;\n",
       "    }\n",
       "\n",
       "    .dataframe thead th {\n",
       "        text-align: right;\n",
       "    }\n",
       "</style>\n",
       "<table border=\"1\" class=\"dataframe\">\n",
       "  <thead>\n",
       "    <tr style=\"text-align: right;\">\n",
       "      <th></th>\n",
       "      <th>LR</th>\n",
       "    </tr>\n",
       "  </thead>\n",
       "  <tbody>\n",
       "    <tr>\n",
       "      <th>CV</th>\n",
       "      <td>0.24</td>\n",
       "    </tr>\n",
       "    <tr>\n",
       "      <th>TST0.3</th>\n",
       "      <td>0.23</td>\n",
       "    </tr>\n",
       "  </tbody>\n",
       "</table>\n",
       "</div>"
      ],
      "text/plain": [
       "         LR\n",
       "CV     0.24\n",
       "TST0.3 0.23"
      ]
     },
     "execution_count": 14,
     "metadata": {},
     "output_type": "execute_result"
    }
   ],
   "source": [
    "# Модель на ненормализованных данных\n",
    "LR = LinearRegression(n_jobs=-1)\n",
    "alt_results = pd.DataFrame({'LR': alt_metics(data, 'eur_price', model=LR)},\n",
    "                           index=['CV', 'TST0.3'])\n",
    "alt_results"
   ]
  },
  {
   "cell_type": "code",
   "execution_count": 15,
   "metadata": {},
   "outputs": [],
   "source": [
    "# Функция возвращает метрики для нормализованных данных и модели (MAPE с кросс-валидацией и без нее)\n",
    "def norm_alt_metics(data, target, scaler, model=CatBoostRegressor(random_seed=RS, silent=True)):\n",
    "    df = data[data.train == 1].drop(['train', 'sell_id'], axis=1).copy()\n",
    "\n",
    "    # Разделение переменных\n",
    "    X = df.drop(target, axis=1).values\n",
    "    X = scaler.fit_transform(X)\n",
    "    y = df[target].values\n",
    "\n",
    "    # Создание списков для записи локальных результатов\n",
    "    local_mape = []\n",
    "\n",
    "    # Моделирование с 3-ой кросс-валидацией\n",
    "    SKF = StratifiedKFold(n_splits=3, shuffle=True, random_state=RS)\n",
    "    for train_index, test_index in SKF.split(X, y):\n",
    "        X_train, X_test = X[train_index], X[test_index]\n",
    "        y_train, y_test = y[train_index], y[test_index]\n",
    "\n",
    "        model.fit(X_train, np.log(y_train))\n",
    "        preds = np.exp(model.predict(X_test))\n",
    "        local_mape.append(MAPE(y_test, preds))\n",
    "\n",
    "    # Усреднение метрики\n",
    "    result = []\n",
    "    result.append(np.mean(local_mape))\n",
    "\n",
    "    # Добавление метрики без кросс-валидации\n",
    "    X_train, X_test, y_train, y_test = train_test_split(\n",
    "        X, y, test_size=0.3, shuffle=True, random_state=RS)\n",
    "    model.fit(X_train, np.log(y_train))\n",
    "    preds = np.exp(model.predict(X_test))\n",
    "    result.append(MAPE(y_test, preds))\n",
    "\n",
    "    return result"
   ]
  },
  {
   "cell_type": "code",
   "execution_count": 16,
   "metadata": {},
   "outputs": [
    {
     "data": {
      "text/html": [
       "<div>\n",
       "<style scoped>\n",
       "    .dataframe tbody tr th:only-of-type {\n",
       "        vertical-align: middle;\n",
       "    }\n",
       "\n",
       "    .dataframe tbody tr th {\n",
       "        vertical-align: top;\n",
       "    }\n",
       "\n",
       "    .dataframe thead th {\n",
       "        text-align: right;\n",
       "    }\n",
       "</style>\n",
       "<table border=\"1\" class=\"dataframe\">\n",
       "  <thead>\n",
       "    <tr style=\"text-align: right;\">\n",
       "      <th></th>\n",
       "      <th>LR</th>\n",
       "    </tr>\n",
       "  </thead>\n",
       "  <tbody>\n",
       "    <tr>\n",
       "      <th>CV</th>\n",
       "      <td>0.24</td>\n",
       "    </tr>\n",
       "    <tr>\n",
       "      <th>TST0.3</th>\n",
       "      <td>0.23</td>\n",
       "    </tr>\n",
       "  </tbody>\n",
       "</table>\n",
       "</div>"
      ],
      "text/plain": [
       "         LR\n",
       "CV     0.24\n",
       "TST0.3 0.23"
      ]
     },
     "execution_count": 16,
     "metadata": {},
     "output_type": "execute_result"
    }
   ],
   "source": [
    "# Построим линейную регрессию, построенную на признаках, нормализованных с помощью StandardScaler\n",
    "LR = LinearRegression(n_jobs=-1)\n",
    "\n",
    "alt_results = pd.DataFrame({'LR': norm_alt_metics(data, 'eur_price', scaler=StandardScaler(), model=LR)},\n",
    "                           index=['CV', 'TST0.3'])\n",
    "alt_results"
   ]
  },
  {
   "cell_type": "code",
   "execution_count": 17,
   "metadata": {},
   "outputs": [
    {
     "data": {
      "text/html": [
       "<div>\n",
       "<style scoped>\n",
       "    .dataframe tbody tr th:only-of-type {\n",
       "        vertical-align: middle;\n",
       "    }\n",
       "\n",
       "    .dataframe tbody tr th {\n",
       "        vertical-align: top;\n",
       "    }\n",
       "\n",
       "    .dataframe thead th {\n",
       "        text-align: right;\n",
       "    }\n",
       "</style>\n",
       "<table border=\"1\" class=\"dataframe\">\n",
       "  <thead>\n",
       "    <tr style=\"text-align: right;\">\n",
       "      <th></th>\n",
       "      <th>LR</th>\n",
       "    </tr>\n",
       "  </thead>\n",
       "  <tbody>\n",
       "    <tr>\n",
       "      <th>CV</th>\n",
       "      <td>0.24</td>\n",
       "    </tr>\n",
       "    <tr>\n",
       "      <th>TST0.3</th>\n",
       "      <td>0.23</td>\n",
       "    </tr>\n",
       "  </tbody>\n",
       "</table>\n",
       "</div>"
      ],
      "text/plain": [
       "         LR\n",
       "CV     0.24\n",
       "TST0.3 0.23"
      ]
     },
     "execution_count": 17,
     "metadata": {},
     "output_type": "execute_result"
    }
   ],
   "source": [
    "# Построим линейную регрессию, построенную на признаках, нормализованных с помощью RobustScaler\n",
    "from sklearn.preprocessing import RobustScaler\n",
    "\n",
    "LR = LinearRegression(n_jobs=-1)\n",
    "\n",
    "alt_results = pd.DataFrame({'LR': norm_alt_metics(data, 'eur_price', scaler=RobustScaler(), model=LR)},\n",
    "                           index=['CV', 'TST0.3'])\n",
    "alt_results"
   ]
  },
  {
   "cell_type": "markdown",
   "metadata": {},
   "source": [
    "Линейная регрессия работает плохо, что было ожидаемо"
   ]
  },
  {
   "cell_type": "markdown",
   "metadata": {},
   "source": [
    "### Random Forest"
   ]
  },
  {
   "cell_type": "code",
   "execution_count": 23,
   "metadata": {},
   "outputs": [
    {
     "data": {
      "text/html": [
       "<div>\n",
       "<style scoped>\n",
       "    .dataframe tbody tr th:only-of-type {\n",
       "        vertical-align: middle;\n",
       "    }\n",
       "\n",
       "    .dataframe tbody tr th {\n",
       "        vertical-align: top;\n",
       "    }\n",
       "\n",
       "    .dataframe thead th {\n",
       "        text-align: right;\n",
       "    }\n",
       "</style>\n",
       "<table border=\"1\" class=\"dataframe\">\n",
       "  <thead>\n",
       "    <tr style=\"text-align: right;\">\n",
       "      <th></th>\n",
       "      <th>RF</th>\n",
       "    </tr>\n",
       "  </thead>\n",
       "  <tbody>\n",
       "    <tr>\n",
       "      <th>CV</th>\n",
       "      <td>0.14</td>\n",
       "    </tr>\n",
       "    <tr>\n",
       "      <th>TST0.3</th>\n",
       "      <td>0.14</td>\n",
       "    </tr>\n",
       "  </tbody>\n",
       "</table>\n",
       "</div>"
      ],
      "text/plain": [
       "         RF\n",
       "CV     0.14\n",
       "TST0.3 0.14"
      ]
     },
     "execution_count": 23,
     "metadata": {},
     "output_type": "execute_result"
    }
   ],
   "source": [
    "# Параметры по умолчанию\n",
    "RF = RandomForestRegressor(random_state=RS)\n",
    "\n",
    "alt_results = pd.DataFrame({'RF': alt_metics(data, 'eur_price', model=RF)},\n",
    "                           index=['CV', 'TST0.3'])\n",
    "alt_results"
   ]
  },
  {
   "cell_type": "code",
   "execution_count": 25,
   "metadata": {
    "scrolled": false
   },
   "outputs": [
    {
     "name": "stdout",
     "output_type": "stream",
     "text": [
      "Fitting 3 folds for each of 100 candidates, totalling 300 fits\n"
     ]
    },
    {
     "name": "stderr",
     "output_type": "stream",
     "text": [
      "[Parallel(n_jobs=-1)]: Using backend LokyBackend with 8 concurrent workers.\n",
      "[Parallel(n_jobs=-1)]: Done  25 tasks      | elapsed: 55.2min\n",
      "[Parallel(n_jobs=-1)]: Done 146 tasks      | elapsed: 254.4min\n",
      "[Parallel(n_jobs=-1)]: Done 300 out of 300 | elapsed: 608.3min finished\n"
     ]
    },
    {
     "data": {
      "text/plain": [
       "{'n_estimators': 1400,\n",
       " 'min_samples_split': 5,\n",
       " 'min_samples_leaf': 1,\n",
       " 'max_features': 'sqrt',\n",
       " 'max_depth': 80,\n",
       " 'bootstrap': False}"
      ]
     },
     "execution_count": 25,
     "metadata": {},
     "output_type": "execute_result"
    }
   ],
   "source": [
    "# Подбор параметров\n",
    "'''X_train, X_test, y_train, y_test = train_test_split(X, y, test_size=0.3, shuffle=True, random_state=RS)\n",
    "\n",
    "RF = RandomForestRegressor(random_state=RS)\n",
    "\n",
    "n_estimators = [int(x) for x in np.linspace(start = 200, stop = 2000, num = 10)]\n",
    "max_features = ['auto', 'sqrt']\n",
    "max_depth = [int(x) for x in np.linspace(10, 110, num = 11)]\n",
    "max_depth.append(None)\n",
    "min_samples_split = [2, 5, 10]\n",
    "min_samples_leaf = [1, 2, 4]\n",
    "bootstrap = [True, False]\n",
    "\n",
    "random_grid = {'n_estimators': n_estimators,\n",
    "               'max_features': max_features,\n",
    "               'max_depth': max_depth,\n",
    "               'min_samples_split': min_samples_split,\n",
    "               'min_samples_leaf': min_samples_leaf,\n",
    "               'bootstrap': bootstrap}\n",
    "\n",
    "RF_random = RandomizedSearchCV(estimator = RF, param_distributions = random_grid, \n",
    "                               n_iter = 100, cv = 3, verbose=2, random_state=RS, n_jobs = -1)\n",
    "RF_random.fit(X_train, y_train)\n",
    "# Посмотрим, какие гиперпараметры нам предлагают как оптимальные:\n",
    "RF_random.best_params_'''"
   ]
  },
  {
   "cell_type": "markdown",
   "metadata": {},
   "source": [
    "Получили следующие значения: 'n_estimators': 1400, 'min_samples_split': 5, 'min_samples_leaf': 1,\n",
    "'max_features': 'sqrt', 'max_depth': 80, 'bootstrap': False"
   ]
  },
  {
   "cell_type": "code",
   "execution_count": null,
   "metadata": {},
   "outputs": [],
   "source": [
    "# Обучим RF модель на подобранных параметрах\n",
    "RF = RandomForestRegressor(n_estimators=1400, min_samples_split=5, min_samples_leaf=1, \n",
    "                           max_features='sqrt', max_depth=80, bootstrap=False, random_state=RS)\n",
    "\n",
    "alt_results = pd.DataFrame({'RF': alt_metics(data, 'eur_price', model=RF)},\n",
    "                           index=['CV', 'TST0.3'])\n",
    "alt_results"
   ]
  },
  {
   "cell_type": "markdown",
   "metadata": {},
   "source": [
    "### Gradient Boosting"
   ]
  },
  {
   "cell_type": "code",
   "execution_count": 26,
   "metadata": {},
   "outputs": [
    {
     "data": {
      "text/html": [
       "<div>\n",
       "<style scoped>\n",
       "    .dataframe tbody tr th:only-of-type {\n",
       "        vertical-align: middle;\n",
       "    }\n",
       "\n",
       "    .dataframe tbody tr th {\n",
       "        vertical-align: top;\n",
       "    }\n",
       "\n",
       "    .dataframe thead th {\n",
       "        text-align: right;\n",
       "    }\n",
       "</style>\n",
       "<table border=\"1\" class=\"dataframe\">\n",
       "  <thead>\n",
       "    <tr style=\"text-align: right;\">\n",
       "      <th></th>\n",
       "      <th>GB</th>\n",
       "    </tr>\n",
       "  </thead>\n",
       "  <tbody>\n",
       "    <tr>\n",
       "      <th>CV</th>\n",
       "      <td>0.18</td>\n",
       "    </tr>\n",
       "    <tr>\n",
       "      <th>TST0.3</th>\n",
       "      <td>0.18</td>\n",
       "    </tr>\n",
       "  </tbody>\n",
       "</table>\n",
       "</div>"
      ],
      "text/plain": [
       "         GB\n",
       "CV     0.18\n",
       "TST0.3 0.18"
      ]
     },
     "execution_count": 26,
     "metadata": {},
     "output_type": "execute_result"
    }
   ],
   "source": [
    "# Параметры по умолчанию\n",
    "GB = GradientBoostingRegressor(random_state=RS)\n",
    "alt_results = pd.DataFrame({'GB': alt_metics(data, 'eur_price', model=GB)}, \n",
    "                           index = ['CV','TST0.3'])\n",
    "alt_results"
   ]
  },
  {
   "cell_type": "code",
   "execution_count": 36,
   "metadata": {},
   "outputs": [
    {
     "name": "stdout",
     "output_type": "stream",
     "text": [
      "alpha 0.9 \n",
      "\n",
      "ccp_alpha 0.0 \n",
      "\n",
      "criterion friedman_mse \n",
      "\n",
      "init None \n",
      "\n",
      "learning_rate 0.1 \n",
      "\n",
      "loss ls \n",
      "\n",
      "max_depth 3 \n",
      "\n",
      "max_features None \n",
      "\n",
      "max_leaf_nodes None \n",
      "\n",
      "min_impurity_decrease 0.0 \n",
      "\n",
      "min_impurity_split None \n",
      "\n",
      "min_samples_leaf 1 \n",
      "\n",
      "min_samples_split 2 \n",
      "\n",
      "min_weight_fraction_leaf 0.0 \n",
      "\n",
      "n_estimators 750 \n",
      "\n",
      "n_iter_no_change None \n",
      "\n",
      "presort deprecated \n",
      "\n",
      "random_state 42 \n",
      "\n",
      "subsample 1.0 \n",
      "\n",
      "tol 0.0001 \n",
      "\n",
      "validation_fraction 0.1 \n",
      "\n",
      "verbose 0 \n",
      "\n",
      "warm_start False \n",
      "\n"
     ]
    }
   ],
   "source": [
    "# Подбор параметров\n",
    "X_train, X_test, y_train, y_test = train_test_split(X, y, test_size=0.3, shuffle=True, random_state=RS)\n",
    "\n",
    "GB = GradientBoostingRegressor(random_state=RS)\n",
    "\n",
    "param_grid = {'learning_rate':[0.00001, 0.0001, 0.001, 0.01, 0.1, 1], \n",
    "              'n_estimators':[100, 250, 500, 750, 1000]}\n",
    "gridsearch = GridSearchCV(GB, param_grid, n_jobs=-1, cv=3)\n",
    "gridsearch.fit(X_train, y_train)\n",
    "model = gridsearch.best_estimator_\n",
    "\n",
    "# печатаем параметры\n",
    "best_parameters = model.get_params()\n",
    "for param_name in best_parameters:\n",
    "    print(param_name, best_parameters[param_name], '\\n')"
   ]
  },
  {
   "cell_type": "code",
   "execution_count": null,
   "metadata": {},
   "outputs": [],
   "source": []
  },
  {
   "cell_type": "markdown",
   "metadata": {},
   "source": [
    "### ExtraTreesRegressor"
   ]
  },
  {
   "cell_type": "code",
   "execution_count": 30,
   "metadata": {},
   "outputs": [],
   "source": [
    "from sklearn.ensemble import ExtraTreesRegressor"
   ]
  },
  {
   "cell_type": "code",
   "execution_count": 31,
   "metadata": {},
   "outputs": [
    {
     "data": {
      "text/html": [
       "<div>\n",
       "<style scoped>\n",
       "    .dataframe tbody tr th:only-of-type {\n",
       "        vertical-align: middle;\n",
       "    }\n",
       "\n",
       "    .dataframe tbody tr th {\n",
       "        vertical-align: top;\n",
       "    }\n",
       "\n",
       "    .dataframe thead th {\n",
       "        text-align: right;\n",
       "    }\n",
       "</style>\n",
       "<table border=\"1\" class=\"dataframe\">\n",
       "  <thead>\n",
       "    <tr style=\"text-align: right;\">\n",
       "      <th></th>\n",
       "      <th>ETR</th>\n",
       "    </tr>\n",
       "  </thead>\n",
       "  <tbody>\n",
       "    <tr>\n",
       "      <th>CV</th>\n",
       "      <td>0.14</td>\n",
       "    </tr>\n",
       "    <tr>\n",
       "      <th>TST0.3</th>\n",
       "      <td>0.14</td>\n",
       "    </tr>\n",
       "  </tbody>\n",
       "</table>\n",
       "</div>"
      ],
      "text/plain": [
       "        ETR\n",
       "CV     0.14\n",
       "TST0.3 0.14"
      ]
     },
     "execution_count": 31,
     "metadata": {},
     "output_type": "execute_result"
    }
   ],
   "source": [
    "# Параметры по умолчанию\n",
    "ETR = ExtraTreesRegressor(random_state=RS)\n",
    "\n",
    "alt_results = pd.DataFrame({'ETR': alt_metics(data, 'eur_price', model=ETR)},\n",
    "                           index=['CV', 'TST0.3'])\n",
    "alt_results"
   ]
  },
  {
   "cell_type": "code",
   "execution_count": null,
   "metadata": {},
   "outputs": [],
   "source": [
    "# Подбор параметров\n",
    "X_train, X_test, y_train, y_test = train_test_split(X, y, test_size=0.3, shuffle=True, random_state=RS)\n",
    "\n",
    "ETR = ExtraTreesRegressor(random_state=RS)\n",
    "\n",
    "param_grid = {'learning_rate':[0.0001, 0.001, 0.01, 0.1, 1], \n",
    "              'n_estimators':[100, 250, 500, 750, 1000],\n",
    "              'max_depth': [10, 25, 40, 55, 70, 85, 100, None], \n",
    "              'min_samples_split': [2, 5, 10], \n",
    "              'min_samples_leaf': [1, 2, 4], \n",
    "              'max_features': ['auto', 'sqrt']}\n",
    "gridsearch = GridSearchCV(GB, param_grid, n_jobs=-1, cv=3)\n",
    "gridsearch.fit(X_train, y_train)\n",
    "model = gridsearch.best_estimator_\n",
    "\n",
    "# печатаем параметры\n",
    "best_parameters = model.get_params()\n",
    "for param_name in best_parameters:\n",
    "    print(param_name, best_parameters[param_name], '\\n')"
   ]
  },
  {
   "cell_type": "code",
   "execution_count": null,
   "metadata": {},
   "outputs": [],
   "source": []
  },
  {
   "cell_type": "markdown",
   "metadata": {},
   "source": [
    "### HistGradientBoosting"
   ]
  },
  {
   "cell_type": "code",
   "execution_count": 32,
   "metadata": {},
   "outputs": [],
   "source": [
    "from sklearn.ensemble import HistGradientBoostingRegressor"
   ]
  },
  {
   "cell_type": "code",
   "execution_count": 33,
   "metadata": {},
   "outputs": [
    {
     "data": {
      "text/html": [
       "<div>\n",
       "<style scoped>\n",
       "    .dataframe tbody tr th:only-of-type {\n",
       "        vertical-align: middle;\n",
       "    }\n",
       "\n",
       "    .dataframe tbody tr th {\n",
       "        vertical-align: top;\n",
       "    }\n",
       "\n",
       "    .dataframe thead th {\n",
       "        text-align: right;\n",
       "    }\n",
       "</style>\n",
       "<table border=\"1\" class=\"dataframe\">\n",
       "  <thead>\n",
       "    <tr style=\"text-align: right;\">\n",
       "      <th></th>\n",
       "      <th>HGB</th>\n",
       "    </tr>\n",
       "  </thead>\n",
       "  <tbody>\n",
       "    <tr>\n",
       "      <th>CV</th>\n",
       "      <td>0.15</td>\n",
       "    </tr>\n",
       "    <tr>\n",
       "      <th>TST0.3</th>\n",
       "      <td>0.15</td>\n",
       "    </tr>\n",
       "  </tbody>\n",
       "</table>\n",
       "</div>"
      ],
      "text/plain": [
       "        HGB\n",
       "CV     0.15\n",
       "TST0.3 0.15"
      ]
     },
     "execution_count": 33,
     "metadata": {},
     "output_type": "execute_result"
    }
   ],
   "source": [
    "# Параметры по умолчанию\n",
    "HGB = HistGradientBoostingRegressor(random_state=RS)\n",
    "\n",
    "alt_results = pd.DataFrame({'HGB': alt_metics(data, 'eur_price', model=HGB)},\n",
    "                           index=['CV', 'TST0.3'])\n",
    "alt_results"
   ]
  },
  {
   "cell_type": "code",
   "execution_count": null,
   "metadata": {},
   "outputs": [],
   "source": []
  },
  {
   "cell_type": "code",
   "execution_count": 34,
   "metadata": {},
   "outputs": [
    {
     "data": {
      "text/html": [
       "<div>\n",
       "<style scoped>\n",
       "    .dataframe tbody tr th:only-of-type {\n",
       "        vertical-align: middle;\n",
       "    }\n",
       "\n",
       "    .dataframe tbody tr th {\n",
       "        vertical-align: top;\n",
       "    }\n",
       "\n",
       "    .dataframe thead th {\n",
       "        text-align: right;\n",
       "    }\n",
       "</style>\n",
       "<table border=\"1\" class=\"dataframe\">\n",
       "  <thead>\n",
       "    <tr style=\"text-align: right;\">\n",
       "      <th></th>\n",
       "      <th>RF</th>\n",
       "    </tr>\n",
       "  </thead>\n",
       "  <tbody>\n",
       "    <tr>\n",
       "      <th>CV</th>\n",
       "      <td>0.14</td>\n",
       "    </tr>\n",
       "    <tr>\n",
       "      <th>TST0.3</th>\n",
       "      <td>0.14</td>\n",
       "    </tr>\n",
       "  </tbody>\n",
       "</table>\n",
       "</div>"
      ],
      "text/plain": [
       "         RF\n",
       "CV     0.14\n",
       "TST0.3 0.14"
      ]
     },
     "execution_count": 34,
     "metadata": {},
     "output_type": "execute_result"
    }
   ],
   "source": [
    "# Обучим RF модель на подобранных параметрах\n",
    "RF = RandomForestRegressor(n_estimators=1400, min_samples_split=5, min_samples_leaf=1, \n",
    "                           max_features='sqrt', max_depth=80, bootstrap=False, random_state=RS)\n",
    "\n",
    "alt_results = pd.DataFrame({'RF': alt_metics(data, 'eur_price', model=RF)},\n",
    "                           index=['CV', 'TST0.3'])\n",
    "alt_results"
   ]
  },
  {
   "cell_type": "code",
   "execution_count": null,
   "metadata": {},
   "outputs": [],
   "source": []
  }
 ],
 "metadata": {
  "kernelspec": {
   "display_name": "Python 3",
   "language": "python",
   "name": "python3"
  },
  "language_info": {
   "codemirror_mode": {
    "name": "ipython",
    "version": 3
   },
   "file_extension": ".py",
   "mimetype": "text/x-python",
   "name": "python",
   "nbconvert_exporter": "python",
   "pygments_lexer": "ipython3",
   "version": "3.8.8"
  }
 },
 "nbformat": 4,
 "nbformat_minor": 4
}
