{
 "metadata": {
  "language_info": {
   "codemirror_mode": {
    "name": "ipython",
    "version": 3
   },
   "file_extension": ".py",
   "mimetype": "text/x-python",
   "name": "python",
   "nbconvert_exporter": "python",
   "pygments_lexer": "ipython3",
   "version": "3.8.3-final"
  },
  "orig_nbformat": 2,
  "kernelspec": {
   "name": "python3",
   "display_name": "Python 3"
  }
 },
 "nbformat": 4,
 "nbformat_minor": 2,
 "cells": [
  {
   "cell_type": "code",
   "execution_count": 10,
   "metadata": {
    "tags": []
   },
   "outputs": [],
   "source": [
    "#Создание функции, угадывающей число\n",
    "def game_core(number):\n",
    "    count = 0   #Счетчик попыток\n",
    "    prediction_range=[x for x in range(1,101)]  #Диапозон, в котором находится загаданное число\n",
    "    while True:\n",
    "        guess=int(sum(prediction_range)/len(prediction_range)) #Среднеарифметичесое число в диапвзоне, приведенное к целому значению\n",
    "        count+=1\n",
    "        if number == guess: break\n",
    "        elif number > guess:\n",
    "            prediction_range=[x for x in range (guess+1,max(prediction_range)+1)]\n",
    "        elif number < guess:\n",
    "            prediction_range=[x for x in range (min(prediction_range),guess)]\n",
    "    return count"
   ]
  },
  {
   "cell_type": "code",
   "execution_count": 11,
   "metadata": {},
   "outputs": [],
   "source": [
    "#Функция тестирования функции угадывания числа на широкой выборке (взята из задания без изменений)\n",
    "def score_game(game_core):\n",
    "    import numpy as np\n",
    "    count_ls = []   #Создание списка, записыващего результаты попыток\n",
    "    np.random.seed(1)  #Фиксируем RANDOM SEED, чтобы ваш эксперимент был воспроизводим!\n",
    "    random_array = np.random.randint(1,101, size=(1000))\n",
    "    for number in random_array:\n",
    "        count_ls.append(game_core(number))\n",
    "    score = sum(count_ls)/len(count_ls)\n",
    "    print('Ваш алгоритм угадывает число в среднем за {} попыток'.format(score))\n",
    "    return(score)"
   ]
  },
  {
   "cell_type": "code",
   "execution_count": 12,
   "metadata": {
    "tags": []
   },
   "outputs": [
    {
     "output_type": "stream",
     "name": "stdout",
     "text": "Ваш алгоритм угадывает число в среднем за 5.821 попыток\n"
    },
    {
     "output_type": "execute_result",
     "data": {
      "text/plain": "5.821"
     },
     "metadata": {},
     "execution_count": 12
    }
   ],
   "source": [
    "score_game(game_core)   #Вычесление итогового результата метода"
   ]
  }
 ]
}