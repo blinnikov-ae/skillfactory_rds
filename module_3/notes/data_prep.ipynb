{
 "cells": [
  {
   "cell_type": "code",
   "execution_count": 1,
   "metadata": {},
   "outputs": [],
   "source": [
    "import pandas as pd\n",
    "import re\n",
    "import numpy as np\n",
    "from datetime import datetime, timedelta \n",
    "import seaborn as sns\n",
    "import matplotlib.pyplot as plt"
   ]
  },
  {
   "cell_type": "code",
   "execution_count": 2,
   "metadata": {},
   "outputs": [],
   "source": [
    "data = pd.read_csv('main_task.csv')"
   ]
  },
  {
   "cell_type": "markdown",
   "metadata": {},
   "source": [
    "# Первичный анализ DF"
   ]
  },
  {
   "cell_type": "code",
   "execution_count": 3,
   "metadata": {},
   "outputs": [
    {
     "name": "stdout",
     "output_type": "stream",
     "text": [
      "<class 'pandas.core.frame.DataFrame'>\n",
      "RangeIndex: 40000 entries, 0 to 39999\n",
      "Data columns (total 10 columns):\n",
      " #   Column             Non-Null Count  Dtype  \n",
      "---  ------             --------------  -----  \n",
      " 0   Restaurant_id      40000 non-null  object \n",
      " 1   City               40000 non-null  object \n",
      " 2   Cuisine Style      30717 non-null  object \n",
      " 3   Ranking            40000 non-null  float64\n",
      " 4   Rating             40000 non-null  float64\n",
      " 5   Price Range        26114 non-null  object \n",
      " 6   Number of Reviews  37457 non-null  float64\n",
      " 7   Reviews            40000 non-null  object \n",
      " 8   URL_TA             40000 non-null  object \n",
      " 9   ID_TA              40000 non-null  object \n",
      "dtypes: float64(3), object(7)\n",
      "memory usage: 3.1+ MB\n"
     ]
    }
   ],
   "source": [
    "data.info()"
   ]
  },
  {
   "cell_type": "code",
   "execution_count": 4,
   "metadata": {},
   "outputs": [
    {
     "data": {
      "text/plain": [
       "str"
      ]
     },
     "metadata": {},
     "output_type": "display_data"
    },
    {
     "data": {
      "text/plain": [
       "str"
      ]
     },
     "metadata": {},
     "output_type": "display_data"
    },
    {
     "data": {
      "text/plain": [
       "str"
      ]
     },
     "metadata": {},
     "output_type": "display_data"
    },
    {
     "data": {
      "text/plain": [
       "numpy.float64"
      ]
     },
     "metadata": {},
     "output_type": "display_data"
    },
    {
     "data": {
      "text/plain": [
       "numpy.float64"
      ]
     },
     "metadata": {},
     "output_type": "display_data"
    },
    {
     "data": {
      "text/plain": [
       "str"
      ]
     },
     "metadata": {},
     "output_type": "display_data"
    },
    {
     "data": {
      "text/plain": [
       "numpy.float64"
      ]
     },
     "metadata": {},
     "output_type": "display_data"
    },
    {
     "data": {
      "text/plain": [
       "str"
      ]
     },
     "metadata": {},
     "output_type": "display_data"
    },
    {
     "data": {
      "text/plain": [
       "str"
      ]
     },
     "metadata": {},
     "output_type": "display_data"
    },
    {
     "data": {
      "text/plain": [
       "str"
      ]
     },
     "metadata": {},
     "output_type": "display_data"
    }
   ],
   "source": [
    "for i in list(data.columns):\n",
    "    display(type(data[i].iloc[0]))"
   ]
  },
  {
   "cell_type": "code",
   "execution_count": 5,
   "metadata": {},
   "outputs": [
    {
     "data": {
      "text/plain": [
       "11909"
      ]
     },
     "metadata": {},
     "output_type": "display_data"
    },
    {
     "data": {
      "text/plain": [
       "31"
      ]
     },
     "metadata": {},
     "output_type": "display_data"
    },
    {
     "data": {
      "text/plain": [
       "9008"
      ]
     },
     "metadata": {},
     "output_type": "display_data"
    },
    {
     "data": {
      "text/plain": [
       "11936"
      ]
     },
     "metadata": {},
     "output_type": "display_data"
    },
    {
     "data": {
      "text/plain": [
       "9"
      ]
     },
     "metadata": {},
     "output_type": "display_data"
    },
    {
     "data": {
      "text/plain": [
       "4"
      ]
     },
     "metadata": {},
     "output_type": "display_data"
    },
    {
     "data": {
      "text/plain": [
       "1460"
      ]
     },
     "metadata": {},
     "output_type": "display_data"
    },
    {
     "data": {
      "text/plain": [
       "33516"
      ]
     },
     "metadata": {},
     "output_type": "display_data"
    },
    {
     "data": {
      "text/plain": [
       "39980"
      ]
     },
     "metadata": {},
     "output_type": "display_data"
    },
    {
     "data": {
      "text/plain": [
       "39980"
      ]
     },
     "metadata": {},
     "output_type": "display_data"
    }
   ],
   "source": [
    "for i in list(data.columns):\n",
    "    display(len(data[i].unique()))"
   ]
  },
  {
   "cell_type": "markdown",
   "metadata": {},
   "source": [
    "Так как уникальных значений ID_TA и URL_TA меньше 40,000, данные могут содержать дубликаты"
   ]
  },
  {
   "cell_type": "code",
   "execution_count": 6,
   "metadata": {
    "scrolled": true
   },
   "outputs": [
    {
     "data": {
      "text/html": [
       "<div>\n",
       "<style scoped>\n",
       "    .dataframe tbody tr th:only-of-type {\n",
       "        vertical-align: middle;\n",
       "    }\n",
       "\n",
       "    .dataframe tbody tr th {\n",
       "        vertical-align: top;\n",
       "    }\n",
       "\n",
       "    .dataframe thead th {\n",
       "        text-align: right;\n",
       "    }\n",
       "</style>\n",
       "<table border=\"1\" class=\"dataframe\">\n",
       "  <thead>\n",
       "    <tr style=\"text-align: right;\">\n",
       "      <th></th>\n",
       "      <th>Restaurant_id</th>\n",
       "      <th>City</th>\n",
       "      <th>Cuisine Style</th>\n",
       "      <th>Ranking</th>\n",
       "      <th>Rating</th>\n",
       "      <th>Price Range</th>\n",
       "      <th>Number of Reviews</th>\n",
       "      <th>Reviews</th>\n",
       "      <th>URL_TA</th>\n",
       "      <th>ID_TA</th>\n",
       "    </tr>\n",
       "  </thead>\n",
       "  <tbody>\n",
       "    <tr>\n",
       "      <th>38946</th>\n",
       "      <td>id_3242</td>\n",
       "      <td>Madrid</td>\n",
       "      <td>NaN</td>\n",
       "      <td>3244.0</td>\n",
       "      <td>5.0</td>\n",
       "      <td>NaN</td>\n",
       "      <td>13.0</td>\n",
       "      <td>[[], []]</td>\n",
       "      <td>/Restaurant_Review-g187514-d10047799-Reviews-E...</td>\n",
       "      <td>d10047799</td>\n",
       "    </tr>\n",
       "    <tr>\n",
       "      <th>11583</th>\n",
       "      <td>id_3810</td>\n",
       "      <td>Madrid</td>\n",
       "      <td>['American', 'German', 'European', 'Central Eu...</td>\n",
       "      <td>3812.0</td>\n",
       "      <td>4.0</td>\n",
       "      <td>NaN</td>\n",
       "      <td>8.0</td>\n",
       "      <td>[[], []]</td>\n",
       "      <td>/Restaurant_Review-g187514-d11674463-Reviews-B...</td>\n",
       "      <td>d11674463</td>\n",
       "    </tr>\n",
       "    <tr>\n",
       "      <th>26551</th>\n",
       "      <td>id_3240</td>\n",
       "      <td>Madrid</td>\n",
       "      <td>NaN</td>\n",
       "      <td>3242.0</td>\n",
       "      <td>4.5</td>\n",
       "      <td>NaN</td>\n",
       "      <td>7.0</td>\n",
       "      <td>[[], []]</td>\n",
       "      <td>/Restaurant_Review-g187514-d11698990-Reviews-V...</td>\n",
       "      <td>d11698990</td>\n",
       "    </tr>\n",
       "    <tr>\n",
       "      <th>12628</th>\n",
       "      <td>id_2329</td>\n",
       "      <td>Madrid</td>\n",
       "      <td>NaN</td>\n",
       "      <td>2331.0</td>\n",
       "      <td>4.5</td>\n",
       "      <td>NaN</td>\n",
       "      <td>16.0</td>\n",
       "      <td>[[], []]</td>\n",
       "      <td>/Restaurant_Review-g187514-d11921719-Reviews-C...</td>\n",
       "      <td>d11921719</td>\n",
       "    </tr>\n",
       "    <tr>\n",
       "      <th>29879</th>\n",
       "      <td>id_3662</td>\n",
       "      <td>Madrid</td>\n",
       "      <td>['International', 'Mediterranean', 'Spanish', ...</td>\n",
       "      <td>3664.0</td>\n",
       "      <td>4.0</td>\n",
       "      <td>$$ - $$$</td>\n",
       "      <td>52.0</td>\n",
       "      <td>[['Great Food! Wide Variety.', 'Dinner'], ['11...</td>\n",
       "      <td>/Restaurant_Review-g187514-d11999956-Reviews-S...</td>\n",
       "      <td>d11999956</td>\n",
       "    </tr>\n",
       "    <tr>\n",
       "      <th>26696</th>\n",
       "      <td>id_2485</td>\n",
       "      <td>Madrid</td>\n",
       "      <td>['American']</td>\n",
       "      <td>2487.0</td>\n",
       "      <td>5.0</td>\n",
       "      <td>$</td>\n",
       "      <td>6.0</td>\n",
       "      <td>[['Healthy vegan doughnuts are posible', 'Best...</td>\n",
       "      <td>/Restaurant_Review-g187514-d13002276-Reviews-D...</td>\n",
       "      <td>d13002276</td>\n",
       "    </tr>\n",
       "    <tr>\n",
       "      <th>25785</th>\n",
       "      <td>id_511</td>\n",
       "      <td>Madrid</td>\n",
       "      <td>['Mediterranean', 'Spanish', 'Vegetarian Frien...</td>\n",
       "      <td>512.0</td>\n",
       "      <td>4.0</td>\n",
       "      <td>$$ - $$$</td>\n",
       "      <td>355.0</td>\n",
       "      <td>[['Very good all around', 'Our first Madrid re...</td>\n",
       "      <td>/Restaurant_Review-g187514-d1315077-Reviews-El...</td>\n",
       "      <td>d1315077</td>\n",
       "    </tr>\n",
       "    <tr>\n",
       "      <th>24545</th>\n",
       "      <td>id_3805</td>\n",
       "      <td>Madrid</td>\n",
       "      <td>['Spanish']</td>\n",
       "      <td>3807.0</td>\n",
       "      <td>4.0</td>\n",
       "      <td>$</td>\n",
       "      <td>23.0</td>\n",
       "      <td>[['Happened to drop in', 'Right for a quick bi...</td>\n",
       "      <td>/Restaurant_Review-g187514-d2477531-Reviews-Ha...</td>\n",
       "      <td>d2477531</td>\n",
       "    </tr>\n",
       "    <tr>\n",
       "      <th>39847</th>\n",
       "      <td>id_3709</td>\n",
       "      <td>Madrid</td>\n",
       "      <td>['Spanish', 'Bar']</td>\n",
       "      <td>3711.0</td>\n",
       "      <td>3.5</td>\n",
       "      <td>$</td>\n",
       "      <td>217.0</td>\n",
       "      <td>[['Thursday snack', 'Good value for money &amp; go...</td>\n",
       "      <td>/Restaurant_Review-g187514-d3161682-Reviews-Ce...</td>\n",
       "      <td>d3161682</td>\n",
       "    </tr>\n",
       "    <tr>\n",
       "      <th>27680</th>\n",
       "      <td>id_5617</td>\n",
       "      <td>Madrid</td>\n",
       "      <td>['Lebanese', 'Mediterranean', 'Middle Eastern'...</td>\n",
       "      <td>5620.0</td>\n",
       "      <td>3.5</td>\n",
       "      <td>$$ - $$$</td>\n",
       "      <td>443.0</td>\n",
       "      <td>[['Good Lebanese food', 'Decent place'], ['07/...</td>\n",
       "      <td>/Restaurant_Review-g187514-d3685055-Reviews-Sh...</td>\n",
       "      <td>d3685055</td>\n",
       "    </tr>\n",
       "    <tr>\n",
       "      <th>9446</th>\n",
       "      <td>id_4104</td>\n",
       "      <td>Madrid</td>\n",
       "      <td>['Spanish']</td>\n",
       "      <td>4106.0</td>\n",
       "      <td>5.0</td>\n",
       "      <td>NaN</td>\n",
       "      <td>2.0</td>\n",
       "      <td>[[], []]</td>\n",
       "      <td>/Restaurant_Review-g187514-d4600226-Reviews-Ca...</td>\n",
       "      <td>d4600226</td>\n",
       "    </tr>\n",
       "    <tr>\n",
       "      <th>28096</th>\n",
       "      <td>id_1209</td>\n",
       "      <td>Madrid</td>\n",
       "      <td>['Moroccan', 'Vegetarian Friendly', 'Vegan Opt...</td>\n",
       "      <td>1210.0</td>\n",
       "      <td>4.0</td>\n",
       "      <td>$$ - $$$</td>\n",
       "      <td>341.0</td>\n",
       "      <td>[['Great food, service and atmosphere', 'Decor...</td>\n",
       "      <td>/Restaurant_Review-g187514-d697406-Reviews-Al_...</td>\n",
       "      <td>d697406</td>\n",
       "    </tr>\n",
       "    <tr>\n",
       "      <th>32814</th>\n",
       "      <td>id_1197</td>\n",
       "      <td>Madrid</td>\n",
       "      <td>['Mediterranean', 'European', 'Spanish', 'Vege...</td>\n",
       "      <td>1198.0</td>\n",
       "      <td>4.0</td>\n",
       "      <td>$$ - $$$</td>\n",
       "      <td>272.0</td>\n",
       "      <td>[['Simply Excellent!', 'Modern!'], ['10/22/201...</td>\n",
       "      <td>/Restaurant_Review-g187514-d7337366-Reviews-La...</td>\n",
       "      <td>d7337366</td>\n",
       "    </tr>\n",
       "    <tr>\n",
       "      <th>36275</th>\n",
       "      <td>id_2467</td>\n",
       "      <td>Madrid</td>\n",
       "      <td>['Spanish', 'Mediterranean']</td>\n",
       "      <td>2469.0</td>\n",
       "      <td>4.5</td>\n",
       "      <td>$$ - $$$</td>\n",
       "      <td>16.0</td>\n",
       "      <td>[['The real codido madrileño'], ['03/31/2017']]</td>\n",
       "      <td>/Restaurant_Review-g187514-d7342803-Reviews-Lo...</td>\n",
       "      <td>d7342803</td>\n",
       "    </tr>\n",
       "    <tr>\n",
       "      <th>19388</th>\n",
       "      <td>id_4331</td>\n",
       "      <td>Madrid</td>\n",
       "      <td>['American', 'Spanish', 'Asian']</td>\n",
       "      <td>4333.0</td>\n",
       "      <td>3.5</td>\n",
       "      <td>NaN</td>\n",
       "      <td>61.0</td>\n",
       "      <td>[[], []]</td>\n",
       "      <td>/Restaurant_Review-g187514-d7809594-Reviews-La...</td>\n",
       "      <td>d7809594</td>\n",
       "    </tr>\n",
       "    <tr>\n",
       "      <th>36822</th>\n",
       "      <td>id_2487</td>\n",
       "      <td>Madrid</td>\n",
       "      <td>['Italian', 'French', 'European']</td>\n",
       "      <td>2489.0</td>\n",
       "      <td>4.0</td>\n",
       "      <td>$$ - $$$</td>\n",
       "      <td>148.0</td>\n",
       "      <td>[['Sat night', 'Can\\'t even explain.. \"A\" plac...</td>\n",
       "      <td>/Restaurant_Review-g187514-d793170-Reviews-Car...</td>\n",
       "      <td>d793170</td>\n",
       "    </tr>\n",
       "    <tr>\n",
       "      <th>31238</th>\n",
       "      <td>id_1212</td>\n",
       "      <td>Madrid</td>\n",
       "      <td>['Spanish']</td>\n",
       "      <td>1213.0</td>\n",
       "      <td>4.5</td>\n",
       "      <td>$$ - $$$</td>\n",
       "      <td>73.0</td>\n",
       "      <td>[['ok for beer, not for dinner'], ['12/20/2017']]</td>\n",
       "      <td>/Restaurant_Review-g187514-d8753348-Reviews-Tr...</td>\n",
       "      <td>d8753348</td>\n",
       "    </tr>\n",
       "    <tr>\n",
       "      <th>12938</th>\n",
       "      <td>id_2486</td>\n",
       "      <td>Madrid</td>\n",
       "      <td>NaN</td>\n",
       "      <td>2488.0</td>\n",
       "      <td>5.0</td>\n",
       "      <td>NaN</td>\n",
       "      <td>10.0</td>\n",
       "      <td>[['Absolutely authentic and delicious!', 'Wond...</td>\n",
       "      <td>/Restaurant_Review-g187514-d9802625-Reviews-La...</td>\n",
       "      <td>d9802625</td>\n",
       "    </tr>\n",
       "    <tr>\n",
       "      <th>15565</th>\n",
       "      <td>id_530</td>\n",
       "      <td>Madrid</td>\n",
       "      <td>['Japanese', 'Vegetarian Friendly', 'Vegan Opt...</td>\n",
       "      <td>531.0</td>\n",
       "      <td>4.5</td>\n",
       "      <td>$$ - $$$</td>\n",
       "      <td>67.0</td>\n",
       "      <td>[['Whenever in Madrid, we never miss this gem....</td>\n",
       "      <td>/Restaurant_Review-g187514-d9877640-Reviews-Ra...</td>\n",
       "      <td>d9877640</td>\n",
       "    </tr>\n",
       "    <tr>\n",
       "      <th>22998</th>\n",
       "      <td>id_2312</td>\n",
       "      <td>Madrid</td>\n",
       "      <td>['Seafood', 'Mediterranean', 'European', 'Span...</td>\n",
       "      <td>2314.0</td>\n",
       "      <td>4.0</td>\n",
       "      <td>$$ - $$$</td>\n",
       "      <td>190.0</td>\n",
       "      <td>[['Nice restaurant in Madrid', 'Highly reccome...</td>\n",
       "      <td>/Restaurant_Review-g187514-d987900-Reviews-Com...</td>\n",
       "      <td>d987900</td>\n",
       "    </tr>\n",
       "  </tbody>\n",
       "</table>\n",
       "</div>"
      ],
      "text/plain": [
       "      Restaurant_id    City  \\\n",
       "38946       id_3242  Madrid   \n",
       "11583       id_3810  Madrid   \n",
       "26551       id_3240  Madrid   \n",
       "12628       id_2329  Madrid   \n",
       "29879       id_3662  Madrid   \n",
       "26696       id_2485  Madrid   \n",
       "25785        id_511  Madrid   \n",
       "24545       id_3805  Madrid   \n",
       "39847       id_3709  Madrid   \n",
       "27680       id_5617  Madrid   \n",
       "9446        id_4104  Madrid   \n",
       "28096       id_1209  Madrid   \n",
       "32814       id_1197  Madrid   \n",
       "36275       id_2467  Madrid   \n",
       "19388       id_4331  Madrid   \n",
       "36822       id_2487  Madrid   \n",
       "31238       id_1212  Madrid   \n",
       "12938       id_2486  Madrid   \n",
       "15565        id_530  Madrid   \n",
       "22998       id_2312  Madrid   \n",
       "\n",
       "                                           Cuisine Style  Ranking  Rating  \\\n",
       "38946                                                NaN   3244.0     5.0   \n",
       "11583  ['American', 'German', 'European', 'Central Eu...   3812.0     4.0   \n",
       "26551                                                NaN   3242.0     4.5   \n",
       "12628                                                NaN   2331.0     4.5   \n",
       "29879  ['International', 'Mediterranean', 'Spanish', ...   3664.0     4.0   \n",
       "26696                                       ['American']   2487.0     5.0   \n",
       "25785  ['Mediterranean', 'Spanish', 'Vegetarian Frien...    512.0     4.0   \n",
       "24545                                        ['Spanish']   3807.0     4.0   \n",
       "39847                                 ['Spanish', 'Bar']   3711.0     3.5   \n",
       "27680  ['Lebanese', 'Mediterranean', 'Middle Eastern'...   5620.0     3.5   \n",
       "9446                                         ['Spanish']   4106.0     5.0   \n",
       "28096  ['Moroccan', 'Vegetarian Friendly', 'Vegan Opt...   1210.0     4.0   \n",
       "32814  ['Mediterranean', 'European', 'Spanish', 'Vege...   1198.0     4.0   \n",
       "36275                       ['Spanish', 'Mediterranean']   2469.0     4.5   \n",
       "19388                   ['American', 'Spanish', 'Asian']   4333.0     3.5   \n",
       "36822                  ['Italian', 'French', 'European']   2489.0     4.0   \n",
       "31238                                        ['Spanish']   1213.0     4.5   \n",
       "12938                                                NaN   2488.0     5.0   \n",
       "15565  ['Japanese', 'Vegetarian Friendly', 'Vegan Opt...    531.0     4.5   \n",
       "22998  ['Seafood', 'Mediterranean', 'European', 'Span...   2314.0     4.0   \n",
       "\n",
       "      Price Range  Number of Reviews  \\\n",
       "38946         NaN               13.0   \n",
       "11583         NaN                8.0   \n",
       "26551         NaN                7.0   \n",
       "12628         NaN               16.0   \n",
       "29879    $$ - $$$               52.0   \n",
       "26696           $                6.0   \n",
       "25785    $$ - $$$              355.0   \n",
       "24545           $               23.0   \n",
       "39847           $              217.0   \n",
       "27680    $$ - $$$              443.0   \n",
       "9446          NaN                2.0   \n",
       "28096    $$ - $$$              341.0   \n",
       "32814    $$ - $$$              272.0   \n",
       "36275    $$ - $$$               16.0   \n",
       "19388         NaN               61.0   \n",
       "36822    $$ - $$$              148.0   \n",
       "31238    $$ - $$$               73.0   \n",
       "12938         NaN               10.0   \n",
       "15565    $$ - $$$               67.0   \n",
       "22998    $$ - $$$              190.0   \n",
       "\n",
       "                                                 Reviews  \\\n",
       "38946                                           [[], []]   \n",
       "11583                                           [[], []]   \n",
       "26551                                           [[], []]   \n",
       "12628                                           [[], []]   \n",
       "29879  [['Great Food! Wide Variety.', 'Dinner'], ['11...   \n",
       "26696  [['Healthy vegan doughnuts are posible', 'Best...   \n",
       "25785  [['Very good all around', 'Our first Madrid re...   \n",
       "24545  [['Happened to drop in', 'Right for a quick bi...   \n",
       "39847  [['Thursday snack', 'Good value for money & go...   \n",
       "27680  [['Good Lebanese food', 'Decent place'], ['07/...   \n",
       "9446                                            [[], []]   \n",
       "28096  [['Great food, service and atmosphere', 'Decor...   \n",
       "32814  [['Simply Excellent!', 'Modern!'], ['10/22/201...   \n",
       "36275    [['The real codido madrileño'], ['03/31/2017']]   \n",
       "19388                                           [[], []]   \n",
       "36822  [['Sat night', 'Can\\'t even explain.. \"A\" plac...   \n",
       "31238  [['ok for beer, not for dinner'], ['12/20/2017']]   \n",
       "12938  [['Absolutely authentic and delicious!', 'Wond...   \n",
       "15565  [['Whenever in Madrid, we never miss this gem....   \n",
       "22998  [['Nice restaurant in Madrid', 'Highly reccome...   \n",
       "\n",
       "                                                  URL_TA      ID_TA  \n",
       "38946  /Restaurant_Review-g187514-d10047799-Reviews-E...  d10047799  \n",
       "11583  /Restaurant_Review-g187514-d11674463-Reviews-B...  d11674463  \n",
       "26551  /Restaurant_Review-g187514-d11698990-Reviews-V...  d11698990  \n",
       "12628  /Restaurant_Review-g187514-d11921719-Reviews-C...  d11921719  \n",
       "29879  /Restaurant_Review-g187514-d11999956-Reviews-S...  d11999956  \n",
       "26696  /Restaurant_Review-g187514-d13002276-Reviews-D...  d13002276  \n",
       "25785  /Restaurant_Review-g187514-d1315077-Reviews-El...   d1315077  \n",
       "24545  /Restaurant_Review-g187514-d2477531-Reviews-Ha...   d2477531  \n",
       "39847  /Restaurant_Review-g187514-d3161682-Reviews-Ce...   d3161682  \n",
       "27680  /Restaurant_Review-g187514-d3685055-Reviews-Sh...   d3685055  \n",
       "9446   /Restaurant_Review-g187514-d4600226-Reviews-Ca...   d4600226  \n",
       "28096  /Restaurant_Review-g187514-d697406-Reviews-Al_...    d697406  \n",
       "32814  /Restaurant_Review-g187514-d7337366-Reviews-La...   d7337366  \n",
       "36275  /Restaurant_Review-g187514-d7342803-Reviews-Lo...   d7342803  \n",
       "19388  /Restaurant_Review-g187514-d7809594-Reviews-La...   d7809594  \n",
       "36822  /Restaurant_Review-g187514-d793170-Reviews-Car...    d793170  \n",
       "31238  /Restaurant_Review-g187514-d8753348-Reviews-Tr...   d8753348  \n",
       "12938  /Restaurant_Review-g187514-d9802625-Reviews-La...   d9802625  \n",
       "15565  /Restaurant_Review-g187514-d9877640-Reviews-Ra...   d9877640  \n",
       "22998  /Restaurant_Review-g187514-d987900-Reviews-Com...    d987900  "
      ]
     },
     "execution_count": 6,
     "metadata": {},
     "output_type": "execute_result"
    }
   ],
   "source": [
    "#Создание DF содежащего дубликаты по признаку ID_TA\n",
    "duplicates=data[data.ID_TA.duplicated() == True].sort_values(by ='ID_TA')\n",
    "duplicates"
   ]
  },
  {
   "cell_type": "code",
   "execution_count": 7,
   "metadata": {},
   "outputs": [
    {
     "data": {
      "text/plain": [
       "array(['Madrid'], dtype=object)"
      ]
     },
     "execution_count": 7,
     "metadata": {},
     "output_type": "execute_result"
    }
   ],
   "source": [
    "duplicates.City.unique()"
   ]
  },
  {
   "cell_type": "markdown",
   "metadata": {},
   "source": [
    "Судя по всему, данные задвоеннны по City == Madrid"
   ]
  },
  {
   "cell_type": "code",
   "execution_count": 8,
   "metadata": {
    "scrolled": false
   },
   "outputs": [
    {
     "data": {
      "text/html": [
       "<div>\n",
       "<style scoped>\n",
       "    .dataframe tbody tr th:only-of-type {\n",
       "        vertical-align: middle;\n",
       "    }\n",
       "\n",
       "    .dataframe tbody tr th {\n",
       "        vertical-align: top;\n",
       "    }\n",
       "\n",
       "    .dataframe thead th {\n",
       "        text-align: right;\n",
       "    }\n",
       "</style>\n",
       "<table border=\"1\" class=\"dataframe\">\n",
       "  <thead>\n",
       "    <tr style=\"text-align: right;\">\n",
       "      <th></th>\n",
       "      <th>Restaurant_id</th>\n",
       "      <th>City</th>\n",
       "      <th>Cuisine Style</th>\n",
       "      <th>Ranking</th>\n",
       "      <th>Rating</th>\n",
       "      <th>Price Range</th>\n",
       "      <th>Number of Reviews</th>\n",
       "      <th>Reviews</th>\n",
       "      <th>URL_TA</th>\n",
       "      <th>ID_TA</th>\n",
       "    </tr>\n",
       "  </thead>\n",
       "  <tbody>\n",
       "    <tr>\n",
       "      <th>13980</th>\n",
       "      <td>id_3239</td>\n",
       "      <td>Madrid</td>\n",
       "      <td>NaN</td>\n",
       "      <td>3241.0</td>\n",
       "      <td>5.0</td>\n",
       "      <td>NaN</td>\n",
       "      <td>13.0</td>\n",
       "      <td>[[], []]</td>\n",
       "      <td>/Restaurant_Review-g187514-d10047799-Reviews-E...</td>\n",
       "      <td>d10047799</td>\n",
       "    </tr>\n",
       "    <tr>\n",
       "      <th>38946</th>\n",
       "      <td>id_3242</td>\n",
       "      <td>Madrid</td>\n",
       "      <td>NaN</td>\n",
       "      <td>3244.0</td>\n",
       "      <td>5.0</td>\n",
       "      <td>NaN</td>\n",
       "      <td>13.0</td>\n",
       "      <td>[[], []]</td>\n",
       "      <td>/Restaurant_Review-g187514-d10047799-Reviews-E...</td>\n",
       "      <td>d10047799</td>\n",
       "    </tr>\n",
       "  </tbody>\n",
       "</table>\n",
       "</div>"
      ],
      "text/plain": [
       "      Restaurant_id    City Cuisine Style  Ranking  Rating Price Range  \\\n",
       "13980       id_3239  Madrid           NaN   3241.0     5.0         NaN   \n",
       "38946       id_3242  Madrid           NaN   3244.0     5.0         NaN   \n",
       "\n",
       "       Number of Reviews   Reviews  \\\n",
       "13980               13.0  [[], []]   \n",
       "38946               13.0  [[], []]   \n",
       "\n",
       "                                                  URL_TA      ID_TA  \n",
       "13980  /Restaurant_Review-g187514-d10047799-Reviews-E...  d10047799  \n",
       "38946  /Restaurant_Review-g187514-d10047799-Reviews-E...  d10047799  "
      ]
     },
     "execution_count": 8,
     "metadata": {},
     "output_type": "execute_result"
    }
   ],
   "source": [
    "data[data.ID_TA == duplicates.ID_TA.iloc[0]]"
   ]
  },
  {
   "cell_type": "code",
   "execution_count": 9,
   "metadata": {
    "scrolled": true
   },
   "outputs": [
    {
     "data": {
      "text/plain": [
       "[0.0,\n",
       " 0.0,\n",
       " 0.0,\n",
       " 0.0,\n",
       " 0.0,\n",
       " 0.0,\n",
       " 0.0,\n",
       " 0.0,\n",
       " 0.0,\n",
       " 0.0,\n",
       " 0.0,\n",
       " 0.0,\n",
       " 0.0,\n",
       " 0.0,\n",
       " 0.0,\n",
       " 0.0,\n",
       " 0.0,\n",
       " 0.0,\n",
       " 0.0,\n",
       " 0.0]"
      ]
     },
     "execution_count": 9,
     "metadata": {},
     "output_type": "execute_result"
    }
   ],
   "source": [
    "difference_check = []\n",
    "for i in list(duplicates.ID_TA):\n",
    "    # Ниже вычисление разницы в целевой переменной для дубликатов\n",
    "    dif = list(data[data.ID_TA == i].Rating)[0] - list(data[data.ID_TA == i].Rating)[1]\n",
    "    difference_check.append(dif)\n",
    "difference_check"
   ]
  },
  {
   "cell_type": "markdown",
   "metadata": {},
   "source": [
    "Различае между задвоенными строками по значениям Ranking и Restaurant_id.  Данная разница не оказывает влияния на предсказываемую величину. Дубликаты могут быть удалены."
   ]
  },
  {
   "cell_type": "markdown",
   "metadata": {},
   "source": [
    "## 1. Очистка дубликатов"
   ]
  },
  {
   "cell_type": "code",
   "execution_count": 10,
   "metadata": {},
   "outputs": [],
   "source": [
    "data.drop_duplicates(subset = 'ID_TA', inplace = True)"
   ]
  },
  {
   "cell_type": "markdown",
   "metadata": {},
   "source": [
    "# Анализ, преобразование и заполнение признаков"
   ]
  },
  {
   "cell_type": "markdown",
   "metadata": {},
   "source": [
    "## Price Range"
   ]
  },
  {
   "cell_type": "code",
   "execution_count": 11,
   "metadata": {},
   "outputs": [
    {
     "data": {
      "text/plain": [
       "array(['$$ - $$$', nan, '$$$$', '$'], dtype=object)"
      ]
     },
     "execution_count": 11,
     "metadata": {},
     "output_type": "execute_result"
    }
   ],
   "source": [
    "data['Price Range'].unique()"
   ]
  },
  {
   "cell_type": "code",
   "execution_count": 12,
   "metadata": {},
   "outputs": [
    {
     "data": {
      "text/plain": [
       "$$ - $$$    18402\n",
       "$            6276\n",
       "$$$$         1423\n",
       "Name: Price Range, dtype: int64"
      ]
     },
     "execution_count": 12,
     "metadata": {},
     "output_type": "execute_result"
    }
   ],
   "source": [
    "data['Price Range'].value_counts()"
   ]
  },
  {
   "cell_type": "markdown",
   "metadata": {},
   "source": [
    "## 2. Преобразование и заполнение пропусков Price Range"
   ]
  },
  {
   "cell_type": "code",
   "execution_count": 13,
   "metadata": {},
   "outputs": [],
   "source": [
    "#Создание словоря для преобразования класса цены в число, где 1 - самые дешевые рестораны.\n",
    "mapping_dict = {data['Price Range'].unique()[0]: 2,\n",
    "                data['Price Range'].unique()[2]: 3,\n",
    "                data['Price Range'].unique()[3]: 1}"
   ]
  },
  {
   "cell_type": "code",
   "execution_count": 14,
   "metadata": {},
   "outputs": [],
   "source": [
    "# Преобразование признака в числовой формат для работы с пропусками\n",
    "data['price_class'] = data['Price Range'].map(mapping_dict)"
   ]
  },
  {
   "cell_type": "code",
   "execution_count": 15,
   "metadata": {
    "scrolled": true
   },
   "outputs": [],
   "source": [
    "# Функция вычисления среднего класса по городу и квинтилю Ranking для города\n",
    "def main_price(city, i):\n",
    "    data_c = data[data.City == city]\n",
    "    result = data_c[(data_c.Ranking.quantile(i) <= data_c.Ranking) & (data_c.Ranking < data_c.Ranking.quantile(i+0.2))].price_class.dropna().mean()\n",
    "    return result"
   ]
  },
  {
   "cell_type": "code",
   "execution_count": 16,
   "metadata": {},
   "outputs": [],
   "source": [
    "# Функция вычисляющая скрию значений по городам для определенного квинтиля\n",
    "def quantile(quantile):\n",
    "    series=[]\n",
    "    for i in data.City.unique():\n",
    "        series.append(main_price(i, quantile))\n",
    "    return series"
   ]
  },
  {
   "cell_type": "code",
   "execution_count": 17,
   "metadata": {},
   "outputs": [],
   "source": [
    "# Создание DF c итоговыми значениями\n",
    "city_price = pd.DataFrame({'city': data.City.unique()})\n",
    "quantiles = [x/10 for x in range(8, -1, -2)]\n",
    "for i in quantiles:\n",
    "    city_price[i]=quantile(i)"
   ]
  },
  {
   "cell_type": "code",
   "execution_count": 18,
   "metadata": {},
   "outputs": [
    {
     "data": {
      "text/html": [
       "<div>\n",
       "<style scoped>\n",
       "    .dataframe tbody tr th:only-of-type {\n",
       "        vertical-align: middle;\n",
       "    }\n",
       "\n",
       "    .dataframe tbody tr th {\n",
       "        vertical-align: top;\n",
       "    }\n",
       "\n",
       "    .dataframe thead th {\n",
       "        text-align: right;\n",
       "    }\n",
       "</style>\n",
       "<table border=\"1\" class=\"dataframe\">\n",
       "  <thead>\n",
       "    <tr style=\"text-align: right;\">\n",
       "      <th></th>\n",
       "      <th>city</th>\n",
       "      <th>0.8</th>\n",
       "      <th>0.6</th>\n",
       "      <th>0.4</th>\n",
       "      <th>0.2</th>\n",
       "      <th>0.0</th>\n",
       "    </tr>\n",
       "  </thead>\n",
       "  <tbody>\n",
       "    <tr>\n",
       "      <th>0</th>\n",
       "      <td>Paris</td>\n",
       "      <td>1.843182</td>\n",
       "      <td>1.812796</td>\n",
       "      <td>1.808544</td>\n",
       "      <td>1.860950</td>\n",
       "      <td>2.049948</td>\n",
       "    </tr>\n",
       "    <tr>\n",
       "      <th>1</th>\n",
       "      <td>Stockholm</td>\n",
       "      <td>1.827586</td>\n",
       "      <td>1.857143</td>\n",
       "      <td>1.796610</td>\n",
       "      <td>1.931034</td>\n",
       "      <td>2.075949</td>\n",
       "    </tr>\n",
       "    <tr>\n",
       "      <th>2</th>\n",
       "      <td>London</td>\n",
       "      <td>1.676976</td>\n",
       "      <td>1.727592</td>\n",
       "      <td>1.705405</td>\n",
       "      <td>1.789901</td>\n",
       "      <td>1.985179</td>\n",
       "    </tr>\n",
       "    <tr>\n",
       "      <th>3</th>\n",
       "      <td>Berlin</td>\n",
       "      <td>1.746154</td>\n",
       "      <td>1.652174</td>\n",
       "      <td>1.666667</td>\n",
       "      <td>1.701923</td>\n",
       "      <td>1.864407</td>\n",
       "    </tr>\n",
       "    <tr>\n",
       "      <th>4</th>\n",
       "      <td>Munich</td>\n",
       "      <td>1.815789</td>\n",
       "      <td>1.746667</td>\n",
       "      <td>1.876404</td>\n",
       "      <td>1.891156</td>\n",
       "      <td>2.056497</td>\n",
       "    </tr>\n",
       "    <tr>\n",
       "      <th>5</th>\n",
       "      <td>Oporto</td>\n",
       "      <td>1.782609</td>\n",
       "      <td>1.605263</td>\n",
       "      <td>1.560000</td>\n",
       "      <td>1.630435</td>\n",
       "      <td>1.796117</td>\n",
       "    </tr>\n",
       "    <tr>\n",
       "      <th>6</th>\n",
       "      <td>Milan</td>\n",
       "      <td>1.597315</td>\n",
       "      <td>1.658730</td>\n",
       "      <td>1.606195</td>\n",
       "      <td>1.698061</td>\n",
       "      <td>1.919048</td>\n",
       "    </tr>\n",
       "    <tr>\n",
       "      <th>7</th>\n",
       "      <td>Bratislava</td>\n",
       "      <td>1.789474</td>\n",
       "      <td>1.800000</td>\n",
       "      <td>1.777778</td>\n",
       "      <td>1.774194</td>\n",
       "      <td>1.928571</td>\n",
       "    </tr>\n",
       "    <tr>\n",
       "      <th>8</th>\n",
       "      <td>Vienna</td>\n",
       "      <td>1.813187</td>\n",
       "      <td>1.699029</td>\n",
       "      <td>1.717172</td>\n",
       "      <td>1.869110</td>\n",
       "      <td>1.982533</td>\n",
       "    </tr>\n",
       "    <tr>\n",
       "      <th>9</th>\n",
       "      <td>Rome</td>\n",
       "      <td>1.587940</td>\n",
       "      <td>1.624161</td>\n",
       "      <td>1.671348</td>\n",
       "      <td>1.800000</td>\n",
       "      <td>1.835784</td>\n",
       "    </tr>\n",
       "    <tr>\n",
       "      <th>10</th>\n",
       "      <td>Barcelona</td>\n",
       "      <td>1.701195</td>\n",
       "      <td>1.654028</td>\n",
       "      <td>1.709265</td>\n",
       "      <td>1.773196</td>\n",
       "      <td>1.921933</td>\n",
       "    </tr>\n",
       "    <tr>\n",
       "      <th>11</th>\n",
       "      <td>Madrid</td>\n",
       "      <td>1.697095</td>\n",
       "      <td>1.736585</td>\n",
       "      <td>1.779070</td>\n",
       "      <td>1.844706</td>\n",
       "      <td>1.986577</td>\n",
       "    </tr>\n",
       "    <tr>\n",
       "      <th>12</th>\n",
       "      <td>Dublin</td>\n",
       "      <td>1.724638</td>\n",
       "      <td>1.611940</td>\n",
       "      <td>1.673077</td>\n",
       "      <td>1.780303</td>\n",
       "      <td>1.947761</td>\n",
       "    </tr>\n",
       "    <tr>\n",
       "      <th>13</th>\n",
       "      <td>Brussels</td>\n",
       "      <td>1.803738</td>\n",
       "      <td>1.735632</td>\n",
       "      <td>1.810811</td>\n",
       "      <td>1.813953</td>\n",
       "      <td>1.995238</td>\n",
       "    </tr>\n",
       "    <tr>\n",
       "      <th>14</th>\n",
       "      <td>Zurich</td>\n",
       "      <td>1.772727</td>\n",
       "      <td>1.796296</td>\n",
       "      <td>1.887324</td>\n",
       "      <td>1.958763</td>\n",
       "      <td>2.186916</td>\n",
       "    </tr>\n",
       "    <tr>\n",
       "      <th>15</th>\n",
       "      <td>Warsaw</td>\n",
       "      <td>1.661017</td>\n",
       "      <td>1.596491</td>\n",
       "      <td>1.678571</td>\n",
       "      <td>1.894309</td>\n",
       "      <td>1.943662</td>\n",
       "    </tr>\n",
       "    <tr>\n",
       "      <th>16</th>\n",
       "      <td>Budapest</td>\n",
       "      <td>1.574468</td>\n",
       "      <td>1.608696</td>\n",
       "      <td>1.644444</td>\n",
       "      <td>1.633803</td>\n",
       "      <td>1.938650</td>\n",
       "    </tr>\n",
       "    <tr>\n",
       "      <th>17</th>\n",
       "      <td>Copenhagen</td>\n",
       "      <td>1.796875</td>\n",
       "      <td>1.750000</td>\n",
       "      <td>1.873016</td>\n",
       "      <td>1.846154</td>\n",
       "      <td>2.083969</td>\n",
       "    </tr>\n",
       "    <tr>\n",
       "      <th>18</th>\n",
       "      <td>Amsterdam</td>\n",
       "      <td>1.773913</td>\n",
       "      <td>1.743119</td>\n",
       "      <td>1.762162</td>\n",
       "      <td>1.897196</td>\n",
       "      <td>1.944444</td>\n",
       "    </tr>\n",
       "    <tr>\n",
       "      <th>19</th>\n",
       "      <td>Lyon</td>\n",
       "      <td>1.727273</td>\n",
       "      <td>1.816327</td>\n",
       "      <td>1.835443</td>\n",
       "      <td>1.842520</td>\n",
       "      <td>2.024845</td>\n",
       "    </tr>\n",
       "    <tr>\n",
       "      <th>20</th>\n",
       "      <td>Hamburg</td>\n",
       "      <td>1.700000</td>\n",
       "      <td>1.807692</td>\n",
       "      <td>1.771930</td>\n",
       "      <td>1.869159</td>\n",
       "      <td>1.948864</td>\n",
       "    </tr>\n",
       "    <tr>\n",
       "      <th>21</th>\n",
       "      <td>Lisbon</td>\n",
       "      <td>1.776000</td>\n",
       "      <td>1.568627</td>\n",
       "      <td>1.625850</td>\n",
       "      <td>1.703540</td>\n",
       "      <td>1.845560</td>\n",
       "    </tr>\n",
       "    <tr>\n",
       "      <th>22</th>\n",
       "      <td>Prague</td>\n",
       "      <td>1.731707</td>\n",
       "      <td>1.642857</td>\n",
       "      <td>1.549618</td>\n",
       "      <td>1.672340</td>\n",
       "      <td>1.898955</td>\n",
       "    </tr>\n",
       "    <tr>\n",
       "      <th>23</th>\n",
       "      <td>Oslo</td>\n",
       "      <td>1.926829</td>\n",
       "      <td>1.736842</td>\n",
       "      <td>1.813953</td>\n",
       "      <td>1.878788</td>\n",
       "      <td>2.181818</td>\n",
       "    </tr>\n",
       "    <tr>\n",
       "      <th>24</th>\n",
       "      <td>Helsinki</td>\n",
       "      <td>1.727273</td>\n",
       "      <td>1.710526</td>\n",
       "      <td>1.833333</td>\n",
       "      <td>1.825397</td>\n",
       "      <td>1.946667</td>\n",
       "    </tr>\n",
       "    <tr>\n",
       "      <th>25</th>\n",
       "      <td>Edinburgh</td>\n",
       "      <td>1.470588</td>\n",
       "      <td>1.540541</td>\n",
       "      <td>1.610619</td>\n",
       "      <td>1.739496</td>\n",
       "      <td>2.025210</td>\n",
       "    </tr>\n",
       "    <tr>\n",
       "      <th>26</th>\n",
       "      <td>Geneva</td>\n",
       "      <td>1.923077</td>\n",
       "      <td>2.074074</td>\n",
       "      <td>1.936170</td>\n",
       "      <td>2.043478</td>\n",
       "      <td>2.150538</td>\n",
       "    </tr>\n",
       "    <tr>\n",
       "      <th>27</th>\n",
       "      <td>Ljubljana</td>\n",
       "      <td>1.750000</td>\n",
       "      <td>1.444444</td>\n",
       "      <td>1.842105</td>\n",
       "      <td>1.794118</td>\n",
       "      <td>1.918919</td>\n",
       "    </tr>\n",
       "    <tr>\n",
       "      <th>28</th>\n",
       "      <td>Athens</td>\n",
       "      <td>1.653846</td>\n",
       "      <td>1.607843</td>\n",
       "      <td>1.635294</td>\n",
       "      <td>1.786325</td>\n",
       "      <td>1.800000</td>\n",
       "    </tr>\n",
       "    <tr>\n",
       "      <th>29</th>\n",
       "      <td>Luxembourg</td>\n",
       "      <td>1.842105</td>\n",
       "      <td>1.888889</td>\n",
       "      <td>1.892857</td>\n",
       "      <td>2.024390</td>\n",
       "      <td>2.119048</td>\n",
       "    </tr>\n",
       "    <tr>\n",
       "      <th>30</th>\n",
       "      <td>Krakow</td>\n",
       "      <td>1.470588</td>\n",
       "      <td>1.470588</td>\n",
       "      <td>1.553846</td>\n",
       "      <td>1.719512</td>\n",
       "      <td>1.797753</td>\n",
       "    </tr>\n",
       "  </tbody>\n",
       "</table>\n",
       "</div>"
      ],
      "text/plain": [
       "          city       0.8       0.6       0.4       0.2       0.0\n",
       "0        Paris  1.843182  1.812796  1.808544  1.860950  2.049948\n",
       "1    Stockholm  1.827586  1.857143  1.796610  1.931034  2.075949\n",
       "2       London  1.676976  1.727592  1.705405  1.789901  1.985179\n",
       "3       Berlin  1.746154  1.652174  1.666667  1.701923  1.864407\n",
       "4       Munich  1.815789  1.746667  1.876404  1.891156  2.056497\n",
       "5       Oporto  1.782609  1.605263  1.560000  1.630435  1.796117\n",
       "6        Milan  1.597315  1.658730  1.606195  1.698061  1.919048\n",
       "7   Bratislava  1.789474  1.800000  1.777778  1.774194  1.928571\n",
       "8       Vienna  1.813187  1.699029  1.717172  1.869110  1.982533\n",
       "9         Rome  1.587940  1.624161  1.671348  1.800000  1.835784\n",
       "10   Barcelona  1.701195  1.654028  1.709265  1.773196  1.921933\n",
       "11      Madrid  1.697095  1.736585  1.779070  1.844706  1.986577\n",
       "12      Dublin  1.724638  1.611940  1.673077  1.780303  1.947761\n",
       "13    Brussels  1.803738  1.735632  1.810811  1.813953  1.995238\n",
       "14      Zurich  1.772727  1.796296  1.887324  1.958763  2.186916\n",
       "15      Warsaw  1.661017  1.596491  1.678571  1.894309  1.943662\n",
       "16    Budapest  1.574468  1.608696  1.644444  1.633803  1.938650\n",
       "17  Copenhagen  1.796875  1.750000  1.873016  1.846154  2.083969\n",
       "18   Amsterdam  1.773913  1.743119  1.762162  1.897196  1.944444\n",
       "19        Lyon  1.727273  1.816327  1.835443  1.842520  2.024845\n",
       "20     Hamburg  1.700000  1.807692  1.771930  1.869159  1.948864\n",
       "21      Lisbon  1.776000  1.568627  1.625850  1.703540  1.845560\n",
       "22      Prague  1.731707  1.642857  1.549618  1.672340  1.898955\n",
       "23        Oslo  1.926829  1.736842  1.813953  1.878788  2.181818\n",
       "24    Helsinki  1.727273  1.710526  1.833333  1.825397  1.946667\n",
       "25   Edinburgh  1.470588  1.540541  1.610619  1.739496  2.025210\n",
       "26      Geneva  1.923077  2.074074  1.936170  2.043478  2.150538\n",
       "27   Ljubljana  1.750000  1.444444  1.842105  1.794118  1.918919\n",
       "28      Athens  1.653846  1.607843  1.635294  1.786325  1.800000\n",
       "29  Luxembourg  1.842105  1.888889  1.892857  2.024390  2.119048\n",
       "30      Krakow  1.470588  1.470588  1.553846  1.719512  1.797753"
      ]
     },
     "execution_count": 18,
     "metadata": {},
     "output_type": "execute_result"
    }
   ],
   "source": [
    "city_price"
   ]
  },
  {
   "cell_type": "markdown",
   "metadata": {},
   "source": [
    "В большинстве случаев, среднеарифметический класс соответствует самому популярному значению в DF (средний). Тем не менее, иммется несколько исключений."
   ]
  },
  {
   "cell_type": "code",
   "execution_count": 19,
   "metadata": {},
   "outputs": [
    {
     "data": {
      "text/plain": [
       "[['Edinburgh', 0.8], ['Krakow', 0.8], ['Ljubljana', 0.6], ['Krakow', 0.6]]"
      ]
     },
     "execution_count": 19,
     "metadata": {},
     "output_type": "execute_result"
    }
   ],
   "source": [
    "#Создание списка содержащего вложенный список [город-квинтиль],\n",
    "#где преоблядают дешевые рестораны.\n",
    "class1_price=[]\n",
    "for i in quantiles:\n",
    "    for j in city_price[city_price[i]<1.5].city:\n",
    "        class1_price.append([j, i])\n",
    "class1_price"
   ]
  },
  {
   "cell_type": "code",
   "execution_count": 20,
   "metadata": {
    "scrolled": true
   },
   "outputs": [
    {
     "name": "stderr",
     "output_type": "stream",
     "text": [
      "<ipython-input-20-4ac930a800e1>:14: SettingWithCopyWarning: \n",
      "A value is trying to be set on a copy of a slice from a DataFrame\n",
      "\n",
      "See the caveats in the documentation: https://pandas.pydata.org/pandas-docs/stable/user_guide/indexing.html#returning-a-view-versus-a-copy\n",
      "  data.xs(i)['price_class'] = 1\n"
     ]
    }
   ],
   "source": [
    "#Заполнение соответствующих значений\n",
    "class1_indexes=[]\n",
    "if len(class1_price)>0:\n",
    "    #Цикл достает индексы строк соответствующих парам [город-квинтиль]\n",
    "    for pair in class1_price:\n",
    "        city = pair[0]\n",
    "        Q = pair[1]\n",
    "        df = data[(data.City == city) & (data[data.City == city].Ranking.quantile(Q) <= data.Ranking) & (data[data.City == city].Ranking < data.Ranking.quantile(Q+0.2))]\n",
    "        #Цикл оставляет только пустые ячейки\n",
    "        for i in df[df.price_class.isna()].index:\n",
    "            class1_indexes.append(i)\n",
    "    #Цикл заполния пустых значений\n",
    "    for i in class1_indexes:\n",
    "        data.xs(i)['price_class'] = 1    "
   ]
  },
  {
   "cell_type": "code",
   "execution_count": 21,
   "metadata": {},
   "outputs": [
    {
     "data": {
      "text/plain": [
       "[]"
      ]
     },
     "execution_count": 21,
     "metadata": {},
     "output_type": "execute_result"
    }
   ],
   "source": [
    "#Создание списка содержащего вложенный список [город-квинтиль], где преоблядают дорогие рестораны.\n",
    "#Не сотря на то, что список пуст, он может быть актуален для других данных\n",
    "class3_price=[]\n",
    "for i in quantiles:\n",
    "    for j in city_price[city_price[i]>=2.5].city:\n",
    "        class1_price.append([j, i])\n",
    "class3_price"
   ]
  },
  {
   "cell_type": "code",
   "execution_count": 22,
   "metadata": {},
   "outputs": [],
   "source": [
    "#Заполнение соответствующих значений аналогично дешевым ресторанам\n",
    "class3_indexes=[]\n",
    "if len(class3_price)>0:\n",
    "    for pair in class3_price:\n",
    "        city = pair[0]\n",
    "        Q = pair[1]\n",
    "        df = data[(data.City == city) & (data[data.City == city].Ranking.quantile(Q) <= data.Ranking) & (data[data.City == city].Ranking < data.Ranking.quantile(Q+0.2))]\n",
    "        for i in df[df.price_class.isna()].index:\n",
    "            class3_indexes.append(i)\n",
    "    for i in class3_indexes:\n",
    "        data.xs(i)['price_class'] = 1 "
   ]
  },
  {
   "cell_type": "code",
   "execution_count": 23,
   "metadata": {},
   "outputs": [],
   "source": [
    "#Заполнение оставшихся ячеек самым популярным значением\n",
    "data.price_class.fillna(value = 2, inplace =True)"
   ]
  },
  {
   "cell_type": "markdown",
   "metadata": {},
   "source": [
    "## City"
   ]
  },
  {
   "cell_type": "code",
   "execution_count": 24,
   "metadata": {},
   "outputs": [
    {
     "data": {
      "text/plain": [
       "31"
      ]
     },
     "execution_count": 24,
     "metadata": {},
     "output_type": "execute_result"
    }
   ],
   "source": [
    "len(data.City.unique())"
   ]
  },
  {
   "cell_type": "markdown",
   "metadata": {},
   "source": [
    "## Cuisine Style"
   ]
  },
  {
   "cell_type": "markdown",
   "metadata": {},
   "source": [
    "## 3. Преобразование и заполнение пропусков Cuisine Style"
   ]
  },
  {
   "cell_type": "code",
   "execution_count": 25,
   "metadata": {},
   "outputs": [],
   "source": [
    "#Создание списка из строки\n",
    "data['Cuisine Style'] = data['Cuisine Style'].str.findall(r'\\w+\\s*\\w*\\s*\\w*\\s*\\w*\\s*\\w*')"
   ]
  },
  {
   "cell_type": "code",
   "execution_count": 26,
   "metadata": {},
   "outputs": [
    {
     "data": {
      "text/plain": [
       "Vegetarian Friendly    11183\n",
       "European               10056\n",
       "Mediterranean           6271\n",
       "Italian                 5963\n",
       "Vegan Options           4482\n",
       "                       ...  \n",
       "Yunnan                     1\n",
       "Latvian                    1\n",
       "Salvadoran                 1\n",
       "Xinjiang                   1\n",
       "Burmese                    1\n",
       "Length: 126, dtype: int64"
      ]
     },
     "execution_count": 26,
     "metadata": {},
     "output_type": "execute_result"
    }
   ],
   "source": [
    "pd.Series(data['Cuisine Style'].dropna().sum()).value_counts()"
   ]
  },
  {
   "cell_type": "code",
   "execution_count": 27,
   "metadata": {},
   "outputs": [],
   "source": [
    "#Функция вычисляющая самую популярную кухню в городе.\n",
    "#Значение \"European\" опущено, т.к. говорит о географическом происхождении не достаточно точно\n",
    "def popular_cuisine(city):\n",
    "    popular_values = pd.Series(data[data.City == city]['Cuisine Style'].dropna().sum()).value_counts()\n",
    "    if popular_values.index[0] != 'European':\n",
    "        result = popular_values.index[0]\n",
    "    else:\n",
    "        result = popular_values.index[1]\n",
    "    return result"
   ]
  },
  {
   "cell_type": "code",
   "execution_count": 28,
   "metadata": {},
   "outputs": [
    {
     "data": {
      "text/html": [
       "<div>\n",
       "<style scoped>\n",
       "    .dataframe tbody tr th:only-of-type {\n",
       "        vertical-align: middle;\n",
       "    }\n",
       "\n",
       "    .dataframe tbody tr th {\n",
       "        vertical-align: top;\n",
       "    }\n",
       "\n",
       "    .dataframe thead th {\n",
       "        text-align: right;\n",
       "    }\n",
       "</style>\n",
       "<table border=\"1\" class=\"dataframe\">\n",
       "  <thead>\n",
       "    <tr style=\"text-align: right;\">\n",
       "      <th></th>\n",
       "      <th>city</th>\n",
       "      <th>cuisine</th>\n",
       "    </tr>\n",
       "  </thead>\n",
       "  <tbody>\n",
       "    <tr>\n",
       "      <th>0</th>\n",
       "      <td>Paris</td>\n",
       "      <td>French</td>\n",
       "    </tr>\n",
       "    <tr>\n",
       "      <th>1</th>\n",
       "      <td>Stockholm</td>\n",
       "      <td>Vegetarian Friendly</td>\n",
       "    </tr>\n",
       "    <tr>\n",
       "      <th>2</th>\n",
       "      <td>London</td>\n",
       "      <td>Vegetarian Friendly</td>\n",
       "    </tr>\n",
       "    <tr>\n",
       "      <th>3</th>\n",
       "      <td>Berlin</td>\n",
       "      <td>Vegetarian Friendly</td>\n",
       "    </tr>\n",
       "    <tr>\n",
       "      <th>4</th>\n",
       "      <td>Munich</td>\n",
       "      <td>Vegetarian Friendly</td>\n",
       "    </tr>\n",
       "    <tr>\n",
       "      <th>5</th>\n",
       "      <td>Oporto</td>\n",
       "      <td>Portuguese</td>\n",
       "    </tr>\n",
       "    <tr>\n",
       "      <th>6</th>\n",
       "      <td>Milan</td>\n",
       "      <td>Italian</td>\n",
       "    </tr>\n",
       "    <tr>\n",
       "      <th>7</th>\n",
       "      <td>Bratislava</td>\n",
       "      <td>Central European</td>\n",
       "    </tr>\n",
       "    <tr>\n",
       "      <th>8</th>\n",
       "      <td>Vienna</td>\n",
       "      <td>Vegetarian Friendly</td>\n",
       "    </tr>\n",
       "    <tr>\n",
       "      <th>9</th>\n",
       "      <td>Rome</td>\n",
       "      <td>Italian</td>\n",
       "    </tr>\n",
       "    <tr>\n",
       "      <th>10</th>\n",
       "      <td>Barcelona</td>\n",
       "      <td>Spanish</td>\n",
       "    </tr>\n",
       "    <tr>\n",
       "      <th>11</th>\n",
       "      <td>Madrid</td>\n",
       "      <td>Spanish</td>\n",
       "    </tr>\n",
       "    <tr>\n",
       "      <th>12</th>\n",
       "      <td>Dublin</td>\n",
       "      <td>Vegetarian Friendly</td>\n",
       "    </tr>\n",
       "    <tr>\n",
       "      <th>13</th>\n",
       "      <td>Brussels</td>\n",
       "      <td>Belgian</td>\n",
       "    </tr>\n",
       "    <tr>\n",
       "      <th>14</th>\n",
       "      <td>Zurich</td>\n",
       "      <td>Vegetarian Friendly</td>\n",
       "    </tr>\n",
       "    <tr>\n",
       "      <th>15</th>\n",
       "      <td>Warsaw</td>\n",
       "      <td>Vegetarian Friendly</td>\n",
       "    </tr>\n",
       "    <tr>\n",
       "      <th>16</th>\n",
       "      <td>Budapest</td>\n",
       "      <td>Hungarian</td>\n",
       "    </tr>\n",
       "    <tr>\n",
       "      <th>17</th>\n",
       "      <td>Copenhagen</td>\n",
       "      <td>Vegetarian Friendly</td>\n",
       "    </tr>\n",
       "    <tr>\n",
       "      <th>18</th>\n",
       "      <td>Amsterdam</td>\n",
       "      <td>Vegetarian Friendly</td>\n",
       "    </tr>\n",
       "    <tr>\n",
       "      <th>19</th>\n",
       "      <td>Lyon</td>\n",
       "      <td>French</td>\n",
       "    </tr>\n",
       "    <tr>\n",
       "      <th>20</th>\n",
       "      <td>Hamburg</td>\n",
       "      <td>Vegetarian Friendly</td>\n",
       "    </tr>\n",
       "    <tr>\n",
       "      <th>21</th>\n",
       "      <td>Lisbon</td>\n",
       "      <td>Portuguese</td>\n",
       "    </tr>\n",
       "    <tr>\n",
       "      <th>22</th>\n",
       "      <td>Prague</td>\n",
       "      <td>Czech</td>\n",
       "    </tr>\n",
       "    <tr>\n",
       "      <th>23</th>\n",
       "      <td>Oslo</td>\n",
       "      <td>Vegetarian Friendly</td>\n",
       "    </tr>\n",
       "    <tr>\n",
       "      <th>24</th>\n",
       "      <td>Helsinki</td>\n",
       "      <td>Vegetarian Friendly</td>\n",
       "    </tr>\n",
       "    <tr>\n",
       "      <th>25</th>\n",
       "      <td>Edinburgh</td>\n",
       "      <td>Vegetarian Friendly</td>\n",
       "    </tr>\n",
       "    <tr>\n",
       "      <th>26</th>\n",
       "      <td>Geneva</td>\n",
       "      <td>Vegetarian Friendly</td>\n",
       "    </tr>\n",
       "    <tr>\n",
       "      <th>27</th>\n",
       "      <td>Ljubljana</td>\n",
       "      <td>Slovenian</td>\n",
       "    </tr>\n",
       "    <tr>\n",
       "      <th>28</th>\n",
       "      <td>Athens</td>\n",
       "      <td>Greek</td>\n",
       "    </tr>\n",
       "    <tr>\n",
       "      <th>29</th>\n",
       "      <td>Luxembourg</td>\n",
       "      <td>Vegetarian Friendly</td>\n",
       "    </tr>\n",
       "    <tr>\n",
       "      <th>30</th>\n",
       "      <td>Krakow</td>\n",
       "      <td>Polish</td>\n",
       "    </tr>\n",
       "  </tbody>\n",
       "</table>\n",
       "</div>"
      ],
      "text/plain": [
       "          city              cuisine\n",
       "0        Paris               French\n",
       "1    Stockholm  Vegetarian Friendly\n",
       "2       London  Vegetarian Friendly\n",
       "3       Berlin  Vegetarian Friendly\n",
       "4       Munich  Vegetarian Friendly\n",
       "5       Oporto           Portuguese\n",
       "6        Milan              Italian\n",
       "7   Bratislava     Central European\n",
       "8       Vienna  Vegetarian Friendly\n",
       "9         Rome              Italian\n",
       "10   Barcelona              Spanish\n",
       "11      Madrid              Spanish\n",
       "12      Dublin  Vegetarian Friendly\n",
       "13    Brussels              Belgian\n",
       "14      Zurich  Vegetarian Friendly\n",
       "15      Warsaw  Vegetarian Friendly\n",
       "16    Budapest            Hungarian\n",
       "17  Copenhagen  Vegetarian Friendly\n",
       "18   Amsterdam  Vegetarian Friendly\n",
       "19        Lyon               French\n",
       "20     Hamburg  Vegetarian Friendly\n",
       "21      Lisbon           Portuguese\n",
       "22      Prague                Czech\n",
       "23        Oslo  Vegetarian Friendly\n",
       "24    Helsinki  Vegetarian Friendly\n",
       "25   Edinburgh  Vegetarian Friendly\n",
       "26      Geneva  Vegetarian Friendly\n",
       "27   Ljubljana            Slovenian\n",
       "28      Athens                Greek\n",
       "29  Luxembourg  Vegetarian Friendly\n",
       "30      Krakow               Polish"
      ]
     },
     "execution_count": 28,
     "metadata": {},
     "output_type": "execute_result"
    }
   ],
   "source": [
    "#Создание вспомогательного DF для более быстрого заполнения пропусков\n",
    "city_cuisine = pd.DataFrame({'city': data.City.unique()})\n",
    "city_cuisine['cuisine'] = city_cuisine.city.apply(popular_cuisine)\n",
    "city_cuisine"
   ]
  },
  {
   "cell_type": "code",
   "execution_count": 29,
   "metadata": {},
   "outputs": [],
   "source": [
    "#Функция заполнения пропусков популярным значением для города\n",
    "def associated_cuisine(city):\n",
    "    result = city_cuisine[city_cuisine.city == city].iloc[0][1]\n",
    "    return result"
   ]
  },
  {
   "cell_type": "code",
   "execution_count": 30,
   "metadata": {},
   "outputs": [],
   "source": [
    "#Функция преобразования заполненных строк в список\n",
    "def making_list(cell):\n",
    "    if type(cell) == list:\n",
    "        result = cell\n",
    "    elif type(cell) == str:\n",
    "        result = re.findall(r'\\w+\\s*\\w*\\s*\\w*\\s*\\w*\\s*\\w*', cell)\n",
    "    return result"
   ]
  },
  {
   "cell_type": "code",
   "execution_count": 31,
   "metadata": {},
   "outputs": [],
   "source": [
    "#Применение вышеописанных функций + создание столбца кол-ва кухонь\n",
    "data['Cuisine Style'].fillna(value=data.City.apply(associated_cuisine), inplace=True)\n",
    "data['Cuisine Style'] = data['Cuisine Style'].apply(making_list)\n",
    "data['cuisine_amount'] = data['Cuisine Style'].apply(lambda x: len(x))"
   ]
  },
  {
   "cell_type": "code",
   "execution_count": 32,
   "metadata": {},
   "outputs": [
    {
     "data": {
      "text/plain": [
       "2.622886443221611"
      ]
     },
     "execution_count": 32,
     "metadata": {},
     "output_type": "execute_result"
    }
   ],
   "source": [
    "data.cuisine_amount.mean()"
   ]
  },
  {
   "cell_type": "markdown",
   "metadata": {},
   "source": [
    "## Reviews"
   ]
  },
  {
   "cell_type": "markdown",
   "metadata": {},
   "source": [
    "## 4. Преобразование и создание доп. парметров из Reviews"
   ]
  },
  {
   "cell_type": "code",
   "execution_count": 33,
   "metadata": {},
   "outputs": [],
   "source": [
    "# Функция преобразоватия строковой даты в формат datetime\n",
    "def date_conversion(cell):\n",
    "    resulting_list=[]\n",
    "    for i in cell:\n",
    "        if int(i[:i.find('/')])<=12:\n",
    "            converted_time = datetime.strptime(i, '%m/%d/%Y')\n",
    "            resulting_list.append(converted_time)\n",
    "        else:\n",
    "            converted_time = datetime.strptime(i, '%d/%m/%Y')\n",
    "            resulting_list.append(converted_time)\n",
    "    return resulting_list"
   ]
  },
  {
   "cell_type": "code",
   "execution_count": 34,
   "metadata": {},
   "outputs": [],
   "source": [
    "# Создание параметра review_dates содержащего список дат отзывов\n",
    "data['review_dates'] = data.Reviews.str.findall(r'\\d+/\\d+/\\d+')\n",
    "data.review_dates = data.review_dates.dropna().apply(date_conversion)"
   ]
  },
  {
   "cell_type": "code",
   "execution_count": 35,
   "metadata": {},
   "outputs": [
    {
     "data": {
      "text/plain": [
       "datetime.datetime(2018, 2, 26, 0, 0)"
      ]
     },
     "execution_count": 35,
     "metadata": {},
     "output_type": "execute_result"
    }
   ],
   "source": [
    "max(data.review_dates.sum())"
   ]
  },
  {
   "cell_type": "code",
   "execution_count": 36,
   "metadata": {},
   "outputs": [],
   "source": [
    "# Фунция вычисляет разницу между превым и последним отзывом\n",
    "def review_t_dif(cell):\n",
    "    if len(cell)>=2:\n",
    "        dif=max(cell)-min(cell)\n",
    "    else:\n",
    "        dif=timedelta(days = 0)\n",
    "    return dif"
   ]
  },
  {
   "cell_type": "code",
   "execution_count": 37,
   "metadata": {},
   "outputs": [],
   "source": [
    "# Параметр review_time_span отбражает разницу между превым и последним отзывом\n",
    "data['review_time_span'] = data.review_dates.dropna().apply(review_t_dif)"
   ]
  },
  {
   "cell_type": "code",
   "execution_count": 38,
   "metadata": {},
   "outputs": [
    {
     "data": {
      "text/plain": [
       "Timedelta('3207 days 00:00:00')"
      ]
     },
     "execution_count": 38,
     "metadata": {},
     "output_type": "execute_result"
    }
   ],
   "source": [
    "data.review_time_span.max()"
   ]
  },
  {
   "cell_type": "code",
   "execution_count": 39,
   "metadata": {
    "scrolled": true
   },
   "outputs": [],
   "source": [
    "#Перевод результата в секунды\n",
    "data.review_time_span = data.review_time_span.apply(lambda x: x.total_seconds())"
   ]
  },
  {
   "cell_type": "code",
   "execution_count": 40,
   "metadata": {},
   "outputs": [],
   "source": [
    "# Параметр visible_reviews отбражает кол-во видимых отзывов\n",
    "data['visible_reviews'] = data.review_dates.apply(lambda x: len(x))"
   ]
  },
  {
   "cell_type": "code",
   "execution_count": 41,
   "metadata": {},
   "outputs": [],
   "source": [
    "# Параметр review_wordbox включает список слов используемых в Reviews\n",
    "data.Reviews = data.Reviews.apply(lambda x: x.lower())\n",
    "data['review_wordbox'] = data.Reviews.str.findall(r'\\w[a-z]+')"
   ]
  },
  {
   "cell_type": "markdown",
   "metadata": {},
   "source": [
    "## Далее, создаются списки ключевых слов характерных для имеющихся данных"
   ]
  },
  {
   "cell_type": "code",
   "execution_count": 42,
   "metadata": {},
   "outputs": [],
   "source": [
    "# Все слова, встречающиеся более 2 раз у ресторанов с целевой переменной от 4.5\n",
    "wordbox_positive = pd.Series(data[data.Rating>=4.5].review_wordbox.sum())\n",
    "p_words = pd.DataFrame(wordbox_positive.value_counts())\n",
    "p_words = p_words[p_words[0]>2]"
   ]
  },
  {
   "cell_type": "code",
   "execution_count": 43,
   "metadata": {},
   "outputs": [],
   "source": [
    "# Все слова, встречающиеся более 2 раз у ресторанов с целевой переменной до 3.5\n",
    "wordbox_negative = pd.Series(data[data.Rating<=3.5].review_wordbox.sum())\n",
    "n_words = pd.DataFrame(wordbox_negative.value_counts())\n",
    "n_words = n_words[n_words[0]>2]"
   ]
  },
  {
   "cell_type": "code",
   "execution_count": 44,
   "metadata": {},
   "outputs": [],
   "source": [
    "# Слова, уникальные для ресторанов с высоким рейтингом, сохраняются в CSV-файл\n",
    "positive_words_list = []\n",
    "for i in p_words.index:\n",
    "    if i not in list(n_words.index):\n",
    "        positive_words_list.append(i)\n",
    "key_p_words = pd.DataFrame(positive_words_list, columns=[\"key_words\"])\n",
    "key_p_words.to_csv('key_p_words.csv', index=False)"
   ]
  },
  {
   "cell_type": "code",
   "execution_count": 45,
   "metadata": {},
   "outputs": [],
   "source": [
    "# Слова, уникальные для ресторанов с низким рейтингом, сохраняются в CSV-файл\n",
    "negative_words_list = []\n",
    "for i in n_words.index:\n",
    "    if i not in list(p_words.index):\n",
    "        negative_words_list.append(i)\n",
    "key_n_words = pd.DataFrame(negative_words_list, columns=[\"key_words\"])\n",
    "key_n_words.to_csv('key_n_words.csv', index=False)"
   ]
  },
  {
   "cell_type": "markdown",
   "metadata": {},
   "source": [
    "## 5. Применение списков ключевых слов для данных"
   ]
  },
  {
   "cell_type": "code",
   "execution_count": 46,
   "metadata": {},
   "outputs": [],
   "source": [
    "# Загрузка списков, созданных при анализе имеещихся данных\n",
    "pw_df = pd.read_csv('key_p_words.csv')\n",
    "positive_review_predictors = list(pw_df.key_words)\n",
    "\n",
    "nw_df = pd.read_csv('key_n_words.csv')\n",
    "negative_review_predictors = list(nw_df.key_words)"
   ]
  },
  {
   "cell_type": "code",
   "execution_count": 47,
   "metadata": {},
   "outputs": [],
   "source": [
    "# Функция расчитывающая рейтинг по ключевым словам. Нейтральное значение = 0.5\n",
    "def valued_review_score(wordbox):\n",
    "    positives = 1\n",
    "    negatives = 1\n",
    "    for i in wordbox:\n",
    "        if i in positive_review_predictors:\n",
    "            positives += 1\n",
    "        elif i in negative_review_predictors:\n",
    "            negatives += 1\n",
    "    result = positives/(positives + negatives)\n",
    "    return result"
   ]
  },
  {
   "cell_type": "code",
   "execution_count": 48,
   "metadata": {},
   "outputs": [],
   "source": [
    "# Параметр valued_review содержит условный рейтинг, расчитаный на осонове слов, содежащихся в Reviews\n",
    "data['valued_review'] = data.review_wordbox.apply(valued_review_score)"
   ]
  },
  {
   "cell_type": "markdown",
   "metadata": {},
   "source": [
    "## Number of Reviews"
   ]
  },
  {
   "cell_type": "markdown",
   "metadata": {},
   "source": [
    "## 6. Заполнение пропусков Number of Reviews"
   ]
  },
  {
   "cell_type": "code",
   "execution_count": 49,
   "metadata": {},
   "outputs": [],
   "source": [
    "# Функция вычисления среднего класса по городу и квинтилю Ranking для города\n",
    "def avg_reviews(city, i):\n",
    "    data_c = data[data.City == city]\n",
    "    result = data_c[(data_c.Ranking.quantile(i) <= data_c.Ranking) & (data_c.Ranking < data_c.Ranking.quantile(i+0.2))]['Number of Reviews'].dropna().mean()\n",
    "    return result"
   ]
  },
  {
   "cell_type": "code",
   "execution_count": 50,
   "metadata": {},
   "outputs": [],
   "source": [
    "# Функция вычисляющая серию значений по городам для определенного квинтиля\n",
    "def quantile(quantile):\n",
    "    series=[]\n",
    "    for i in data.City.unique():\n",
    "        series.append(avg_reviews(i, quantile))\n",
    "    return series"
   ]
  },
  {
   "cell_type": "code",
   "execution_count": 51,
   "metadata": {},
   "outputs": [],
   "source": [
    "# Создание DF c итоговыми значениями\n",
    "city_rev = pd.DataFrame({'city': data.City.unique()})\n",
    "quantiles = [x/10 for x in range(8, -1, -2)]\n",
    "for i in quantiles:\n",
    "    city_rev[i]=quantile(i)"
   ]
  },
  {
   "cell_type": "code",
   "execution_count": 52,
   "metadata": {},
   "outputs": [
    {
     "data": {
      "text/html": [
       "<div>\n",
       "<style scoped>\n",
       "    .dataframe tbody tr th:only-of-type {\n",
       "        vertical-align: middle;\n",
       "    }\n",
       "\n",
       "    .dataframe tbody tr th {\n",
       "        vertical-align: top;\n",
       "    }\n",
       "\n",
       "    .dataframe thead th {\n",
       "        text-align: right;\n",
       "    }\n",
       "</style>\n",
       "<table border=\"1\" class=\"dataframe\">\n",
       "  <thead>\n",
       "    <tr style=\"text-align: right;\">\n",
       "      <th></th>\n",
       "      <th>city</th>\n",
       "      <th>0.8</th>\n",
       "      <th>0.6</th>\n",
       "      <th>0.4</th>\n",
       "      <th>0.2</th>\n",
       "      <th>0.0</th>\n",
       "    </tr>\n",
       "  </thead>\n",
       "  <tbody>\n",
       "    <tr>\n",
       "      <th>0</th>\n",
       "      <td>Paris</td>\n",
       "      <td>47.579978</td>\n",
       "      <td>33.373200</td>\n",
       "      <td>56.031390</td>\n",
       "      <td>115.480082</td>\n",
       "      <td>331.170408</td>\n",
       "    </tr>\n",
       "    <tr>\n",
       "      <th>1</th>\n",
       "      <td>Stockholm</td>\n",
       "      <td>25.301370</td>\n",
       "      <td>14.235294</td>\n",
       "      <td>22.317568</td>\n",
       "      <td>47.609756</td>\n",
       "      <td>258.134146</td>\n",
       "    </tr>\n",
       "    <tr>\n",
       "      <th>2</th>\n",
       "      <td>London</td>\n",
       "      <td>30.219925</td>\n",
       "      <td>27.470420</td>\n",
       "      <td>44.765358</td>\n",
       "      <td>118.109470</td>\n",
       "      <td>438.194444</td>\n",
       "    </tr>\n",
       "    <tr>\n",
       "      <th>3</th>\n",
       "      <td>Berlin</td>\n",
       "      <td>19.604336</td>\n",
       "      <td>14.316754</td>\n",
       "      <td>16.331361</td>\n",
       "      <td>44.269142</td>\n",
       "      <td>214.577726</td>\n",
       "    </tr>\n",
       "    <tr>\n",
       "      <th>4</th>\n",
       "      <td>Munich</td>\n",
       "      <td>21.828947</td>\n",
       "      <td>24.024096</td>\n",
       "      <td>32.705882</td>\n",
       "      <td>57.651685</td>\n",
       "      <td>249.882682</td>\n",
       "    </tr>\n",
       "    <tr>\n",
       "      <th>5</th>\n",
       "      <td>Oporto</td>\n",
       "      <td>41.609195</td>\n",
       "      <td>17.524390</td>\n",
       "      <td>38.514563</td>\n",
       "      <td>107.166667</td>\n",
       "      <td>436.446602</td>\n",
       "    </tr>\n",
       "    <tr>\n",
       "      <th>6</th>\n",
       "      <td>Milan</td>\n",
       "      <td>55.735516</td>\n",
       "      <td>47.481675</td>\n",
       "      <td>64.369347</td>\n",
       "      <td>180.326291</td>\n",
       "      <td>491.648712</td>\n",
       "    </tr>\n",
       "    <tr>\n",
       "      <th>7</th>\n",
       "      <td>Bratislava</td>\n",
       "      <td>24.620000</td>\n",
       "      <td>10.400000</td>\n",
       "      <td>18.684211</td>\n",
       "      <td>26.568627</td>\n",
       "      <td>160.500000</td>\n",
       "    </tr>\n",
       "    <tr>\n",
       "      <th>8</th>\n",
       "      <td>Vienna</td>\n",
       "      <td>20.517413</td>\n",
       "      <td>21.600000</td>\n",
       "      <td>24.117347</td>\n",
       "      <td>52.218884</td>\n",
       "      <td>274.566524</td>\n",
       "    </tr>\n",
       "    <tr>\n",
       "      <th>9</th>\n",
       "      <td>Rome</td>\n",
       "      <td>54.766854</td>\n",
       "      <td>98.325301</td>\n",
       "      <td>195.413462</td>\n",
       "      <td>304.457831</td>\n",
       "      <td>759.689904</td>\n",
       "    </tr>\n",
       "    <tr>\n",
       "      <th>10</th>\n",
       "      <td>Barcelona</td>\n",
       "      <td>42.308163</td>\n",
       "      <td>22.072614</td>\n",
       "      <td>40.608333</td>\n",
       "      <td>107.263254</td>\n",
       "      <td>416.868373</td>\n",
       "    </tr>\n",
       "    <tr>\n",
       "      <th>11</th>\n",
       "      <td>Madrid</td>\n",
       "      <td>36.762082</td>\n",
       "      <td>24.071174</td>\n",
       "      <td>26.855098</td>\n",
       "      <td>72.559157</td>\n",
       "      <td>317.548544</td>\n",
       "    </tr>\n",
       "    <tr>\n",
       "      <th>12</th>\n",
       "      <td>Dublin</td>\n",
       "      <td>19.194915</td>\n",
       "      <td>23.145299</td>\n",
       "      <td>43.044444</td>\n",
       "      <td>136.805970</td>\n",
       "      <td>521.088889</td>\n",
       "    </tr>\n",
       "    <tr>\n",
       "      <th>13</th>\n",
       "      <td>Brussels</td>\n",
       "      <td>40.382979</td>\n",
       "      <td>21.497268</td>\n",
       "      <td>30.139896</td>\n",
       "      <td>60.433962</td>\n",
       "      <td>272.952830</td>\n",
       "    </tr>\n",
       "    <tr>\n",
       "      <th>14</th>\n",
       "      <td>Zurich</td>\n",
       "      <td>22.287234</td>\n",
       "      <td>27.891089</td>\n",
       "      <td>34.221053</td>\n",
       "      <td>75.345794</td>\n",
       "      <td>212.425926</td>\n",
       "    </tr>\n",
       "    <tr>\n",
       "      <th>15</th>\n",
       "      <td>Warsaw</td>\n",
       "      <td>9.897638</td>\n",
       "      <td>13.787402</td>\n",
       "      <td>12.280374</td>\n",
       "      <td>34.613793</td>\n",
       "      <td>224.849315</td>\n",
       "    </tr>\n",
       "    <tr>\n",
       "      <th>16</th>\n",
       "      <td>Budapest</td>\n",
       "      <td>37.881944</td>\n",
       "      <td>17.503356</td>\n",
       "      <td>27.328244</td>\n",
       "      <td>70.895706</td>\n",
       "      <td>588.871166</td>\n",
       "    </tr>\n",
       "    <tr>\n",
       "      <th>17</th>\n",
       "      <td>Copenhagen</td>\n",
       "      <td>25.611111</td>\n",
       "      <td>22.083333</td>\n",
       "      <td>41.814159</td>\n",
       "      <td>88.037879</td>\n",
       "      <td>259.659091</td>\n",
       "    </tr>\n",
       "    <tr>\n",
       "      <th>18</th>\n",
       "      <td>Amsterdam</td>\n",
       "      <td>32.505319</td>\n",
       "      <td>25.566327</td>\n",
       "      <td>64.385321</td>\n",
       "      <td>113.262673</td>\n",
       "      <td>471.391705</td>\n",
       "    </tr>\n",
       "    <tr>\n",
       "      <th>19</th>\n",
       "      <td>Lyon</td>\n",
       "      <td>44.851190</td>\n",
       "      <td>24.457317</td>\n",
       "      <td>38.314815</td>\n",
       "      <td>72.578652</td>\n",
       "      <td>237.296089</td>\n",
       "    </tr>\n",
       "    <tr>\n",
       "      <th>20</th>\n",
       "      <td>Hamburg</td>\n",
       "      <td>16.113095</td>\n",
       "      <td>14.319018</td>\n",
       "      <td>15.228395</td>\n",
       "      <td>31.768421</td>\n",
       "      <td>142.273684</td>\n",
       "    </tr>\n",
       "    <tr>\n",
       "      <th>21</th>\n",
       "      <td>Lisbon</td>\n",
       "      <td>47.922449</td>\n",
       "      <td>17.660714</td>\n",
       "      <td>30.097778</td>\n",
       "      <td>87.646154</td>\n",
       "      <td>417.100000</td>\n",
       "    </tr>\n",
       "    <tr>\n",
       "      <th>22</th>\n",
       "      <td>Prague</td>\n",
       "      <td>42.327869</td>\n",
       "      <td>25.378601</td>\n",
       "      <td>24.692661</td>\n",
       "      <td>49.989583</td>\n",
       "      <td>424.671280</td>\n",
       "    </tr>\n",
       "    <tr>\n",
       "      <th>23</th>\n",
       "      <td>Oslo</td>\n",
       "      <td>37.333333</td>\n",
       "      <td>21.436620</td>\n",
       "      <td>41.430556</td>\n",
       "      <td>67.155844</td>\n",
       "      <td>292.116883</td>\n",
       "    </tr>\n",
       "    <tr>\n",
       "      <th>24</th>\n",
       "      <td>Helsinki</td>\n",
       "      <td>15.565217</td>\n",
       "      <td>22.897059</td>\n",
       "      <td>19.338462</td>\n",
       "      <td>35.453333</td>\n",
       "      <td>196.066667</td>\n",
       "    </tr>\n",
       "    <tr>\n",
       "      <th>25</th>\n",
       "      <td>Edinburgh</td>\n",
       "      <td>36.115044</td>\n",
       "      <td>46.268519</td>\n",
       "      <td>87.386555</td>\n",
       "      <td>244.453782</td>\n",
       "      <td>721.184874</td>\n",
       "    </tr>\n",
       "    <tr>\n",
       "      <th>26</th>\n",
       "      <td>Geneva</td>\n",
       "      <td>21.651163</td>\n",
       "      <td>25.894118</td>\n",
       "      <td>27.916667</td>\n",
       "      <td>54.729167</td>\n",
       "      <td>168.104167</td>\n",
       "    </tr>\n",
       "    <tr>\n",
       "      <th>27</th>\n",
       "      <td>Ljubljana</td>\n",
       "      <td>13.121212</td>\n",
       "      <td>11.281250</td>\n",
       "      <td>23.241379</td>\n",
       "      <td>44.027778</td>\n",
       "      <td>259.108108</td>\n",
       "    </tr>\n",
       "    <tr>\n",
       "      <th>28</th>\n",
       "      <td>Athens</td>\n",
       "      <td>22.153846</td>\n",
       "      <td>8.964286</td>\n",
       "      <td>23.975410</td>\n",
       "      <td>57.224000</td>\n",
       "      <td>354.388889</td>\n",
       "    </tr>\n",
       "    <tr>\n",
       "      <th>29</th>\n",
       "      <td>Luxembourg</td>\n",
       "      <td>28.394737</td>\n",
       "      <td>25.685714</td>\n",
       "      <td>32.000000</td>\n",
       "      <td>78.571429</td>\n",
       "      <td>229.904762</td>\n",
       "    </tr>\n",
       "    <tr>\n",
       "      <th>30</th>\n",
       "      <td>Krakow</td>\n",
       "      <td>15.135135</td>\n",
       "      <td>18.455696</td>\n",
       "      <td>42.988095</td>\n",
       "      <td>97.170455</td>\n",
       "      <td>396.516854</td>\n",
       "    </tr>\n",
       "  </tbody>\n",
       "</table>\n",
       "</div>"
      ],
      "text/plain": [
       "          city        0.8        0.6         0.4         0.2         0.0\n",
       "0        Paris  47.579978  33.373200   56.031390  115.480082  331.170408\n",
       "1    Stockholm  25.301370  14.235294   22.317568   47.609756  258.134146\n",
       "2       London  30.219925  27.470420   44.765358  118.109470  438.194444\n",
       "3       Berlin  19.604336  14.316754   16.331361   44.269142  214.577726\n",
       "4       Munich  21.828947  24.024096   32.705882   57.651685  249.882682\n",
       "5       Oporto  41.609195  17.524390   38.514563  107.166667  436.446602\n",
       "6        Milan  55.735516  47.481675   64.369347  180.326291  491.648712\n",
       "7   Bratislava  24.620000  10.400000   18.684211   26.568627  160.500000\n",
       "8       Vienna  20.517413  21.600000   24.117347   52.218884  274.566524\n",
       "9         Rome  54.766854  98.325301  195.413462  304.457831  759.689904\n",
       "10   Barcelona  42.308163  22.072614   40.608333  107.263254  416.868373\n",
       "11      Madrid  36.762082  24.071174   26.855098   72.559157  317.548544\n",
       "12      Dublin  19.194915  23.145299   43.044444  136.805970  521.088889\n",
       "13    Brussels  40.382979  21.497268   30.139896   60.433962  272.952830\n",
       "14      Zurich  22.287234  27.891089   34.221053   75.345794  212.425926\n",
       "15      Warsaw   9.897638  13.787402   12.280374   34.613793  224.849315\n",
       "16    Budapest  37.881944  17.503356   27.328244   70.895706  588.871166\n",
       "17  Copenhagen  25.611111  22.083333   41.814159   88.037879  259.659091\n",
       "18   Amsterdam  32.505319  25.566327   64.385321  113.262673  471.391705\n",
       "19        Lyon  44.851190  24.457317   38.314815   72.578652  237.296089\n",
       "20     Hamburg  16.113095  14.319018   15.228395   31.768421  142.273684\n",
       "21      Lisbon  47.922449  17.660714   30.097778   87.646154  417.100000\n",
       "22      Prague  42.327869  25.378601   24.692661   49.989583  424.671280\n",
       "23        Oslo  37.333333  21.436620   41.430556   67.155844  292.116883\n",
       "24    Helsinki  15.565217  22.897059   19.338462   35.453333  196.066667\n",
       "25   Edinburgh  36.115044  46.268519   87.386555  244.453782  721.184874\n",
       "26      Geneva  21.651163  25.894118   27.916667   54.729167  168.104167\n",
       "27   Ljubljana  13.121212  11.281250   23.241379   44.027778  259.108108\n",
       "28      Athens  22.153846   8.964286   23.975410   57.224000  354.388889\n",
       "29  Luxembourg  28.394737  25.685714   32.000000   78.571429  229.904762\n",
       "30      Krakow  15.135135  18.455696   42.988095   97.170455  396.516854"
      ]
     },
     "execution_count": 52,
     "metadata": {},
     "output_type": "execute_result"
    }
   ],
   "source": [
    "city_rev"
   ]
  },
  {
   "cell_type": "code",
   "execution_count": 53,
   "metadata": {},
   "outputs": [],
   "source": [
    "# Функция возвращает соответсвующее значение из city_rev по City и Ranking\n",
    "def aprx_rev_amount(x):\n",
    "    d = data[data.City == x['City']]\n",
    "    quantiles = [n/10 for n in range(8, -1, -2)]\n",
    "    for i in quantiles:\n",
    "        if d.Ranking.quantile(i) <= x['Ranking'] <= d.Ranking.quantile(i+0.2):\n",
    "            result = float(int(city_rev[city_rev.city == x['City']][i]))\n",
    "    return result"
   ]
  },
  {
   "cell_type": "code",
   "execution_count": 54,
   "metadata": {},
   "outputs": [],
   "source": [
    "# Создание серии, содержащей индексы пустых значений с соответствующее значение из city_rev\n",
    "# fillna() не ипользовал, т.к. рачеты занимали больше времени\n",
    "reviews_for_nan = data[data['Number of Reviews'].isna() == True].apply(aprx_rev_amount, axis=1)"
   ]
  },
  {
   "cell_type": "code",
   "execution_count": 55,
   "metadata": {
    "scrolled": true
   },
   "outputs": [
    {
     "name": "stderr",
     "output_type": "stream",
     "text": [
      "/opt/anaconda3/lib/python3.8/site-packages/pandas/core/indexing.py:671: SettingWithCopyWarning: \n",
      "A value is trying to be set on a copy of a slice from a DataFrame\n",
      "\n",
      "See the caveats in the documentation: https://pandas.pydata.org/pandas-docs/stable/user_guide/indexing.html#returning-a-view-versus-a-copy\n",
      "  self._setitem_with_indexer(indexer, value)\n"
     ]
    }
   ],
   "source": [
    "# Заполнение пропусков в основном DF\n",
    "for i in list(reviews_for_nan.index):\n",
    "    data['Number of Reviews'].loc[i] = reviews_for_nan[i]"
   ]
  },
  {
   "cell_type": "markdown",
   "metadata": {},
   "source": [
    "## Ranking"
   ]
  },
  {
   "cell_type": "markdown",
   "metadata": {},
   "source": [
    "## 7. Нормолизация Ranking в зависимости от City"
   ]
  },
  {
   "cell_type": "code",
   "execution_count": 56,
   "metadata": {},
   "outputs": [],
   "source": [
    "# Создание словаря, содержащего пары город: длинна вектора Ranking по городу\n",
    "v_lengths = {}\n",
    "for i in list(data.City.unique()):\n",
    "    v_lengths[i] = np.linalg.norm(data[data.City == i].Ranking)"
   ]
  },
  {
   "cell_type": "code",
   "execution_count": 57,
   "metadata": {},
   "outputs": [],
   "source": [
    "# Функция возражает произведение значения Ranking и длинны вектора Ranking по городу\n",
    "def normalization(row):\n",
    "    result = row.Ranking/v_lengths[row.City]\n",
    "    return result"
   ]
  },
  {
   "cell_type": "code",
   "execution_count": 58,
   "metadata": {},
   "outputs": [],
   "source": [
    "# Параметр ranking_norm содержит нормализованный Ranking\n",
    "data['ranking_norm'] = data.apply(normalization, axis = 1)"
   ]
  },
  {
   "cell_type": "markdown",
   "metadata": {},
   "source": [
    "# Dummy-variables"
   ]
  },
  {
   "cell_type": "markdown",
   "metadata": {},
   "source": [
    "## City"
   ]
  },
  {
   "cell_type": "code",
   "execution_count": 59,
   "metadata": {},
   "outputs": [],
   "source": [
    "# Функция для заполнения категории City\n",
    "def dummy_str(cell):\n",
    "    if item == cell:\n",
    "        return 1\n",
    "    return 0"
   ]
  },
  {
   "cell_type": "code",
   "execution_count": 60,
   "metadata": {},
   "outputs": [],
   "source": [
    "# Список уникальных значений переменной\n",
    "all_cities = data.City.unique()"
   ]
  },
  {
   "cell_type": "code",
   "execution_count": 61,
   "metadata": {
    "scrolled": true
   },
   "outputs": [],
   "source": [
    "# Применение функции\n",
    "for item in all_cities:\n",
    "    data[item] = data.City.apply(dummy_str)"
   ]
  },
  {
   "cell_type": "markdown",
   "metadata": {},
   "source": [
    "## Cuisine Style"
   ]
  },
  {
   "cell_type": "code",
   "execution_count": 62,
   "metadata": {},
   "outputs": [],
   "source": [
    "# Функция для заполнения категории Cuisine Style\n",
    "def dummy_cuisine(cell):\n",
    "    if item in cell:\n",
    "        return 1\n",
    "    return 0"
   ]
  },
  {
   "cell_type": "code",
   "execution_count": 63,
   "metadata": {},
   "outputs": [],
   "source": [
    "# Список уникальных значений переменной\n",
    "all_cuisines = pd.Series(data['Cuisine Style'].sum()).unique()"
   ]
  },
  {
   "cell_type": "code",
   "execution_count": 64,
   "metadata": {},
   "outputs": [],
   "source": [
    "# Применение функции\n",
    "for item in all_cuisines:\n",
    "    data[item] = data['Cuisine Style'].apply(dummy_cuisine)"
   ]
  },
  {
   "cell_type": "markdown",
   "metadata": {},
   "source": [
    "## Price Range"
   ]
  },
  {
   "cell_type": "code",
   "execution_count": 65,
   "metadata": {},
   "outputs": [],
   "source": [
    "# Создание трех столбцов соответсвующизх классам Price Range\n",
    "for item in range(1,4):\n",
    "    data[item] = data.price_class.apply(dummy_str)"
   ]
  },
  {
   "cell_type": "code",
   "execution_count": 66,
   "metadata": {},
   "outputs": [],
   "source": [
    "data.drop('price_class', axis = 'columns', inplace = True)"
   ]
  },
  {
   "cell_type": "markdown",
   "metadata": {},
   "source": [
    "## Native cuisine"
   ]
  },
  {
   "cell_type": "code",
   "execution_count": 67,
   "metadata": {},
   "outputs": [],
   "source": [
    "#pip install pycountry\n",
    "#pip install geopy"
   ]
  },
  {
   "cell_type": "code",
   "execution_count": 68,
   "metadata": {},
   "outputs": [],
   "source": [
    "from geopy.geocoders import Nominatim\n",
    "geolocator = Nominatim(user_agent=\"example app\")\n",
    "import pycountry"
   ]
  },
  {
   "cell_type": "code",
   "execution_count": 69,
   "metadata": {},
   "outputs": [],
   "source": [
    "#Создание списка уникальных значений City\n",
    "city_state = pd.DataFrame({'city': data.City.unique()})"
   ]
  },
  {
   "cell_type": "code",
   "execution_count": 70,
   "metadata": {},
   "outputs": [],
   "source": [
    "# Функция возвращает код страны по названию города\n",
    "def country(city):\n",
    "    coordinates = geolocator.geocode(city)[1]\n",
    "    location = geolocator.reverse(coordinates, exactly_one=True)\n",
    "    address = location.raw['address']\n",
    "    country = address.get('country_code', '')\n",
    "    return country"
   ]
  },
  {
   "cell_type": "code",
   "execution_count": 71,
   "metadata": {},
   "outputs": [],
   "source": [
    "# Применение функции, перевод кода страны в верхгий регистр, замена на название страны по коду\n",
    "city_state['country'] = city_state.city.apply(country)\n",
    "city_state.country = city_state.country.apply(lambda x: x.upper())\n",
    "city_state.country = city_state.country.apply(lambda x: pycountry.countries.get(alpha_2=x).name)"
   ]
  },
  {
   "cell_type": "code",
   "execution_count": 72,
   "metadata": {},
   "outputs": [],
   "source": [
    "# Список с GIT, содержащий пары страна, прилагательное\n",
    "demonyms = pd.read_csv('demonyms.csv')"
   ]
  },
  {
   "cell_type": "code",
   "execution_count": 73,
   "metadata": {},
   "outputs": [],
   "source": [
    "# Функция возвращает список прилагательных соответствующих стране\n",
    "# Если функция возващает пустой список, сокращенное название страны меняется на официальное\n",
    "def adjectives(country):\n",
    "    result = list(demonyms[demonyms.Aalborg == country].Aalborgenser)\n",
    "    if len(result) == 0:\n",
    "        alternative = pycountry.countries.get(name=country).official_name\n",
    "        result = list(demonyms[demonyms.Aalborg == alternative].Aalborgenser)\n",
    "    return result"
   ]
  },
  {
   "cell_type": "code",
   "execution_count": 74,
   "metadata": {},
   "outputs": [],
   "source": [
    "# Применение функции\n",
    "city_state['adjectives'] = city_state.country.apply(adjectives)"
   ]
  },
  {
   "cell_type": "code",
   "execution_count": 75,
   "metadata": {},
   "outputs": [
    {
     "data": {
      "text/html": [
       "<div>\n",
       "<style scoped>\n",
       "    .dataframe tbody tr th:only-of-type {\n",
       "        vertical-align: middle;\n",
       "    }\n",
       "\n",
       "    .dataframe tbody tr th {\n",
       "        vertical-align: top;\n",
       "    }\n",
       "\n",
       "    .dataframe thead th {\n",
       "        text-align: right;\n",
       "    }\n",
       "</style>\n",
       "<table border=\"1\" class=\"dataframe\">\n",
       "  <thead>\n",
       "    <tr style=\"text-align: right;\">\n",
       "      <th></th>\n",
       "      <th>city</th>\n",
       "      <th>country</th>\n",
       "      <th>adjectives</th>\n",
       "    </tr>\n",
       "  </thead>\n",
       "  <tbody>\n",
       "    <tr>\n",
       "      <th>0</th>\n",
       "      <td>Paris</td>\n",
       "      <td>France</td>\n",
       "      <td>[French, Frenchman, Frenchwoman]</td>\n",
       "    </tr>\n",
       "    <tr>\n",
       "      <th>1</th>\n",
       "      <td>Stockholm</td>\n",
       "      <td>Sweden</td>\n",
       "      <td>[Swede, Swedish]</td>\n",
       "    </tr>\n",
       "    <tr>\n",
       "      <th>2</th>\n",
       "      <td>London</td>\n",
       "      <td>United Kingdom</td>\n",
       "      <td>[British, Uk]</td>\n",
       "    </tr>\n",
       "    <tr>\n",
       "      <th>3</th>\n",
       "      <td>Berlin</td>\n",
       "      <td>Germany</td>\n",
       "      <td>[German]</td>\n",
       "    </tr>\n",
       "    <tr>\n",
       "      <th>4</th>\n",
       "      <td>Munich</td>\n",
       "      <td>Germany</td>\n",
       "      <td>[German]</td>\n",
       "    </tr>\n",
       "    <tr>\n",
       "      <th>5</th>\n",
       "      <td>Oporto</td>\n",
       "      <td>Portugal</td>\n",
       "      <td>[Portuguese]</td>\n",
       "    </tr>\n",
       "    <tr>\n",
       "      <th>6</th>\n",
       "      <td>Milan</td>\n",
       "      <td>Italy</td>\n",
       "      <td>[Italian]</td>\n",
       "    </tr>\n",
       "    <tr>\n",
       "      <th>7</th>\n",
       "      <td>Bratislava</td>\n",
       "      <td>Slovakia</td>\n",
       "      <td>[Slovak, Slovakian]</td>\n",
       "    </tr>\n",
       "    <tr>\n",
       "      <th>8</th>\n",
       "      <td>Vienna</td>\n",
       "      <td>Austria</td>\n",
       "      <td>[Austrian]</td>\n",
       "    </tr>\n",
       "    <tr>\n",
       "      <th>9</th>\n",
       "      <td>Rome</td>\n",
       "      <td>Italy</td>\n",
       "      <td>[Italian]</td>\n",
       "    </tr>\n",
       "    <tr>\n",
       "      <th>10</th>\n",
       "      <td>Barcelona</td>\n",
       "      <td>Spain</td>\n",
       "      <td>[Spaniard, Spanish]</td>\n",
       "    </tr>\n",
       "    <tr>\n",
       "      <th>11</th>\n",
       "      <td>Madrid</td>\n",
       "      <td>Spain</td>\n",
       "      <td>[Spaniard, Spanish]</td>\n",
       "    </tr>\n",
       "    <tr>\n",
       "      <th>12</th>\n",
       "      <td>Dublin</td>\n",
       "      <td>Ireland</td>\n",
       "      <td>[Irish, Irishman, Irishwoman]</td>\n",
       "    </tr>\n",
       "    <tr>\n",
       "      <th>13</th>\n",
       "      <td>Brussels</td>\n",
       "      <td>Belgium</td>\n",
       "      <td>[Belgian]</td>\n",
       "    </tr>\n",
       "    <tr>\n",
       "      <th>14</th>\n",
       "      <td>Zurich</td>\n",
       "      <td>Switzerland</td>\n",
       "      <td>[Swiss]</td>\n",
       "    </tr>\n",
       "    <tr>\n",
       "      <th>15</th>\n",
       "      <td>Warsaw</td>\n",
       "      <td>Poland</td>\n",
       "      <td>[Pole, Polish]</td>\n",
       "    </tr>\n",
       "    <tr>\n",
       "      <th>16</th>\n",
       "      <td>Budapest</td>\n",
       "      <td>Hungary</td>\n",
       "      <td>[Hungarian, Magyar]</td>\n",
       "    </tr>\n",
       "    <tr>\n",
       "      <th>17</th>\n",
       "      <td>Copenhagen</td>\n",
       "      <td>Denmark</td>\n",
       "      <td>[Dane, Danish, Dansker]</td>\n",
       "    </tr>\n",
       "    <tr>\n",
       "      <th>18</th>\n",
       "      <td>Amsterdam</td>\n",
       "      <td>Netherlands</td>\n",
       "      <td>[Dutch, Hollander, Netherlandic]</td>\n",
       "    </tr>\n",
       "    <tr>\n",
       "      <th>19</th>\n",
       "      <td>Lyon</td>\n",
       "      <td>France</td>\n",
       "      <td>[French, Frenchman, Frenchwoman]</td>\n",
       "    </tr>\n",
       "    <tr>\n",
       "      <th>20</th>\n",
       "      <td>Hamburg</td>\n",
       "      <td>Germany</td>\n",
       "      <td>[German]</td>\n",
       "    </tr>\n",
       "    <tr>\n",
       "      <th>21</th>\n",
       "      <td>Lisbon</td>\n",
       "      <td>Portugal</td>\n",
       "      <td>[Portuguese]</td>\n",
       "    </tr>\n",
       "    <tr>\n",
       "      <th>22</th>\n",
       "      <td>Prague</td>\n",
       "      <td>Czechia</td>\n",
       "      <td>[Czech]</td>\n",
       "    </tr>\n",
       "    <tr>\n",
       "      <th>23</th>\n",
       "      <td>Oslo</td>\n",
       "      <td>Norway</td>\n",
       "      <td>[Nordmann, Norwegian]</td>\n",
       "    </tr>\n",
       "    <tr>\n",
       "      <th>24</th>\n",
       "      <td>Helsinki</td>\n",
       "      <td>Finland</td>\n",
       "      <td>[Finn, Finnic, Finnish]</td>\n",
       "    </tr>\n",
       "    <tr>\n",
       "      <th>25</th>\n",
       "      <td>Edinburgh</td>\n",
       "      <td>United Kingdom</td>\n",
       "      <td>[British, Uk]</td>\n",
       "    </tr>\n",
       "    <tr>\n",
       "      <th>26</th>\n",
       "      <td>Geneva</td>\n",
       "      <td>Switzerland</td>\n",
       "      <td>[Swiss]</td>\n",
       "    </tr>\n",
       "    <tr>\n",
       "      <th>27</th>\n",
       "      <td>Ljubljana</td>\n",
       "      <td>Slovenia</td>\n",
       "      <td>[Slovene, Slovenian]</td>\n",
       "    </tr>\n",
       "    <tr>\n",
       "      <th>28</th>\n",
       "      <td>Athens</td>\n",
       "      <td>Greece</td>\n",
       "      <td>[Greek, Hellene, Hellenic]</td>\n",
       "    </tr>\n",
       "    <tr>\n",
       "      <th>29</th>\n",
       "      <td>Luxembourg</td>\n",
       "      <td>Luxembourg</td>\n",
       "      <td>[Luxembourg, Luxembourger, Luxembourgish]</td>\n",
       "    </tr>\n",
       "    <tr>\n",
       "      <th>30</th>\n",
       "      <td>Krakow</td>\n",
       "      <td>Poland</td>\n",
       "      <td>[Pole, Polish]</td>\n",
       "    </tr>\n",
       "  </tbody>\n",
       "</table>\n",
       "</div>"
      ],
      "text/plain": [
       "          city         country                                 adjectives\n",
       "0        Paris          France           [French, Frenchman, Frenchwoman]\n",
       "1    Stockholm          Sweden                           [Swede, Swedish]\n",
       "2       London  United Kingdom                              [British, Uk]\n",
       "3       Berlin         Germany                                   [German]\n",
       "4       Munich         Germany                                   [German]\n",
       "5       Oporto        Portugal                               [Portuguese]\n",
       "6        Milan           Italy                                  [Italian]\n",
       "7   Bratislava        Slovakia                        [Slovak, Slovakian]\n",
       "8       Vienna         Austria                                 [Austrian]\n",
       "9         Rome           Italy                                  [Italian]\n",
       "10   Barcelona           Spain                        [Spaniard, Spanish]\n",
       "11      Madrid           Spain                        [Spaniard, Spanish]\n",
       "12      Dublin         Ireland              [Irish, Irishman, Irishwoman]\n",
       "13    Brussels         Belgium                                  [Belgian]\n",
       "14      Zurich     Switzerland                                    [Swiss]\n",
       "15      Warsaw          Poland                             [Pole, Polish]\n",
       "16    Budapest         Hungary                        [Hungarian, Magyar]\n",
       "17  Copenhagen         Denmark                    [Dane, Danish, Dansker]\n",
       "18   Amsterdam     Netherlands           [Dutch, Hollander, Netherlandic]\n",
       "19        Lyon          France           [French, Frenchman, Frenchwoman]\n",
       "20     Hamburg         Germany                                   [German]\n",
       "21      Lisbon        Portugal                               [Portuguese]\n",
       "22      Prague         Czechia                                    [Czech]\n",
       "23        Oslo          Norway                      [Nordmann, Norwegian]\n",
       "24    Helsinki         Finland                    [Finn, Finnic, Finnish]\n",
       "25   Edinburgh  United Kingdom                              [British, Uk]\n",
       "26      Geneva     Switzerland                                    [Swiss]\n",
       "27   Ljubljana        Slovenia                       [Slovene, Slovenian]\n",
       "28      Athens          Greece                 [Greek, Hellene, Hellenic]\n",
       "29  Luxembourg      Luxembourg  [Luxembourg, Luxembourger, Luxembourgish]\n",
       "30      Krakow          Poland                             [Pole, Polish]"
      ]
     },
     "execution_count": 75,
     "metadata": {},
     "output_type": "execute_result"
    }
   ],
   "source": [
    "city_state"
   ]
  },
  {
   "cell_type": "code",
   "execution_count": 76,
   "metadata": {},
   "outputs": [],
   "source": [
    "# Функция заполняет параметр native_cuisine.\n",
    "# ==1, если один из тегов Cuisine Style совпадает с прилагательными города\n",
    "def native(row):\n",
    "    result = 0\n",
    "    for i in city_state[city_state.city == row.City].adjectives.sum():\n",
    "        if i in row['Cuisine Style']:\n",
    "            result = 1\n",
    "    return result"
   ]
  },
  {
   "cell_type": "code",
   "execution_count": 77,
   "metadata": {},
   "outputs": [],
   "source": [
    "# Параметр native_cuisine отбражает евляется ли кухня национальной\n",
    "data['native_cuisine'] = data.apply(native, axis = 1)"
   ]
  },
  {
   "cell_type": "markdown",
   "metadata": {},
   "source": [
    "# Итог"
   ]
  },
  {
   "cell_type": "code",
   "execution_count": 78,
   "metadata": {},
   "outputs": [
    {
     "name": "stdout",
     "output_type": "stream",
     "text": [
      "<class 'pandas.core.frame.DataFrame'>\n",
      "Int64Index: 39980 entries, 0 to 39999\n",
      "Data columns (total 16 columns):\n",
      " #   Column             Non-Null Count  Dtype  \n",
      "---  ------             --------------  -----  \n",
      " 0   Restaurant_id      39980 non-null  object \n",
      " 1   City               39980 non-null  object \n",
      " 2   Cuisine Style      39980 non-null  object \n",
      " 3   Ranking            39980 non-null  float64\n",
      " 4   Rating             39980 non-null  float64\n",
      " 5   Price Range        26101 non-null  object \n",
      " 6   Number of Reviews  39980 non-null  float64\n",
      " 7   Reviews            39980 non-null  object \n",
      " 8   URL_TA             39980 non-null  object \n",
      " 9   ID_TA              39980 non-null  object \n",
      " 10  cuisine_amount     39980 non-null  int64  \n",
      " 11  review_dates       39980 non-null  object \n",
      " 12  review_time_span   39980 non-null  float64\n",
      " 13  visible_reviews    39980 non-null  int64  \n",
      " 14  review_wordbox     39980 non-null  object \n",
      " 15  valued_review      39980 non-null  float64\n",
      "dtypes: float64(5), int64(2), object(9)\n",
      "memory usage: 6.4+ MB\n"
     ]
    }
   ],
   "source": [
    "data[data.columns[0:16]].info()"
   ]
  },
  {
   "cell_type": "code",
   "execution_count": 79,
   "metadata": {},
   "outputs": [
    {
     "data": {
      "text/html": [
       "<div>\n",
       "<style scoped>\n",
       "    .dataframe tbody tr th:only-of-type {\n",
       "        vertical-align: middle;\n",
       "    }\n",
       "\n",
       "    .dataframe tbody tr th {\n",
       "        vertical-align: top;\n",
       "    }\n",
       "\n",
       "    .dataframe thead th {\n",
       "        text-align: right;\n",
       "    }\n",
       "</style>\n",
       "<table border=\"1\" class=\"dataframe\">\n",
       "  <thead>\n",
       "    <tr style=\"text-align: right;\">\n",
       "      <th></th>\n",
       "      <th>Ranking</th>\n",
       "      <th>Rating</th>\n",
       "      <th>Number of Reviews</th>\n",
       "      <th>cuisine_amount</th>\n",
       "      <th>review_time_span</th>\n",
       "      <th>visible_reviews</th>\n",
       "      <th>valued_review</th>\n",
       "    </tr>\n",
       "  </thead>\n",
       "  <tbody>\n",
       "    <tr>\n",
       "      <th>count</th>\n",
       "      <td>39980.000000</td>\n",
       "      <td>39980.000000</td>\n",
       "      <td>39980.000000</td>\n",
       "      <td>39980.000000</td>\n",
       "      <td>3.998000e+04</td>\n",
       "      <td>39980.000000</td>\n",
       "      <td>39980.000000</td>\n",
       "    </tr>\n",
       "    <tr>\n",
       "      <th>mean</th>\n",
       "      <td>3676.497249</td>\n",
       "      <td>3.992909</td>\n",
       "      <td>118.812331</td>\n",
       "      <td>2.622886</td>\n",
       "      <td>8.868474e+06</td>\n",
       "      <td>1.562731</td>\n",
       "      <td>0.504971</td>\n",
       "    </tr>\n",
       "    <tr>\n",
       "      <th>std</th>\n",
       "      <td>3709.500590</td>\n",
       "      <td>0.668471</td>\n",
       "      <td>287.116719</td>\n",
       "      <td>1.817709</td>\n",
       "      <td>1.716046e+07</td>\n",
       "      <td>0.754712</td>\n",
       "      <td>0.080828</td>\n",
       "    </tr>\n",
       "    <tr>\n",
       "      <th>min</th>\n",
       "      <td>1.000000</td>\n",
       "      <td>1.000000</td>\n",
       "      <td>2.000000</td>\n",
       "      <td>1.000000</td>\n",
       "      <td>0.000000e+00</td>\n",
       "      <td>0.000000</td>\n",
       "      <td>0.166667</td>\n",
       "    </tr>\n",
       "    <tr>\n",
       "      <th>25%</th>\n",
       "      <td>973.000000</td>\n",
       "      <td>3.500000</td>\n",
       "      <td>10.000000</td>\n",
       "      <td>1.000000</td>\n",
       "      <td>0.000000e+00</td>\n",
       "      <td>1.000000</td>\n",
       "      <td>0.500000</td>\n",
       "    </tr>\n",
       "    <tr>\n",
       "      <th>50%</th>\n",
       "      <td>2284.000000</td>\n",
       "      <td>4.000000</td>\n",
       "      <td>32.000000</td>\n",
       "      <td>2.000000</td>\n",
       "      <td>2.419200e+06</td>\n",
       "      <td>2.000000</td>\n",
       "      <td>0.500000</td>\n",
       "    </tr>\n",
       "    <tr>\n",
       "      <th>75%</th>\n",
       "      <td>5261.000000</td>\n",
       "      <td>4.500000</td>\n",
       "      <td>104.250000</td>\n",
       "      <td>4.000000</td>\n",
       "      <td>1.036800e+07</td>\n",
       "      <td>2.000000</td>\n",
       "      <td>0.500000</td>\n",
       "    </tr>\n",
       "    <tr>\n",
       "      <th>max</th>\n",
       "      <td>16444.000000</td>\n",
       "      <td>5.000000</td>\n",
       "      <td>9660.000000</td>\n",
       "      <td>21.000000</td>\n",
       "      <td>2.770848e+08</td>\n",
       "      <td>3.000000</td>\n",
       "      <td>0.857143</td>\n",
       "    </tr>\n",
       "  </tbody>\n",
       "</table>\n",
       "</div>"
      ],
      "text/plain": [
       "            Ranking        Rating  Number of Reviews  cuisine_amount  \\\n",
       "count  39980.000000  39980.000000       39980.000000    39980.000000   \n",
       "mean    3676.497249      3.992909         118.812331        2.622886   \n",
       "std     3709.500590      0.668471         287.116719        1.817709   \n",
       "min        1.000000      1.000000           2.000000        1.000000   \n",
       "25%      973.000000      3.500000          10.000000        1.000000   \n",
       "50%     2284.000000      4.000000          32.000000        2.000000   \n",
       "75%     5261.000000      4.500000         104.250000        4.000000   \n",
       "max    16444.000000      5.000000        9660.000000       21.000000   \n",
       "\n",
       "       review_time_span  visible_reviews  valued_review  \n",
       "count      3.998000e+04     39980.000000   39980.000000  \n",
       "mean       8.868474e+06         1.562731       0.504971  \n",
       "std        1.716046e+07         0.754712       0.080828  \n",
       "min        0.000000e+00         0.000000       0.166667  \n",
       "25%        0.000000e+00         1.000000       0.500000  \n",
       "50%        2.419200e+06         2.000000       0.500000  \n",
       "75%        1.036800e+07         2.000000       0.500000  \n",
       "max        2.770848e+08         3.000000       0.857143  "
      ]
     },
     "execution_count": 79,
     "metadata": {},
     "output_type": "execute_result"
    }
   ],
   "source": [
    "data[data.columns[0:16]].describe()"
   ]
  },
  {
   "cell_type": "code",
   "execution_count": 80,
   "metadata": {},
   "outputs": [
    {
     "data": {
      "text/plain": [
       "<matplotlib.axes._subplots.AxesSubplot at 0x7faf0b970a60>"
      ]
     },
     "execution_count": 80,
     "metadata": {},
     "output_type": "execute_result"
    },
    {
     "data": {
      "image/png": "[encoded data removed]",
      "text/plain": [
       "<Figure size 1080x1080 with 2 Axes>"
      ]
     },
     "metadata": {
      "needs_background": "light"
     },
     "output_type": "display_data"
    }
   ],
   "source": [
    "correlation = data[data.columns[0:17]].corr()\n",
    "ax = plt.subplots(figsize=(15, 15))\n",
    "sns.heatmap(correlation, annot=True, cmap='vlag', linewidths=1, center=0)"
   ]
  },
  {
   "cell_type": "code",
   "execution_count": 82,
   "metadata": {},
   "outputs": [],
   "source": [
    "data.to_csv('main_task_test.csv', index=False)"
   ]
  },
  {
   "cell_type": "code",
   "execution_count": null,
   "metadata": {},
   "outputs": [],
   "source": []
  }
 ],
 "metadata": {
  "kernelspec": {
   "display_name": "Python 3",
   "language": "python",
   "name": "python3"
  },
  "language_info": {
   "codemirror_mode": {
    "name": "ipython",
    "version": 3
   },
   "file_extension": ".py",
   "mimetype": "text/x-python",
   "name": "python",
   "nbconvert_exporter": "python",
   "pygments_lexer": "ipython3",
   "version": "3.8.3"
  }
 },
 "nbformat": 4,
 "nbformat_minor": 4
}
