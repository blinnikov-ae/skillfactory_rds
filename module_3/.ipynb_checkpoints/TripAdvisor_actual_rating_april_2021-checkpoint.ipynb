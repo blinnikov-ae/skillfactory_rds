{
 "cells": [
  {
   "cell_type": "code",
   "execution_count": 1,
   "id": "worldwide-demographic",
   "metadata": {},
   "outputs": [],
   "source": [
    "# Загрузка библиотек\n",
    "import pandas as pd\n",
    "import requests\n",
    "from bs4 import BeautifulSoup\n",
    "from tqdm import tqdm\n",
    "tqdm.pandas()"
   ]
  },
  {
   "cell_type": "code",
   "execution_count": 2,
   "id": "lasting-affiliate",
   "metadata": {},
   "outputs": [],
   "source": [
    "# Загрузка данных в переменные\n",
    "train = pd.read_csv('main_task.csv')\n",
    "valid = pd.read_csv('kaggle_task.csv')\n",
    "\n",
    "# Объединяем данные, помячая тренировочные\n",
    "train['train'] = 1\n",
    "valid['train'] = 0\n",
    "valid['Rating'] = 0.\n",
    "data = train.append(valid, sort=False).reset_index(drop=True)"
   ]
  },
  {
   "cell_type": "code",
   "execution_count": 3,
   "id": "labeled-present",
   "metadata": {},
   "outputs": [
    {
     "data": {
      "text/html": [
       "<div>\n",
       "<style scoped>\n",
       "    .dataframe tbody tr th:only-of-type {\n",
       "        vertical-align: middle;\n",
       "    }\n",
       "\n",
       "    .dataframe tbody tr th {\n",
       "        vertical-align: top;\n",
       "    }\n",
       "\n",
       "    .dataframe thead th {\n",
       "        text-align: right;\n",
       "    }\n",
       "</style>\n",
       "<table border=\"1\" class=\"dataframe\">\n",
       "  <thead>\n",
       "    <tr style=\"text-align: right;\">\n",
       "      <th></th>\n",
       "      <th>URL_TA</th>\n",
       "      <th>ID_TA</th>\n",
       "    </tr>\n",
       "  </thead>\n",
       "  <tbody>\n",
       "    <tr>\n",
       "      <th>13990</th>\n",
       "      <td>/Restaurant_Review-g187147-d8873382-Reviews-Le...</td>\n",
       "      <td>d8873382</td>\n",
       "    </tr>\n",
       "    <tr>\n",
       "      <th>2980</th>\n",
       "      <td>/Restaurant_Review-g187147-d13291091-Reviews-L...</td>\n",
       "      <td>d13291091</td>\n",
       "    </tr>\n",
       "    <tr>\n",
       "      <th>12958</th>\n",
       "      <td>/Restaurant_Review-g187849-d2308104-Reviews-Os...</td>\n",
       "      <td>d2308104</td>\n",
       "    </tr>\n",
       "    <tr>\n",
       "      <th>47676</th>\n",
       "      <td>/Restaurant_Review-g187147-d12321909-Reviews-L...</td>\n",
       "      <td>d12321909</td>\n",
       "    </tr>\n",
       "    <tr>\n",
       "      <th>2263</th>\n",
       "      <td>/Restaurant_Review-g187331-d1340196-Reviews-Ra...</td>\n",
       "      <td>d1340196</td>\n",
       "    </tr>\n",
       "  </tbody>\n",
       "</table>\n",
       "</div>"
      ],
      "text/plain": [
       "                                                  URL_TA      ID_TA\n",
       "13990  /Restaurant_Review-g187147-d8873382-Reviews-Le...   d8873382\n",
       "2980   /Restaurant_Review-g187147-d13291091-Reviews-L...  d13291091\n",
       "12958  /Restaurant_Review-g187849-d2308104-Reviews-Os...   d2308104\n",
       "47676  /Restaurant_Review-g187147-d12321909-Reviews-L...  d12321909\n",
       "2263   /Restaurant_Review-g187331-d1340196-Reviews-Ra...   d1340196"
      ]
     },
     "execution_count": 3,
     "metadata": {},
     "output_type": "execute_result"
    }
   ],
   "source": [
    "# Оставляем только необходимые данные\n",
    "for_processing = data.drop_duplicates('ID_TA')[['URL_TA', 'ID_TA']]\n",
    "for_processing.sample(5)"
   ]
  },
  {
   "cell_type": "code",
   "execution_count": 4,
   "id": "frozen-butterfly",
   "metadata": {},
   "outputs": [],
   "source": [
    "# Функция возвращает рейтинг для актуальных страниц ресторанов с TripAdvisor\n",
    "def contemporary_rating(url_ta):\n",
    "    try:\n",
    "        url = 'https://www.tripadvisor.com'+url_ta\n",
    "        response = requests.get(url, headers={'User-Agent': 'Mozilla/5.0'})\n",
    "        page = BeautifulSoup(response.text, 'html.parser')\n",
    "        return float(page.find('div', class_='Ct2OcWS4').text[:3])\n",
    "    except:\n",
    "        return None"
   ]
  },
  {
   "cell_type": "code",
   "execution_count": 5,
   "id": "ruled-forty",
   "metadata": {},
   "outputs": [
    {
     "name": "stderr",
     "output_type": "stream",
     "text": [
      "100%|██████████| 49963/49963 [26:36:22<00:00,  1.92s/it]   \n"
     ]
    }
   ],
   "source": [
    "# Применение функции\n",
    "for_processing['current_rating'] = for_processing.URL_TA.progress_apply(contemporary_rating)"
   ]
  },
  {
   "cell_type": "code",
   "execution_count": 8,
   "id": "mineral-commercial",
   "metadata": {},
   "outputs": [
    {
     "data": {
      "text/plain": [
       "4.0    15661\n",
       "4.5    12168\n",
       "3.5     8153\n",
       "3.0     3319\n",
       "5.0     2698\n",
       "2.5     1114\n",
       "2.0      510\n",
       "1.5      149\n",
       "1.0      129\n",
       "Name: current_rating, dtype: int64"
      ]
     },
     "execution_count": 8,
     "metadata": {},
     "output_type": "execute_result"
    }
   ],
   "source": [
    "# Значения в выгрузке\n",
    "for_processing.current_rating.value_counts()"
   ]
  },
  {
   "cell_type": "code",
   "execution_count": 26,
   "id": "synthetic-airline",
   "metadata": {},
   "outputs": [
    {
     "data": {
      "text/plain": [
       "0.12132978404018974"
      ]
     },
     "execution_count": 26,
     "metadata": {},
     "output_type": "execute_result"
    }
   ],
   "source": [
    "# Доля пропущенных значений\n",
    "for_processing[for_processing.current_rating.isna() == True].shape[0] / \\\n",
    "    for_processing.shape[0]"
   ]
  },
  {
   "cell_type": "code",
   "execution_count": 27,
   "id": "threatened-protein",
   "metadata": {},
   "outputs": [],
   "source": [
    "# Сохранение результатов\n",
    "for_processing.drop('URL_TA', axis = 1, inplace = True)\n",
    "for_processing.to_csv('TA_ratings_04_2021.csv', index=False)"
   ]
  }
 ],
 "metadata": {
  "kernelspec": {
   "display_name": "Python 3",
   "language": "python",
   "name": "python3"
  },
  "language_info": {
   "codemirror_mode": {
    "name": "ipython",
    "version": 3
   },
   "file_extension": ".py",
   "mimetype": "text/x-python",
   "name": "python",
   "nbconvert_exporter": "python",
   "pygments_lexer": "ipython3",
   "version": "3.8.8"
  }
 },
 "nbformat": 4,
 "nbformat_minor": 5
}
